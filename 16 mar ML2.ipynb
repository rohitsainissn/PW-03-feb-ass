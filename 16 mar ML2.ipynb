{
 "cells": [
  {
   "cell_type": "markdown",
   "id": "78a106ce",
   "metadata": {},
   "source": [
    "Q1: Define overfitting and underfitting in machine learning. What are the consequences of each, and how\n",
    "can they be mitigated?\n",
    "\n",
    "Ans Overfitting:- when model is performing good on training data but gives bad results in test data then underfitting is happned, consequences are that we cannot get the desired output to test data which is our main aim, we can use regularization term and use bagging technique, hyper parameter tuning to reduce overfitting, keneral trick can be used in svm.\n",
    "\n",
    "Underfitting:- When the model is unable to get the underlined trend and give poor performance in train as well as test then underfitting happened. We will not able to get the desired result, we can solve the problem by reducing extra unnecessary features, scaling data, removing outliers, using boosting techniques.\n",
    "\n",
    "Q2: How can we reduce overfitting? Explain in brief.\n",
    "Ans:-  we can use regularization term and bagging technique to reduce overfitting and hyperparameter tuning, we can use drop layer in nural layer and pruning in decision tree to reduce overfitting.\n",
    "\n",
    "Q3: Explain underfitting. List scenarios where underfitting can occur in ML.\n",
    "\n",
    "Ans:- When model is not able to find the underlined trend then underfitting occured like when k value is very high in knn method the model is underfitted, when we are using linear regression and the data is not linearly separated hence we have to use lasso and ridge to overcome this problem.\n",
    "\n",
    "Q4: Explain the bias-variance tradeoff in machine learning. What is the relationship between bias and\n",
    "variance, and how do they affect model performance?\n",
    "\n",
    "Ans:- we want to develop a model which gives least error, and error = bias^2 + variance. In case of overfitting when bias is low but due to variance we are getting poor performance , we need to increase our bias by making more generalized model so that variance get increase and overall result gets improve, similarly sometimes to increase the bias we need to sharpen our model by using models like decision tree.\n",
    "\n",
    "Q5: Discuss some common methods for detecting overfitting and underfitting in machine learning models.\n",
    "How can you determine whether your model is overfitting or underfitting?\n",
    "\n",
    "Ans:- when model is performing good on training data but gives bad results in test data then underfitting is happned\n",
    "\n",
    " When the model is unable to get the underlined trend and give poor performance in train as well as test then underfitting happened.\n",
    "\n",
    "Q6: Compare and contrast bias and variance in machine learning. What are some examples of high bias\n",
    "and high variance models, and how do they differ in terms of their performance?\n",
    "\n",
    "Ans:- we want to develop a model which gives least error, and error = bias^2 + variance. In case of overfitting when bias is low but due to variance we are getting poor performance , we need to increase our bias by making more generalized model so that variance get increase and overall result gets improve, similarly sometimes to increase the bias we need to sharpen our model by using models like decision tree.\n",
    "Q7: What is regularization in machine learning, and how can it be used to prevent overfitting? Describe\n",
    "some common regularization techniques and how they work."
   ]
  }
 ],
 "metadata": {
  "kernelspec": {
   "display_name": "Python 3 (ipykernel)",
   "language": "python",
   "name": "python3"
  },
  "language_info": {
   "codemirror_mode": {
    "name": "ipython",
    "version": 3
   },
   "file_extension": ".py",
   "mimetype": "text/x-python",
   "name": "python",
   "nbconvert_exporter": "python",
   "pygments_lexer": "ipython3",
   "version": "3.9.9"
  }
 },
 "nbformat": 4,
 "nbformat_minor": 5
}
