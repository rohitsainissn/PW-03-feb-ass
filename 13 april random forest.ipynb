{
 "cells": [
  {
   "cell_type": "markdown",
   "id": "40ae683e",
   "metadata": {},
   "source": [
    "Q1. What is Random Forest Regressor?\n",
    "\n",
    "\n",
    "Q2. How does Random Forest Regressor reduce the risk of overfitting?\n",
    "\n",
    "Q3. How does Random Forest Regressor aggregate the predictions of multiple decision trees?\n",
    "\n",
    "Q4. What are the hyperparameters of Random Forest Regressor?\n",
    "\n",
    "Q5. What is the difference between Random Forest Regressor and Decision Tree Regressor?\n",
    "\n",
    "Q6. What are the advantages and disadvantages of Random Forest Regressor?\n",
    "\n",
    "Q7. What is the output of Random Forest Regressor?\n",
    "\n",
    "Q8. Can Random Forest Regressor be used for classification tasks?"
   ]
  },
  {
   "cell_type": "markdown",
   "id": "bb6e887b",
   "metadata": {},
   "source": [
    "Q1. Random Forest Regressor is a machine learning algorithm that belongs to the family of ensemble methods. It combines multiple decision trees to create a powerful prediction model that can be used for regression tasks. It is similar to Random Forest Classifier but at the end the output is the average of all the values of all decision trees arranged in parallel who are trained on randomly sellected raw and sample.\n",
    "\n",
    "Q2. Random Forest Regressor reduces the risk of overfitting by randomly selecting a subset of features and a subset of data samples for each tree in the forest. By doing this, the model is less likely to memorize noise in the data and can generalize better to unseen data. multiple decision trees are used and its average is used how are trained on randomly sellected database hence it reduce overfitting.\n",
    "\n",
    "Q3. Random Forest Regressor aggregates the predictions of multiple decision trees by taking the average of their individual predictions. This is also known as the \"wisdom of crowds\" approach, where the collective opinion of multiple individuals is more reliable than that of a single individual.\n",
    "\n",
    "Q4. Some of the hyperparameters of Random Forest Regressor include:\n",
    "\n",
    "n_estimators: the number of trees in the forest.\n",
    "max_depth: the maximum depth of each decision tree.\n",
    "max_features: the maximum number of features to consider when splitting a node.\n",
    "min_samples_split: the minimum number of samples required to split a node.\n",
    "min_samples_leaf: the minimum number of samples required to be at a leaf node.\n",
    "\n",
    "\n",
    "Q5. The main difference between Random Forest Regressor and Decision Tree Regressor is that Random Forest Regressor uses an ensemble of decision trees, while Decision Tree Regressor uses a single decision tree. Random Forest Regressor is less prone to overfitting and can handle higher-dimensional data, while Decision Tree Regressor is simpler and easier to interpret.\n",
    "\n",
    "Q6. The advantages of Random Forest Regressor include:\n",
    "\n",
    "High accuracy and generalization performance.\n",
    "Robustness to noise and outliers.\n",
    "Ability to handle high-dimensional data and a large number of features.\n",
    "Easy to use and implement.\n",
    "The disadvantages of Random Forest Regressor include:\n",
    "\n",
    "Computationally expensive to train and test.\n",
    "May require tuning of hyperparameters to achieve optimal performance.\n",
    "The model can be difficult to interpret and understand.\n",
    "\n",
    "Q7. The output of Random Forest Regressor is a continuous numerical value, which represents the predicted target variable for a given set of input features.\n",
    "\n",
    "Q8. Yes, Random Forest Regressor can also be used for classification tasks by modifying the algorithm to predict categorical labels instead of continuous numerical values. This variant of the algorithm is called Random Forest Classifier."
   ]
  }
 ],
 "metadata": {
  "kernelspec": {
   "display_name": "Python 3 (ipykernel)",
   "language": "python",
   "name": "python3"
  },
  "language_info": {
   "codemirror_mode": {
    "name": "ipython",
    "version": 3
   },
   "file_extension": ".py",
   "mimetype": "text/x-python",
   "name": "python",
   "nbconvert_exporter": "python",
   "pygments_lexer": "ipython3",
   "version": "3.9.9"
  }
 },
 "nbformat": 4,
 "nbformat_minor": 5
}
