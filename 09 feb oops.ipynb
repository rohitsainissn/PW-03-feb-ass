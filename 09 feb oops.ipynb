{
 "cells": [
  {
   "cell_type": "markdown",
   "id": "40d824ad",
   "metadata": {},
   "source": [
    "Q1, Create a vehicle class with an init method having instance variables as name_of_vehicle, max_speed\n",
    "and average_of_vehicle.\n",
    "\n"
   ]
  },
  {
   "cell_type": "code",
   "execution_count": 1,
   "id": "4d78d332",
   "metadata": {},
   "outputs": [],
   "source": [
    "class vehicle:\n",
    "    def __init__(self, name_of_vehicle, max_speed, average_of_vehicle):\n",
    "        self.name_of_vehicle = name_of_vehicle\n",
    "        self.max_speed = max_speed\n",
    "        self.average_of_vehicle= average_of_vehicle"
   ]
  },
  {
   "cell_type": "markdown",
   "id": "8c6c5011",
   "metadata": {},
   "source": [
    "\n",
    "Q2. Create a child class car from the vehicle class created in Que 1, which will inherit the vehicle class.\n",
    "Create a method named seating_capacity which takes capacity as an argument and returns the name of\n",
    "the vehicle and its seating capacity.\n",
    "\n",
    "\n",
    "\n",
    "\n",
    "\n",
    "\n",
    "\n"
   ]
  },
  {
   "cell_type": "code",
   "execution_count": 2,
   "id": "3b3e29b9",
   "metadata": {},
   "outputs": [],
   "source": [
    "class car(vehicle):\n",
    "    def seating_capacity (self,seating_cap):\n",
    "        self.seating_cap= seating_cap\n",
    "        return self.name_of_vehicle, self.seating_cap"
   ]
  },
  {
   "cell_type": "code",
   "execution_count": 3,
   "id": "3acfbea3",
   "metadata": {},
   "outputs": [
    {
     "data": {
      "text/plain": [
       "('waganr', 5)"
      ]
     },
     "execution_count": 3,
     "metadata": {},
     "output_type": "execute_result"
    }
   ],
   "source": [
    "rohit = car('waganr',120,33)\n",
    "rohit.seating_capacity(5)"
   ]
  },
  {
   "cell_type": "markdown",
   "id": "51d37fd4",
   "metadata": {},
   "source": [
    "Q3. What is multiple inheritance? Write a python code to demonstrate multiple inheritance."
   ]
  },
  {
   "cell_type": "code",
   "execution_count": 4,
   "id": "fe838acd",
   "metadata": {},
   "outputs": [
    {
     "data": {
      "text/plain": [
       "('road', 'cng', 'maruti', 'waganr')"
      ]
     },
     "execution_count": 4,
     "metadata": {},
     "output_type": "execute_result"
    }
   ],
   "source": [
    "class vehicles:               #parent_class\n",
    "    def __init__(s,mode,fuel):\n",
    "        s.mode = mode\n",
    "        s.fuel = fuel\n",
    "    \n",
    "class car(vehicles):       #child_class\n",
    "    def __init__(s,mode,fuel,brand):\n",
    "        super().__init__(mode,fuel)\n",
    "        s.brand = brand\n",
    "class maruti (car):      #grand child class\n",
    "    def __init__ (s,mode,fuel,brand,name):\n",
    "        super().__init__(mode,fuel,brand)\n",
    "        s.name = name\n",
    "    def print_details(s):\n",
    "        return (s.mode,s.fuel,s.brand,s.name)\n",
    "waganr = maruti('road','cng','maruti','waganr')\n",
    "waganr.print_details()"
   ]
  },
  {
   "cell_type": "markdown",
   "id": "10855d35",
   "metadata": {},
   "source": [
    "Q4. What are getter and setter in python? Create a class and create a getter and a setter method in this\n",
    "class."
   ]
  },
  {
   "cell_type": "markdown",
   "id": "084cd066",
   "metadata": {},
   "source": [
    "We use encapsulation in oops to hide some parameters to the other users so that no one could alter the values and only the primary users could change the value by knowing the class and the private variable name defined in class.\n",
    "\n",
    "But some time we need to give limited access to other users like they can see the value of the variable without knowing the name of variable. so that the other users cannot change the value. so we use getter method where we make a function defined to give the value of that variable shown in below code.\n",
    "\n",
    "Similarly we can allow other users  to change the value of a specific function with some conditions without knowing the name of the variable we use setter method. Example is shown in below code:-"
   ]
  },
  {
   "cell_type": "code",
   "execution_count": 5,
   "id": "01ed4b93",
   "metadata": {},
   "outputs": [
    {
     "name": "stdout",
     "output_type": "stream",
     "text": [
      "1000\n"
     ]
    },
    {
     "data": {
      "text/plain": [
       "1001"
      ]
     },
     "execution_count": 5,
     "metadata": {},
     "output_type": "execute_result"
    }
   ],
   "source": [
    "class bank:\n",
    "\n",
    "    def __init__(self,name, id, balance):\n",
    "\n",
    "        self.name = name\n",
    "\n",
    "        self._id = id\n",
    "\n",
    "        self._balance = balance\n",
    "\n",
    "    def get_bal (self):     # getter function\n",
    "\n",
    "        return self._balance\n",
    "\n",
    "    def add_bal (self,x):   # setter function\n",
    "\n",
    "        self._balance = self._balance + x\n",
    "\n",
    "        \n",
    "\n",
    "rohit = bank('rohit',12,1000)\n",
    "\n",
    "rohit.name\n",
    "\n",
    "print(rohit.get_bal())\n",
    "\n",
    "rohit.add_bal(1)\n",
    "\n",
    "rohit.get_bal()"
   ]
  },
  {
   "cell_type": "markdown",
   "id": "7cbebe11",
   "metadata": {},
   "source": [
    "\n",
    "Q5.What is method overriding in python? Write a python code to demonstrate method overriding."
   ]
  },
  {
   "cell_type": "markdown",
   "id": "33585fb6",
   "metadata": {},
   "source": [
    "When we have same method in subclass  and parent class then the method is overriden in subclass as a result for parent class method of parent class is used, for subclass overriden medhod present in subclass is used."
   ]
  },
  {
   "cell_type": "code",
   "execution_count": 6,
   "id": "82e08833",
   "metadata": {},
   "outputs": [],
   "source": [
    "class college:\n",
    "\n",
    "    def __init__(self,branch,clg_name):\n",
    "\n",
    "        self.branch = branch\n",
    "\n",
    "        self.clg_name = clg_name\n",
    "\n",
    "    def print_details(self):\n",
    "\n",
    "        return(self.branch)\n",
    "\n",
    "class dtu(college):\n",
    "\n",
    "    def print_details(self):\n",
    "\n",
    "        return(self.branch)\n",
    "\n",
    "rohit = dtu('production','dtu')\n",
    "\n",
    "Dtu = college('engineering', 'delhi technological university')"
   ]
  },
  {
   "cell_type": "code",
   "execution_count": 7,
   "id": "8a42fa4b",
   "metadata": {},
   "outputs": [
    {
     "data": {
      "text/plain": [
       "'production'"
      ]
     },
     "execution_count": 7,
     "metadata": {},
     "output_type": "execute_result"
    }
   ],
   "source": [
    "rohit.print_details()"
   ]
  },
  {
   "cell_type": "code",
   "execution_count": 8,
   "id": "9a21f9bd",
   "metadata": {},
   "outputs": [
    {
     "data": {
      "text/plain": [
       "'engineering'"
      ]
     },
     "execution_count": 8,
     "metadata": {},
     "output_type": "execute_result"
    }
   ],
   "source": [
    "Dtu.print_details()"
   ]
  },
  {
   "cell_type": "code",
   "execution_count": null,
   "id": "c5911ac1",
   "metadata": {},
   "outputs": [],
   "source": []
  }
 ],
 "metadata": {
  "kernelspec": {
   "display_name": "Python 3 (ipykernel)",
   "language": "python",
   "name": "python3"
  },
  "language_info": {
   "codemirror_mode": {
    "name": "ipython",
    "version": 3
   },
   "file_extension": ".py",
   "mimetype": "text/x-python",
   "name": "python",
   "nbconvert_exporter": "python",
   "pygments_lexer": "ipython3",
   "version": "3.9.9"
  }
 },
 "nbformat": 4,
 "nbformat_minor": 5
}
