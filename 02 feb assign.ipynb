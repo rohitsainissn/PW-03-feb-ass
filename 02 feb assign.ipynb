{
 "cells": [
  {
   "cell_type": "markdown",
   "id": "ae5ccf4f",
   "metadata": {},
   "source": [
    "Q1. What are the characteristics of the tuples? Is tuple immutable?\n",
    "Ans:- tuples are ordered, immutable, iterable, indexed, can contain dublicate values, can contain sublist, subdict.\n",
    "        Yes, tuple are immutable, we cannot change its value.\n"
   ]
  },
  {
   "cell_type": "markdown",
   "id": "d7360f26",
   "metadata": {},
   "source": [
    "        \n",
    "Q2. What are the two tuple methods in python? Give an example of each method. Give a reason why\n",
    "tuples have only two in-built methods as compared to Lists.\n",
    "Ans:- Count() and index() are two tuple method to count the no of times a specific value come and to know the index value of a specific value respectively.\n"
   ]
  },
  {
   "cell_type": "code",
   "execution_count": 1,
   "id": "82146326",
   "metadata": {},
   "outputs": [
    {
     "name": "stdout",
     "output_type": "stream",
     "text": [
      "2\n",
      "0\n"
     ]
    }
   ],
   "source": [
    "a = (1,1,2,3,4,4,5,5,5,6,[1,2,3,4])\n",
    "print(a.count(1))\n",
    "print(a.index(1))"
   ]
  },
  {
   "cell_type": "markdown",
   "id": "4bb6a7b4",
   "metadata": {},
   "source": [
    "Q3. Which collection datatypes in python do not allow duplicate items? Write a code using a set to remove\n",
    "duplicates from the given list.\n",
    "Lis = [1, 1, 1, 2, 1, 3, 1, 4, 2, 1, 2, 2, 2, 3, 2, 4, 3, 1, 3, 2, 3, 3, 3, 4, 4, 1, 4, 2, 4, 3, 4, 4]\n",
    "\n",
    "Ans:- a set do not allow duplicate items.\n"
   ]
  },
  {
   "cell_type": "code",
   "execution_count": 2,
   "id": "90c5a4fc",
   "metadata": {},
   "outputs": [
    {
     "data": {
      "text/plain": [
       "{1, 2, 3, 4}"
      ]
     },
     "execution_count": 2,
     "metadata": {},
     "output_type": "execute_result"
    }
   ],
   "source": [
    "set_noduplicate = {1, 1, 1, 2, 1, 3, 1, 4, 2, 1, 2, 2, 2, 3, 2, 4, 3, 1, 3, 2, 3, 3, 3, 4, 4, 1, 4, 2, 4, 3, 4, 4}\n",
    "set_noduplicate"
   ]
  },
  {
   "cell_type": "markdown",
   "id": "ea2532e8",
   "metadata": {},
   "source": [
    "Q4. Explain the difference between the union() and update() methods for a set. Give an example of\n",
    "each method.\n",
    "\n",
    "Ans:- union() function creats a new set which contain all the values of both sets however update() add the addition values to the existing set which was not present earlier and only there in another set."
   ]
  },
  {
   "cell_type": "code",
   "execution_count": 3,
   "id": "c7351696",
   "metadata": {},
   "outputs": [
    {
     "name": "stdout",
     "output_type": "stream",
     "text": [
      "{1, 2, 3} and {1, 2, 3, 4, 5} before update function\n",
      "{1, 2, 3, 4, 5} and {1, 2, 3, 4, 5} after update function\n"
     ]
    }
   ],
   "source": [
    "a = {1,2,3}\n",
    "b = {3,4,5}\n",
    "c = a.union(b)\n",
    "print(f'{a} and {c} before update function')\n",
    "a.update(b)\n",
    "print(f'{a} and {c} after update function')"
   ]
  },
  {
   "cell_type": "markdown",
   "id": "7a95846f",
   "metadata": {},
   "source": [
    "Q5. What is a dictionary? Give an example. Also, state whether a dictionary is ordered or unordered.\n",
    "\n",
    "Ans:- Dictionary contain key and value pair, it works on hash table, very efficient in time complexity, have time complexity of order 0, one key can not be repeated.\n",
    "Dictionary is unordered.\n"
   ]
  },
  {
   "cell_type": "code",
   "execution_count": 4,
   "id": "594380a5",
   "metadata": {},
   "outputs": [
    {
     "data": {
      "text/plain": [
       "1"
      ]
     },
     "execution_count": 4,
     "metadata": {},
     "output_type": "execute_result"
    }
   ],
   "source": [
    "#     example:\n",
    "dic ={1:1,2:4,3:9,4:16,'rohit':[1,2,3,4,5]}    \n",
    "dic[1]"
   ]
  },
  {
   "cell_type": "markdown",
   "id": "b603d318",
   "metadata": {},
   "source": [
    "Q6. Can we create a nested dictionary? If so, please give an example by creating a simple one-level\n",
    "nested dictionary.\n",
    "\n",
    "Ans:- Yes"
   ]
  },
  {
   "cell_type": "code",
   "execution_count": 5,
   "id": "134c358e",
   "metadata": {},
   "outputs": [
    {
     "data": {
      "text/plain": [
       "27"
      ]
     },
     "execution_count": 5,
     "metadata": {},
     "output_type": "execute_result"
    }
   ],
   "source": [
    "# Example\n",
    "dic= {1:1,2:4,'cube':{1:1,2:8,3:27}}\n",
    "dic['cube'][3]"
   ]
  },
  {
   "cell_type": "markdown",
   "id": "9e73ead9",
   "metadata": {},
   "source": [
    "Q7. Using setdefault() method, create key named topics in the given dictionary and also add the value of\n",
    "the key as this list ['Python', 'Machine Learning’, 'Deep Learning'] in \n",
    "dict1 = {'language' : 'Python', 'course': 'Data Science Masters'}"
   ]
  },
  {
   "cell_type": "code",
   "execution_count": 6,
   "id": "9754e54c",
   "metadata": {},
   "outputs": [
    {
     "data": {
      "text/plain": [
       "{'language': 'Python',\n",
       " 'course': 'Data Science Masters',\n",
       " 'topic': ['Python', 'Machine Learning', 'Deep Learning']}"
      ]
     },
     "execution_count": 6,
     "metadata": {},
     "output_type": "execute_result"
    }
   ],
   "source": [
    "dict1 = {'language' : 'Python', 'course': 'Data Science Masters'}\n",
    "dict1.setdefault('topic',['Python', 'Machine Learning', 'Deep Learning'])\n",
    "dict1"
   ]
  },
  {
   "cell_type": "markdown",
   "id": "63f362e7",
   "metadata": {},
   "source": [
    "Q8. What are the three view objects in dictionaries? Use the three in-built methods in python to display\n",
    "these three view objects for the given dictionary.\n",
    "dict1 = {'Sport': 'Cricket' , 'Teams': ['India', 'Australia', 'England', 'South Africa', 'Sri Lanka', 'New Zealand']}"
   ]
  },
  {
   "cell_type": "code",
   "execution_count": 7,
   "id": "0cf0d262",
   "metadata": {},
   "outputs": [
    {
     "name": "stdout",
     "output_type": "stream",
     "text": [
      "dict_keys(['Sport', 'Teams'])\n",
      "dict_values(['Cricket', ['India', 'Australia', 'England', 'South Africa', 'Sri Lanka', 'New Zealand']])\n",
      "dict_items([('Sport', 'Cricket'), ('Teams', ['India', 'Australia', 'England', 'South Africa', 'Sri Lanka', 'New Zealand'])])\n"
     ]
    }
   ],
   "source": [
    "# Three view objects are keys(), values(), items()\n",
    "dict1 = {'Sport': 'Cricket' , 'Teams': ['India', 'Australia', 'England', 'South Africa', 'Sri Lanka', 'New Zealand']}\n",
    "print(dict1.keys())\n",
    "print(dict1.values())\n",
    "print(dict1.items())"
   ]
  },
  {
   "cell_type": "code",
   "execution_count": null,
   "id": "4eff4134",
   "metadata": {},
   "outputs": [],
   "source": []
  }
 ],
 "metadata": {
  "kernelspec": {
   "display_name": "Python 3 (ipykernel)",
   "language": "python",
   "name": "python3"
  },
  "language_info": {
   "codemirror_mode": {
    "name": "ipython",
    "version": 3
   },
   "file_extension": ".py",
   "mimetype": "text/x-python",
   "name": "python",
   "nbconvert_exporter": "python",
   "pygments_lexer": "ipython3",
   "version": "3.9.9"
  }
 },
 "nbformat": 4,
 "nbformat_minor": 5
}
