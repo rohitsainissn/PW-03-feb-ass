{
 "cells": [
  {
   "cell_type": "markdown",
   "id": "43a8916e",
   "metadata": {},
   "source": []
  },
  {
   "cell_type": "markdown",
   "id": "f56309bb",
   "metadata": {},
   "source": [
    "Q1: What is Estimation Statistics? Explain point estimate and interval estimate.\n",
    "\n",
    "Ans:- Estimation statistics is a branch of statistics that deals with the estimation of population parameters based on sample statistics.\n",
    "\n",
    "A point estimate is a single value that is used to estimate an unknown population parameter. For example, if we are interested in estimating the average height of all students in a university, we can take a sample of students and compute the average height of the sample to estimate the population average height. The sample average is the point estimate of the population average.\n",
    "\n",
    "An interval estimate, on the other hand, is a range of values within which the population parameter is expected to lie. It provides more information than a point estimate because it accounts for the uncertainty associated with the estimation process. Confidence intervals and prediction intervals are two types of interval estimates commonly used in statistics. Confidence intervals provide a range of values that are likely to contain the population parameter with a specified level of confidence, while prediction intervals provide a range of values that are likely to contain a future observation with a specified level of confidence.\n",
    "\n",
    "In summary, point estimates give a single value that estimates an unknown population parameter, while interval estimates provide a range of values that are likely to contain the population parameter or future observations.\n",
    "\n",
    "\n",
    "\n",
    "\n",
    "\n"
   ]
  },
  {
   "cell_type": "markdown",
   "id": "13928a56",
   "metadata": {},
   "source": [
    "Q2. Write a Python function to estimate the population mean using a sample mean and standard deviation.\n"
   ]
  },
  {
   "cell_type": "code",
   "execution_count": 1,
   "id": "481db576",
   "metadata": {},
   "outputs": [],
   "source": [
    "import math\n",
    "def estimate_population_mean(sample_mean, sample_std, sample_size):\n",
    "    # Calculate the standard error of the mean\n",
    "    standard_error = sample_std / math.sqrt(sample_size)\n",
    "    \n",
    "    # Calculate the margin of error (using a 95% confidence interval)\n",
    "    margin_of_error = 1.96 * standard_error\n",
    "    \n",
    "    # Calculate the lower and upper bounds of the confidence interval\n",
    "    lower_bound = sample_mean - margin_of_error\n",
    "    upper_bound = sample_mean + margin_of_error\n",
    "    \n",
    "    # Return the estimated population mean\n",
    "    return (lower_bound + upper_bound) / 2"
   ]
  },
  {
   "cell_type": "markdown",
   "id": "23cff66b",
   "metadata": {},
   "source": [
    "Q3: What is Hypothesis testing? Why is it used? State the importance of Hypothesis testing.\n",
    "\n",
    "Ans:- Hypothesis testing is a process to test the proposed condition about the population is true or not by taking a sample from the population and deriving results form studing the sample.\n",
    "\n",
    "To pridict something about the population and test whether it is correct or not is not possible by taking data from all the population as the population can be in billions, hence we take a small sample and on the basis of the sample we gives prediction about the population."
   ]
  },
  {
   "cell_type": "markdown",
   "id": "390df303",
   "metadata": {},
   "source": [
    "Q4. Create a hypothesis that states whether the average weight of male college students is greater than the average weight of female college students.\n",
    "\n",
    "Ans;- Ho = average weight of male <=  avg weight of female\n",
    "H alt = average weight of male >  avg weight of female"
   ]
  },
  {
   "cell_type": "markdown",
   "id": "7bf6be9f",
   "metadata": {},
   "source": [
    "Q5. Write a Python script to conduct a hypothesis test on the difference between two population means, given a sample from each population."
   ]
  },
  {
   "cell_type": "code",
   "execution_count": 2,
   "id": "fbc7dfce",
   "metadata": {},
   "outputs": [
    {
     "name": "stdout",
     "output_type": "stream",
     "text": [
      "The t-test statistic is: 5.732465178681283\n",
      "The p-value is: 1.9582329424803025e-05\n",
      "We reject the null hypothesis that there is no significant difference between the average weight of male and female college students.\n"
     ]
    }
   ],
   "source": [
    "import scipy.stats as stats\n",
    "\n",
    "# Enter sample data for male and female weights\n",
    "male_weights = [80, 85, 90, 75, 70, 92, 88, 83, 79, 85]\n",
    "female_weights = [65, 68, 72, 70, 75, 62, 66, 68, 71, 69]\n",
    "\n",
    "# Calculate the mean and standard deviation of male and female weights\n",
    "male_mean = sum(male_weights) / len(male_weights)\n",
    "male_std = stats.tstd(male_weights)\n",
    "female_mean = sum(female_weights) / len(female_weights)\n",
    "female_std = stats.tstd(female_weights)\n",
    "\n",
    "# Calculate the t-test statistic and p-value\n",
    "t_stat, p_val = stats.ttest_ind_from_stats(male_mean, male_std, len(male_weights),\n",
    "                                           female_mean, female_std, len(female_weights))\n",
    "\n",
    "# Output the results\n",
    "print(\"The t-test statistic is:\", t_stat)\n",
    "print(\"The p-value is:\", p_val)\n",
    "if p_val < 0.05:\n",
    "    print(\"We reject the null hypothesis that there is no significant difference between the average weight of male and female college students.\")\n",
    "else:\n",
    "    print(\"We fail to reject the null hypothesis that there is no significant difference between the average weight of male and female college students.\")\n"
   ]
  },
  {
   "cell_type": "markdown",
   "id": "7f2738db",
   "metadata": {},
   "source": [
    "Q6: What is a null and alternative hypothesis? Give some examples.\n",
    "\n",
    "statement :- avegage age is 12, rohan says average age is higher than 12.\n",
    "\n",
    "H0 = avg age <=12\n",
    "\n",
    "H alt = avg age >12\n",
    "\n",
    "\n",
    "statement :- avegage age is 12, rohan says average age is not equall to  12.\n",
    "\n",
    "H0 = avg age !=12\n",
    "\n",
    "H alt = avg age = 12\n",
    "\n",
    "statement :- avegage age is 12, rohan says average age is lower than 12.\n",
    "\n",
    "H0 = avg age >=12\n",
    "\n",
    "H alt = avg age < 12"
   ]
  },
  {
   "cell_type": "markdown",
   "id": "807e932a",
   "metadata": {},
   "source": [
    "Q7: Write down the steps involved in hypothesis testing.\n",
    "    \n",
    "Ans:- steps are :-\n",
    "\n",
    "1) Formation of nul and alternative hypothesis\n",
    "2) collecting sample size.\n",
    "3) applying z or t test as per sample available\n",
    "4) creating confidence intervals where null hypotheses is valie\n",
    "5) check the sample mean lies in confidence interval or not.\n",
    "6) accept or reject nul hypothesis based on confidence interval."
   ]
  },
  {
   "cell_type": "markdown",
   "id": "5acc948a",
   "metadata": {},
   "source": [
    "Q8. Define p-value and explain its significance in hypothesis testing.\n",
    "\n",
    "Ans:- p-value tells the area under the standard distribution or in other words it is the probability of occuring of the value lying in the distribution, it is very significant as if we have to check whether the given value is part of a perticular population data, we decide a confidence interval as per our requirement i.e. 95% means that we need a p value more than 5% i.e. the probability of occuring the specific value must be atleast 5%, otherwise we will consider that value do not belong to the population."
   ]
  },
  {
   "cell_type": "markdown",
   "id": "3790a503",
   "metadata": {},
   "source": []
  },
  {
   "cell_type": "markdown",
   "id": "47972773",
   "metadata": {},
   "source": [
    "Q9. Generate a Student's t-distribution plot using Python's matplotlib library, with the degrees of freedom parameter set to 10."
   ]
  },
  {
   "cell_type": "code",
   "execution_count": 3,
   "id": "10758e38",
   "metadata": {},
   "outputs": [
    {
     "data": {
      "image/png": "[encoded data removed]",
      "text/plain": [
       "<Figure size 640x480 with 1 Axes>"
      ]
     },
     "metadata": {},
     "output_type": "display_data"
    }
   ],
   "source": [
    "import numpy as np\n",
    "import matplotlib.pyplot as plt\n",
    "from scipy.stats import t\n",
    "\n",
    "# Generate data points\n",
    "x = np.linspace(-4, 4, 1000)\n",
    "\n",
    "# Calculate the probability density function (pdf) using t-distribution\n",
    "df = 10  # Degrees of freedom\n",
    "y = t.pdf(x, df)\n",
    "\n",
    "# Plotting\n",
    "plt.plot(x, y, label=f\"t-distribution (df={df})\")\n",
    "plt.xlabel('x')\n",
    "plt.ylabel('Probability Density')\n",
    "plt.title(\"Student's t-distribution\")\n",
    "plt.legend()\n",
    "plt.grid(True)\n",
    "plt.show()\n"
   ]
  },
  {
   "cell_type": "markdown",
   "id": "fd2a5982",
   "metadata": {},
   "source": [
    "Q10. Write a Python program to calculate the two-sample t-test for independent samples, given two random samples of equal size and a null hypothesis that the population means are equal."
   ]
  },
  {
   "cell_type": "code",
   "execution_count": 4,
   "id": "804ef8ca",
   "metadata": {},
   "outputs": [
    {
     "name": "stdout",
     "output_type": "stream",
     "text": [
      "Sample 1 mean: 1.3599999999999999\n",
      "Sample 2 mean: 1.4\n",
      "T-statistic: -0.21504133222818833\n",
      "P-value: 0.8351158396816136\n"
     ]
    }
   ],
   "source": [
    "import numpy as np\n",
    "from scipy.stats import t\n",
    "\n",
    "# Define the two random samples\n",
    "sample1 = np.array([1.2, 1.8, 0.9, 1.6, 1.3])\n",
    "sample2 = np.array([1.1, 1.5, 1.3, 1.7, 1.4])\n",
    "\n",
    "# Calculate the means and standard deviations\n",
    "mean1 = np.mean(sample1)\n",
    "mean2 = np.mean(sample2)\n",
    "std1 = np.std(sample1, ddof=1)\n",
    "std2 = np.std(sample2, ddof=1)\n",
    "\n",
    "# Calculate the degrees of freedom\n",
    "n1 = len(sample1)\n",
    "n2 = len(sample2)\n",
    "df = n1 + n2 - 2\n",
    "\n",
    "# Calculate the pooled standard deviation\n",
    "pooled_std = np.sqrt(((n1 - 1) * std1**2 + (n2 - 1) * std2**2) / df)\n",
    "\n",
    "# Calculate the t-statistic\n",
    "t_statistic = (mean1 - mean2) / (pooled_std * np.sqrt(1/n1 + 1/n2))\n",
    "\n",
    "# Calculate the p-value\n",
    "p_value = 2 * (1 - t.cdf(np.abs(t_statistic), df))\n",
    "\n",
    "# Print the results\n",
    "print(f\"Sample 1 mean: {mean1}\")\n",
    "print(f\"Sample 2 mean: {mean2}\")\n",
    "print(f\"T-statistic: {t_statistic}\")\n",
    "print(f\"P-value: {p_value}\")\n"
   ]
  },
  {
   "cell_type": "code",
   "execution_count": 5,
   "id": "14eb538a",
   "metadata": {},
   "outputs": [
    {
     "data": {
      "text/plain": [
       "0.3507135583350037"
      ]
     },
     "execution_count": 5,
     "metadata": {},
     "output_type": "execute_result"
    }
   ],
   "source": [
    "np.std(sample1, ddof=1)\n"
   ]
  },
  {
   "cell_type": "code",
   "execution_count": 6,
   "id": "7cf9e899",
   "metadata": {},
   "outputs": [
    {
     "data": {
      "text/plain": [
       "0.31368774282716244"
      ]
     },
     "execution_count": 6,
     "metadata": {},
     "output_type": "execute_result"
    }
   ],
   "source": [
    "np.std(sample1, ddof=0)"
   ]
  },
  {
   "cell_type": "markdown",
   "id": "43f6dcef",
   "metadata": {},
   "source": [
    "Q11: What is Student’s t distribution? When to use the t-Distribution."
   ]
  },
  {
   "cell_type": "markdown",
   "id": "8ee77d1e",
   "metadata": {},
   "source": [
    "Ans:- When the sample size is less than 30 or the population variance is not given, we use student t distribution, it is similar to normal distribution but due to lack of points the distribution ends does not goes near to zero instead they have some gap and parallel to x axis. hence student's t distribution is used, it also have degree of freedom as the shape of standard graph varies as no. of sample points changes, on increasing the points the t-distribution becomes similar to normal distribution. "
   ]
  },
  {
   "cell_type": "markdown",
   "id": "286d7c15",
   "metadata": {},
   "source": [
    "Q12: What is t-statistic? State the formula for t-statistic.\n",
    "\n",
    "Ans:-When the sample size is less than 30 or the population variance is not given, we use student t distribution, it is similar to normal distribution but due to lack of points the distribution ends does not goes near to zero instead they have some gap and parallel to x axis. hence student's t distribution is used, it also have degree of freedom as the shape of standard graph varies as no. of sample points changes, on increasing the points the t-distribution becomes similar to normal distribution.\n",
    "\n",
    "One-sample t-test:\n",
    "The t-statistic for comparing a sample mean to a hypothesized population mean is given by:\n",
    "t = (x – μ) / (s/√n)\n",
    "\n",
    "\n",
    "Independent two-sample t-test:\n",
    "The t-statistic for comparing the means of two independent samples is given by\n",
    "t = (x1 – x2)  /  sp(√1/n1 + 1/n2)"
   ]
  },
  {
   "cell_type": "markdown",
   "id": "aba7f6bd",
   "metadata": {},
   "source": [
    "Q13. A coffee shop owner wants to estimate the average daily revenue for their shop. They take a random sample of 50 days and find the sample mean revenue to be $500 with a standard deviation of $50. Estimate the population mean revenue with a 95% confidence interval.\n",
    "\n",
    "Ans:- Given, sample mean =500,n = 50, dof = 49, critical value at 95% confidence and deg of freedom 49 is =2.009\n",
    "\n",
    "Confidence Interval = sample mean ± (critical value * standard error)\n",
    " .= 500 ± (2.009*s/50^.5)"
   ]
  },
  {
   "cell_type": "markdown",
   "id": "c8b53a47",
   "metadata": {},
   "source": [
    "CI = 500 ± 14.20\n",
    "\n",
    "Therefore, with a 95% confidence level, we can estimate that the population mean revenue for the coffee shop falls within the range of $485.80 to $514.20"
   ]
  },
  {
   "cell_type": "markdown",
   "id": "c9f451a5",
   "metadata": {},
   "source": [
    "Q14. A researcher hypothesizes that a new drug will decrease blood pressure by 10 mmHg. They conduct a clinical trial with 100 patients and find that the sample mean decrease in blood pressure is 8 mmHg with a standard deviation of 3 mmHg. Test the hypothesis with a significance level of 0.05.\n",
    "\n",
    "Ans H0= blood pressure will not dec by 10mm of Hg\n",
    "\n",
    "H1 = blood pressure will dec by 10mm of Hg\n",
    "\n",
    "n = 100, dof = 99, sample mean = 8, sample sd = 3\n",
    "\n",
    "Confidence Interval = sample mean ± (critical value * standard error)\n",
    " .= 8 ± (1.984*s/n**.5)\n",
    " .= 8 ± .5952\n",
    " \n",
    " Therefore, with a 95% confidence level, we can estimate that the population mean revenue for the coffee shop falls within the range of 7.4048mm Hg  to 8.5952mm of Hg.\n",
    " Hence we accept the nul hypothesis and new drug will not decrease blood pressure by 10mm of Hg\n",
    " \n",
    "Q15. An electronics company produces a certain type of product with a mean weight of 5 pounds and a standard deviation of 0.5 pounds. A random sample of 25 products is taken, and the sample mean weight is found to be 4.8 pounds. Test the hypothesis that the true mean weight of the products is less than 5 pounds with a significance level of 0.01.\n",
    "\n",
    "Ans:- To test the hypothesis that the true mean weight of the products is less than 5 pounds, we can use a one-sample t-test. Here are the steps:\n",
    "\n",
    "Step 1: State the null hypothesis (H₀) and alternative hypothesis (H₁):\n",
    "- Null hypothesis (H₀): The true mean weight of the products is not less than 5 pounds.\n",
    "- Alternative hypothesis (H₁): The true mean weight of the products is less than 5 pounds.\n",
    "\n",
    "Step 2: Set the significance level (α) to 0.01. This will determine the critical value for the test.\n",
    "\n",
    "Step 3: Compute the test statistic:\n",
    "The test statistic for a one-sample t-test is given by:\n",
    "\n",
    "t = (sample mean - population mean) / (sample standard deviation / √sample size)\n",
    "\n",
    "In this case:\n",
    "Sample mean = 4.8 pounds\n",
    "Population mean = 5 pounds\n",
    "Sample standard deviation = 0.5 pounds\n",
    "Sample size = 25\n",
    "\n",
    "Plugging in these values, we can calculate the test statistic:\n",
    "\n",
    "t = (4.8 - 5) / (0.5 / √25)\n",
    "   = -2\n",
    "\n",
    "the critical value for a one-tailed test with 24 degrees of freedom and a significance level of 0.01 is approximately -2.492.\n",
    "\n",
    "-2 is greater than -2.492. Therefore, we fail to reject the null hypothesis.\n",
    "\n",
    "There is not enough evidence to conclude that the true mean weight of the products is less than 5 pounds at a significance level of 0.01.\n",
    "\n",
    "Q16. Two groups of students are given different study materials to prepare for a test. The first group (n1 = 30) has a mean score of 80 with a standard deviation of 10, and the second group (n2 = 40) has a mean score of 75 with a standard deviation of 8. Test the hypothesis that the population means for the two groups are equal with a significance level of 0.01.\n",
    "\n",
    "Ans:- Given n1 = 30, mean 1 = 80, sd1 = 10\n",
    "\n",
    "            n2 = 40, mean 2 = 75, sd2 = 9\n",
    "As we se that we have unequal variances hence applying below formula shown in pic below"
   ]
  },
  {
   "cell_type": "code",
   "execution_count": 7,
   "id": "98e3a03d",
   "metadata": {},
   "outputs": [
    {
     "data": {
      "image/png": "[encoded data removed]",
      "text/plain": [
       "<IPython.core.display.Image object>"
      ]
     },
     "execution_count": 7,
     "metadata": {},
     "output_type": "execute_result"
    }
   ],
   "source": [
    "from IPython.display import Image\n",
    "Image('pic.png')"
   ]
  },
  {
   "cell_type": "code",
   "execution_count": 8,
   "id": "fa96f7f9",
   "metadata": {},
   "outputs": [
    {
     "data": {
      "text/plain": [
       "-2.8474739872574966"
      ]
     },
     "execution_count": 8,
     "metadata": {},
     "output_type": "execute_result"
    }
   ],
   "source": [
    "t = (30-40)/((100/30 + 81/9)**.5)\n",
    "t"
   ]
  },
  {
   "cell_type": "code",
   "execution_count": 9,
   "id": "bdae949c",
   "metadata": {},
   "outputs": [
    {
     "data": {
      "text/plain": [
       "61.8321552653648"
      ]
     },
     "execution_count": 9,
     "metadata": {},
     "output_type": "execute_result"
    }
   ],
   "source": [
    "deg_freedom = ((100/30 + 81/9)**2)/((100/30)**2/29 + 81/39)\n",
    "deg_freedom"
   ]
  },
  {
   "cell_type": "markdown",
   "id": "1c8a62db",
   "metadata": {},
   "source": [
    "so t score at 62 degree of freedom at .01 confidence interval with two tail test is -2.66 but our t score is -2.84 hence we reject the null hypotheses and concludes that the two samples have different mean with 99% confidence level"
   ]
  },
  {
   "cell_type": "markdown",
   "id": "02d37484",
   "metadata": {},
   "source": [
    "Q17. A marketing company wants to estimate the average number of ads watched by viewers during a TV program. They take a random sample of 50 viewers and find that the sample mean is 4 with a standard deviation of 1.5. Estimate the population mean with a 99% confidence interval.\n",
    "\n",
    "Ans Given\n",
    "\n",
    "n=50, sample mean = 4, sample sd = 1.5, confidence interval = 99%\n",
    "\n",
    "Confidence Interval = sample mean ± (critical value * standard error)\n",
    "\n",
    " the critical value is approximately 2.678 (for a two-tailed test).\n",
    "\n",
    "\n",
    "Standard error = 1.5 / √50 ≈ 0.212\n",
    "\n",
    "Confidence Interval = 4 ± (2.678 * 0.212)\n",
    "                  = 4 ± 0.568\n",
    "\n",
    "The lower bound of the confidence interval is 4 - 0.568 = 3.432, and the upper bound is 4 + 0.568 = 4.568.\n",
    "\n",
    "Therefore, with a 99% confidence level, we can estimate that the population mean number of ads watched by viewers during a TV program falls within the range of 3.432 to 4.568."
   ]
  }
 ],
 "metadata": {
  "kernelspec": {
   "display_name": "Python 3 (ipykernel)",
   "language": "python",
   "name": "python3"
  },
  "language_info": {
   "codemirror_mode": {
    "name": "ipython",
    "version": 3
   },
   "file_extension": ".py",
   "mimetype": "text/x-python",
   "name": "python",
   "nbconvert_exporter": "python",
   "pygments_lexer": "ipython3",
   "version": "3.10.9"
  }
 },
 "nbformat": 4,
 "nbformat_minor": 5
}
