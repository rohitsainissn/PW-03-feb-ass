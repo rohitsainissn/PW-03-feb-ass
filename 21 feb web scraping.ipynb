{
 "cells": [
  {
   "cell_type": "markdown",
   "id": "a0f82de7",
   "metadata": {},
   "source": [
    "Q1. What is Web Scraping? Why is it Used? Give three areas where Web Scraping is used to get data.\n",
    "\n",
    "Ans:- Web Scraping is a process of taking data available on a website, It is some time important to have information from the web page other that the dataset provided, hence we use webscraping to extract data from the website.\n",
    "\n",
    "Web scraping is used to predict the delay of bus and train services, and we have no data regarding weather, so we have to do web scraping of weather report from the weather site.\n",
    "\n",
    "Business intelligence and market research: Companies can use web scraping to collect data on their competitors, industry trends, pricing information, customer feedback, and more. This information can help them make better business decisions, optimize their strategies, and stay ahead of the competition.\n",
    "\n",
    "Academic research: Researchers can use web scraping to collect data from various websites, such as social media platforms, news outlets, and government databases. This data can be used to analyze trends, patterns, and behaviors, and to gain insights into various fields such as sociology, psychology, economics, and more.\n",
    "\n",
    "\n",
    "Q2. What are the different methods used for Web Scraping?\n",
    "\n",
    "Ans:- Parsing HTML documents: Web scraping can also be done by parsing the HTML documents of websites and extracting the required data using regular expressions, XPath, or CSS selectors. This method can be challenging and time-consuming, especially when dealing with large or complex websites, but it provides a lot of flexibility and customization options.\n",
    "\n",
    "Using web scraping software or tools: There are various web scraping tools and software available that allow you to extract data from websites easily. These tools often require little to no coding knowledge and allow you to scrape data quickly and efficiently.\n",
    "\n",
    "Q3. What is Beautiful Soup? Why is it used?\n",
    "\n",
    "Ans:- Beautiful Soap is a tool used to make the html scraped page into some presentable formate.\n",
    "\n",
    "Q4. Why is flask used in this Web Scraping project?\n",
    "\n",
    "Ans:- Flask provides the API and URL to the clint and it can handle the multiple html pages and decide in which order it will display the result, to design the backend we use flask and use web scraping of the web page to give the output desired by the user.\n",
    "\n",
    "Q5. Write the names of AWS services used in this project. Also, explain the use of each service.\n",
    "\n",
    "Ans:- We use two services of AWS 1) Pipeline , 2) Beamstack\n",
    "\n",
    "AWS Data Pipeline: AWS Data Pipeline is a managed service that allows you to create, schedule, and manage data pipelines.\n",
    "\n",
    "Beamstack: Beamstack provides the system to perform all process in cloud"
   ]
  },
  {
   "cell_type": "code",
   "execution_count": null,
   "id": "f9ab0565",
   "metadata": {},
   "outputs": [],
   "source": []
  }
 ],
 "metadata": {
  "kernelspec": {
   "display_name": "Python 3 (ipykernel)",
   "language": "python",
   "name": "python3"
  },
  "language_info": {
   "codemirror_mode": {
    "name": "ipython",
    "version": 3
   },
   "file_extension": ".py",
   "mimetype": "text/x-python",
   "name": "python",
   "nbconvert_exporter": "python",
   "pygments_lexer": "ipython3",
   "version": "3.10.9"
  }
 },
 "nbformat": 4,
 "nbformat_minor": 5
}
