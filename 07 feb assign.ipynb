{
 "cells": [
  {
   "cell_type": "markdown",
   "id": "73c7e22d",
   "metadata": {},
   "source": [
    "Q1. You are writing code for a company. The requirement of the company is that you create a python\n",
    "function that will check whether the password entered by the user is correct or not. The function should\n",
    "take the password as input and return the string “Valid Password” if the entered password follows the\n",
    "below-given password guidelines else it should return “Invalid Password”.\n",
    "Note: \n",
    "1. The Password should contain at least two uppercase letters and at least two lowercase letters.\n",
    "2. The Password should contain at least a number and three special characters.\n",
    "3. The length of the password should be 10 characters long.\n",
    "\n"
   ]
  },
  {
   "cell_type": "code",
   "execution_count": 1,
   "id": "d6f74b9d",
   "metadata": {},
   "outputs": [
    {
     "name": "stdout",
     "output_type": "stream",
     "text": [
      "Valid Password\n"
     ]
    }
   ],
   "source": [
    "password = 'roh1SNI@#$'\n",
    "upper_case = 2\n",
    "lower_case = 2\n",
    "number = 1\n",
    "\n",
    "alnum = 0\n",
    "\n",
    "for i in password:\n",
    "    if i.islower():\n",
    "        lower_case-=1\n",
    "    elif i.isupper():\n",
    "        upper_case-=1\n",
    "    elif i.isnumeric():\n",
    "        number-=1\n",
    "    if i.isalnum():\n",
    "        alnum +=1\n",
    "special = len(password)-alnum\n",
    "if upper_case <=0 and lower_case <=0 and number <=0 and special ==3 and len(password)==10:\n",
    "    print('Valid Password')\n",
    "else:\n",
    "    print('Invalid Password')\n",
    "# print(upper_case,lower_case,number,special,len(password),alnum)"
   ]
  },
  {
   "cell_type": "markdown",
   "id": "189858b7",
   "metadata": {},
   "source": [
    "Q2. Solve the below-given questions using at least one of the following:\n",
    "1. Lambda function\n",
    "2. Filter function\n",
    "3. Map function\n",
    "4. List ComprehensioI\n",
    "B \n",
    "B \n",
    "B \n",
    "B -\n",
    "B"
   ]
  },
  {
   "cell_type": "code",
   "execution_count": 2,
   "id": "a661c37c",
   "metadata": {},
   "outputs": [
    {
     "name": "stdout",
     "output_type": "stream",
     "text": [
      "yes\n"
     ]
    }
   ],
   "source": [
    "# Check if the string starts with a particular letter\n",
    "string ='rohit'\n",
    "print('yes'if string[0]=='r' else 'no' )\n"
   ]
  },
  {
   "cell_type": "code",
   "execution_count": 3,
   "id": "c19cc1f1",
   "metadata": {},
   "outputs": [
    {
     "name": "stdout",
     "output_type": "stream",
     "text": [
      "yes\n"
     ]
    }
   ],
   "source": [
    "# Check if the string is numeric\n",
    "string ='12'\n",
    "print('yes' if string.isnumeric() else 'no')"
   ]
  },
  {
   "cell_type": "code",
   "execution_count": 4,
   "id": "db362657",
   "metadata": {},
   "outputs": [
    {
     "name": "stdout",
     "output_type": "stream",
     "text": [
      "[('orange', 80), ('mango', 99), ('grapes', 1000)]\n"
     ]
    }
   ],
   "source": [
    "# Sort a list of tuples having fruit names and their quantity.\n",
    "lis = [(\"mango\",99),(\"orange\",80), (\"grapes\", 1000)]\n",
    "\n",
    "def sor(lis):\n",
    "    sorted_list = sorted(lis, key=lambda x: x[1])\n",
    "    return sorted_list\n",
    "\n",
    "print(sor(lis))\n"
   ]
  },
  {
   "cell_type": "code",
   "execution_count": 5,
   "id": "5adca1e7",
   "metadata": {},
   "outputs": [
    {
     "data": {
      "text/plain": [
       "[1, 4, 9, 16, 25, 36, 49, 64, 81, 100]"
      ]
     },
     "execution_count": 5,
     "metadata": {},
     "output_type": "execute_result"
    }
   ],
   "source": [
    "# Find the squares of numbers from 1 to 10\n",
    "[i*i for i in range(1,11)]"
   ]
  },
  {
   "cell_type": "code",
   "execution_count": 6,
   "id": "13d4631e",
   "metadata": {},
   "outputs": [
    {
     "data": {
      "text/plain": [
       "[1, 8, 27, 64, 125, 216, 343, 512, 729, 1000]"
      ]
     },
     "execution_count": 6,
     "metadata": {},
     "output_type": "execute_result"
    }
   ],
   "source": [
    "# Find the cube root of numbers from 1 to 10\n",
    "[i**3 for i in range (1,11)]"
   ]
  },
  {
   "cell_type": "code",
   "execution_count": 7,
   "id": "e4b5d7a2",
   "metadata": {},
   "outputs": [
    {
     "name": "stdout",
     "output_type": "stream",
     "text": [
      "enter the number10\n",
      "even\n"
     ]
    }
   ],
   "source": [
    "# Check if a given number is even\n",
    "print('even' if int(input('enter the number'))%2==0 else 'odd')"
   ]
  },
  {
   "cell_type": "code",
   "execution_count": 8,
   "id": "7ace810d",
   "metadata": {},
   "outputs": [
    {
     "name": "stdout",
     "output_type": "stream",
     "text": [
      "[1, 3, 5, 7, 9]\n"
     ]
    }
   ],
   "source": [
    "# Filter odd numbers from the given \n",
    "lis=[1,2,3,4,5,6,7,8,9,10]\n",
    "print(list(filter(lambda x:x%2!=0,lis)))"
   ]
  },
  {
   "cell_type": "code",
   "execution_count": 10,
   "id": "8663bc4e",
   "metadata": {},
   "outputs": [
    {
     "name": "stdout",
     "output_type": "stream",
     "text": [
      "[1, 2, 3, 4, 5, 6] [-1, -2, -3, -4, -5]\n"
     ]
    }
   ],
   "source": [
    "# Sort a list of integers into positive and negative integers \n",
    "lis = [1, 2, 3, 4, 5, 6, -1, -2, -3, -4, -5, 0]\n",
    "positive_integers = [num for num in lis if num > 0]\n",
    "negative_integers = [num for num in lis if num < 0]\n",
    "print(positive_integers, negative_integers)"
   ]
  },
  {
   "cell_type": "code",
   "execution_count": null,
   "id": "27c8225d",
   "metadata": {},
   "outputs": [],
   "source": []
  },
  {
   "cell_type": "code",
   "execution_count": null,
   "id": "fee55777",
   "metadata": {},
   "outputs": [],
   "source": []
  }
 ],
 "metadata": {
  "kernelspec": {
   "display_name": "Python 3 (ipykernel)",
   "language": "python",
   "name": "python3"
  },
  "language_info": {
   "codemirror_mode": {
    "name": "ipython",
    "version": 3
   },
   "file_extension": ".py",
   "mimetype": "text/x-python",
   "name": "python",
   "nbconvert_exporter": "python",
   "pygments_lexer": "ipython3",
   "version": "3.9.9"
  }
 },
 "nbformat": 4,
 "nbformat_minor": 5
}
