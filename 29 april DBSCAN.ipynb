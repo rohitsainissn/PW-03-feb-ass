
{
 "cells": [
  {
   "cell_type": "markdown",
   "id": "5d88883a",
   "metadata": {},
   "source": [
    "Q1. Explain the basic concept of clustering and give examples of applications where clustering is useful.\n",
    "\n",
    "Ans:- clustering is used to divide the dataset in different categories depending on there similarities and variations, it is usefull to separate customers on basis of their purchasing power like and dislike towards the perticular product, it helps farms to target specific group of customers.\n",
    "\n",
    "Q2. What is DBSCAN and how does it differ from other clustering algorithms such as k-means and hierarchical clustering?\n",
    "\n",
    "Ans In DBSCAN we do not give how many clusters we need, it can cluster irrigular shaped cluester which is not possible when clustering is done by k-means.\n",
    "\n",
    "Q3. How do you determine the optimal values for the epsilon and minimum points parameters in DBSCAN clustering?\n",
    "\n",
    "Ans we use Silhouette Score to measure performance in hyper parameter testing to find best epsilon and minimum points paramenters\n",
    "\n",
    "Q4. How does DBSCAN clustering handle outliers in a dataset?\n",
    "\n",
    "ANS:- DBSCAN makes the outliers as noice point and separate them easily from the core points and border points.\n",
    " Q5. How does DBSCAN clustering differ from k-means clustering?\n",
    " \n",
    " Here are some key differences between the two:\n",
    "\n",
    "Handling Different Cluster Shapes:\n",
    "\n",
    "DBSCAN: DBSCAN is capable of identifying clusters of arbitrary shapes. It defines clusters as dense regions separated by sparser areas in the data space. It can handle clusters that are non-linear, irregular, or have varying densities.\n",
    "k-means: k-means assumes that clusters are spherical and have similar sizes. It partitions the data into k clusters by minimizing the sum of squared distances between data points and their cluster centroids. As a result, it works well for clusters that are globular and have a similar variance.\n",
    "Requirement of the Number of Clusters:\n",
    "\n",
    "DBSCAN: DBSCAN does not require prior knowledge or explicit specification of the number of clusters. It automatically determines the number of clusters based on the data density and connectivity.\n",
    "k-means: k-means requires the number of clusters (k) to be specified in advance. It partitions the data into k clusters, which must be predefined.\n",
    "Handling Outliers and Noise:\n",
    "\n",
    "DBSCAN: DBSCAN is capable of identifying noise points and outliers as it defines them as data points that do not belong to any cluster. It can effectively handle datasets with noise and outliers, as they are considered as separate entities.\n",
    "k-means: k-means does not explicitly handle outliers or noise. Outliers can distort the cluster centroids and affect the clustering results. Preprocessing or outlier detection techniques may be needed to handle outliers effectively in k-means.\n",
    "Parameter Sensitivity:\n",
    "\n",
    "DBSCAN: DBSCAN has two main parameters: epsilon (ε), which defines the radius around each point, and minimum points (MinPts), which sets the minimum number of points required to form a dense region. Tuning these parameters is important for achieving desirable clustering results, and their values depend on the data and the desired clusters.\n",
    "k-means: k-means is sensitive to the initial placement of cluster centroids. The algorithm can converge to different solutions depending on the initial centroid positions. Multiple runs with different initializations may be required to mitigate this sensitivity.\n",
    "Computational Complexity:\n",
    "\n",
    "DBSCAN: DBSCAN's time complexity is typically higher than k-means, especially for large datasets, as it needs to calculate pairwise distances between data points. However, it can be optimized using spatial indexing structures like KD-trees or R-trees.\n",
    "k-means: k-means is computationally efficient and scales well with large datasets. Its time complexity is generally lower than DBSCAN.\n",
    "\n",
    "Q6. Can DBSCAN clustering be applied to datasets with high dimensional feature spaces? If so, what are some potential challenges?\n",
    "\n",
    "Curse of Dimensionality: The curse of dimensionality refers to the phenomenon where the data becomes increasingly sparse as the number of dimensions increases. In high dimensional spaces, the available data points might be sparsely distributed, making it difficult for DBSCAN to identify dense regions accurately. The density-based nature of DBSCAN relies on the local density of points, which can be affected by the curse of dimensionality.\n",
    "\n",
    "Increased Distance Measures: In high dimensional spaces, the concept of distance becomes less reliable due to the increased number of dimensions. The distance between points tends to become more uniform, and the differences between nearest and farthest neighbors diminish. As a result, it becomes challenging to determine suitable values for the epsilon parameter in DBSCAN, which defines the neighborhood radius around each point.\n",
    "\n",
    "Feature Irrelevance: High dimensional spaces often contain irrelevant or redundant features that do not contribute significantly to the clustering structure. These irrelevant features can lead to noise and distort the density estimation, making it harder for DBSCAN to identify meaningful clusters.\n",
    "\n",
    "Dimensionality Reduction: To mitigate the challenges of high dimensional spaces, dimensionality reduction techniques can be employed to reduce the number of features while retaining the important information. Techniques such as Principal Component Analysis (PCA) or t-distributed Stochastic Neighbor Embedding (t-SNE) can be used to project the data onto a lower-dimensional space before applying DBSCAN. This can help to improve the clustering results and mitigate the effects of the curse of dimensionality.\n",
    "\n",
    "Parameter Selection: The choice of appropriate parameter values, such as epsilon and minimum points, becomes more critical in high dimensional spaces. The determination of these parameters can be challenging due to the sparsity of data and the reduced discriminatory power of distances. Strategies like using domain knowledge, data visualization, or automated parameter selection methods become crucial to find suitable parameter values.\n",
    "Q7. How does DBSCAN clustering handle clusters with varying densities?\n",
    "\n",
    "Q8. What are some common evaluation metrics used to assess the quality of DBSCAN clustering results?\n",
    "\n",
    "Q9. Can DBSCAN clustering be used for semi-supervised learning tasks?\n",
    "\n",
    "Silhouette Score: The silhouette score measures the compactness and separation of clusters. It assigns a score to each data point based on the average distance to other points within its own cluster and the average distance to the nearest neighboring cluster. The overall silhouette score is the mean of these individual scores. Higher silhouette scores indicate better-defined and well-separated clusters.\n",
    "\n",
    "Calinski-Harabasz Index: The Calinski-Harabasz index calculates the ratio of between-cluster dispersion to within-cluster dispersion. It favors clusters that are well-separated and compact. Higher index values indicate better-defined clusters.\n",
    "\n",
    "Q10. How does DBSCAN clustering handle datasets with noise or missing values?\n",
    "\n",
    "Ans :- DBSCAN can easily separate noice point, core point and border point while making cluster hence noise points are spearated, to separate missing points we can remove that point or fill it with mean, median or mode values as per requirement.\n",
    "\n",
    "Q11. Implement the DBSCAN algorithm using a python programming language, and apply it to a sample dataset. Discuss the clustering results and interpret the meaning of the obtained clusters."
   ]
  },
  {
   "cell_type": "code",
   "execution_count": 1,
   "id": "8841e3b0",
   "metadata": {
    "scrolled": true
   },
   "outputs": [
    {
     "data": {
      "application/javascript": [
       "\n",
       "        if (window._pyforest_update_imports_cell) { window._pyforest_update_imports_cell('import pandas as pd'); }\n",
       "    "
      ],
      "text/plain": [
       "<IPython.core.display.Javascript object>"
      ]
     },
     "metadata": {},
     "output_type": "display_data"
    },
    {
     "data": {
      "text/html": [
       "<div>\n",
       "<style scoped>\n",
       "    .dataframe tbody tr th:only-of-type {\n",
       "        vertical-align: middle;\n",
       "    }\n",
       "\n",
       "    .dataframe tbody tr th {\n",
       "        vertical-align: top;\n",
       "    }\n",
       "\n",
       "    .dataframe thead th {\n",
       "        text-align: right;\n",
       "    }\n",
       "</style>\n",
       "<table border=\"1\" class=\"dataframe\">\n",
       "  <thead>\n",
       "    <tr style=\"text-align: right;\">\n",
       "      <th></th>\n",
       "      <th>CustomerID</th>\n",
       "      <th>Genre</th>\n",
       "      <th>Age</th>\n",
       "      <th>Annual Income (k$)</th>\n",
       "      <th>Spending Score (1-100)</th>\n",
       "    </tr>\n",
       "  </thead>\n",
       "  <tbody>\n",
       "    <tr>\n",
       "      <th>0</th>\n",
       "      <td>1</td>\n",
       "      <td>Male</td>\n",
       "      <td>19</td>\n",
       "      <td>15</td>\n",
       "      <td>39</td>\n",
       "    </tr>\n",
       "    <tr>\n",
       "      <th>1</th>\n",
       "      <td>2</td>\n",
       "      <td>Male</td>\n",
       "      <td>21</td>\n",
       "      <td>15</td>\n",
       "      <td>81</td>\n",
       "    </tr>\n",
       "    <tr>\n",
       "      <th>2</th>\n",
       "      <td>3</td>\n",
       "      <td>Female</td>\n",
       "      <td>20</td>\n",
       "      <td>16</td>\n",
       "      <td>6</td>\n",
       "    </tr>\n",
       "    <tr>\n",
       "      <th>3</th>\n",
       "      <td>4</td>\n",
       "      <td>Female</td>\n",
       "      <td>23</td>\n",
       "      <td>16</td>\n",
       "      <td>77</td>\n",
       "    </tr>\n",
       "    <tr>\n",
       "      <th>4</th>\n",
       "      <td>5</td>\n",
       "      <td>Female</td>\n",
       "      <td>31</td>\n",
       "      <td>17</td>\n",
       "      <td>40</td>\n",
       "    </tr>\n",
       "    <tr>\n",
       "      <th>...</th>\n",
       "      <td>...</td>\n",
       "      <td>...</td>\n",
       "      <td>...</td>\n",
       "      <td>...</td>\n",
       "      <td>...</td>\n",
       "    </tr>\n",
       "    <tr>\n",
       "      <th>195</th>\n",
       "      <td>196</td>\n",
       "      <td>Female</td>\n",
       "      <td>35</td>\n",
       "      <td>120</td>\n",
       "      <td>79</td>\n",
       "    </tr>\n",
       "    <tr>\n",
       "      <th>196</th>\n",
       "      <td>197</td>\n",
       "      <td>Female</td>\n",
       "      <td>45</td>\n",
       "      <td>126</td>\n",
       "      <td>28</td>\n",
       "    </tr>\n",
       "    <tr>\n",
       "      <th>197</th>\n",
       "      <td>198</td>\n",
       "      <td>Male</td>\n",
       "      <td>32</td>\n",
       "      <td>126</td>\n",
       "      <td>74</td>\n",
       "    </tr>\n",
       "    <tr>\n",
       "      <th>198</th>\n",
       "      <td>199</td>\n",
       "      <td>Male</td>\n",
       "      <td>32</td>\n",
       "      <td>137</td>\n",
       "      <td>18</td>\n",
       "    </tr>\n",
       "    <tr>\n",
       "      <th>199</th>\n",
       "      <td>200</td>\n",
       "      <td>Male</td>\n",
       "      <td>30</td>\n",
       "      <td>137</td>\n",
       "      <td>83</td>\n",
       "    </tr>\n",
       "  </tbody>\n",
       "</table>\n",
       "<p>200 rows × 5 columns</p>\n",
       "</div>"
      ],
      "text/plain": [
       "     CustomerID   Genre  Age  Annual Income (k$)  Spending Score (1-100)\n",
       "0             1    Male   19                  15                      39\n",
       "1             2    Male   21                  15                      81\n",
       "2             3  Female   20                  16                       6\n",
       "3             4  Female   23                  16                      77\n",
       "4             5  Female   31                  17                      40\n",
       "..          ...     ...  ...                 ...                     ...\n",
       "195         196  Female   35                 120                      79\n",
       "196         197  Female   45                 126                      28\n",
       "197         198    Male   32                 126                      74\n",
       "198         199    Male   32                 137                      18\n",
       "199         200    Male   30                 137                      83\n",
       "\n",
       "[200 rows x 5 columns]"
      ]
     },
     "execution_count": 1,
     "metadata": {},
     "output_type": "execute_result"
    }
   ],
   "source": [
    "df= pd.read_csv('mall.csv')\n",
    "df"
   ]
  },
  {
   "cell_type": "code",
   "execution_count": 2,
   "id": "f7d13edf",
   "metadata": {},
   "outputs": [
    {
     "data": {
      "text/html": [
       "<div>\n",
       "<style scoped>\n",
       "    .dataframe tbody tr th:only-of-type {\n",
       "        vertical-align: middle;\n",
       "    }\n",
       "\n",
       "    .dataframe tbody tr th {\n",
       "        vertical-align: top;\n",
       "    }\n",
       "\n",
       "    .dataframe thead th {\n",
       "        text-align: right;\n",
       "    }\n",
       "</style>\n",
       "<table border=\"1\" class=\"dataframe\">\n",
       "  <thead>\n",
       "    <tr style=\"text-align: right;\">\n",
       "      <th></th>\n",
       "      <th>CustomerID</th>\n",
       "      <th>Genre</th>\n",
       "      <th>Age</th>\n",
       "      <th>Annual Income (k$)</th>\n",
       "      <th>Spending Score (1-100)</th>\n",
       "    </tr>\n",
       "  </thead>\n",
       "  <tbody>\n",
       "    <tr>\n",
       "      <th>0</th>\n",
       "      <td>1</td>\n",
       "      <td>Male</td>\n",
       "      <td>19</td>\n",
       "      <td>15</td>\n",
       "      <td>39</td>\n",
       "    </tr>\n",
       "    <tr>\n",
       "      <th>1</th>\n",
       "      <td>2</td>\n",
       "      <td>Male</td>\n",
       "      <td>21</td>\n",
       "      <td>15</td>\n",
       "      <td>81</td>\n",
       "    </tr>\n",
       "    <tr>\n",
       "      <th>2</th>\n",
       "      <td>3</td>\n",
       "      <td>Female</td>\n",
       "      <td>20</td>\n",
       "      <td>16</td>\n",
       "      <td>6</td>\n",
       "    </tr>\n",
       "    <tr>\n",
       "      <th>3</th>\n",
       "      <td>4</td>\n",
       "      <td>Female</td>\n",
       "      <td>23</td>\n",
       "      <td>16</td>\n",
       "      <td>77</td>\n",
       "    </tr>\n",
       "    <tr>\n",
       "      <th>4</th>\n",
       "      <td>5</td>\n",
       "      <td>Female</td>\n",
       "      <td>31</td>\n",
       "      <td>17</td>\n",
       "      <td>40</td>\n",
       "    </tr>\n",
       "    <tr>\n",
       "      <th>...</th>\n",
       "      <td>...</td>\n",
       "      <td>...</td>\n",
       "      <td>...</td>\n",
       "      <td>...</td>\n",
       "      <td>...</td>\n",
       "    </tr>\n",
       "    <tr>\n",
       "      <th>195</th>\n",
       "      <td>196</td>\n",
       "      <td>Female</td>\n",
       "      <td>35</td>\n",
       "      <td>120</td>\n",
       "      <td>79</td>\n",
       "    </tr>\n",
       "    <tr>\n",
       "      <th>196</th>\n",
       "      <td>197</td>\n",
       "      <td>Female</td>\n",
       "      <td>45</td>\n",
       "      <td>126</td>\n",
       "      <td>28</td>\n",
       "    </tr>\n",
       "    <tr>\n",
       "      <th>197</th>\n",
       "      <td>198</td>\n",
       "      <td>Male</td>\n",
       "      <td>32</td>\n",
       "      <td>126</td>\n",
       "      <td>74</td>\n",
       "    </tr>\n",
       "    <tr>\n",
       "      <th>198</th>\n",
       "      <td>199</td>\n",
       "      <td>Male</td>\n",
       "      <td>32</td>\n",
       "      <td>137</td>\n",
       "      <td>18</td>\n",
       "    </tr>\n",
       "    <tr>\n",
       "      <th>199</th>\n",
       "      <td>200</td>\n",
       "      <td>Male</td>\n",
       "      <td>30</td>\n",
       "      <td>137</td>\n",
       "      <td>83</td>\n",
       "    </tr>\n",
       "  </tbody>\n",
       "</table>\n",
       "<p>200 rows × 5 columns</p>\n",
       "</div>"
      ],
      "text/plain": [
       "     CustomerID   Genre  Age  Annual Income (k$)  Spending Score (1-100)\n",
       "0             1    Male   19                  15                      39\n",
       "1             2    Male   21                  15                      81\n",
       "2             3  Female   20                  16                       6\n",
       "3             4  Female   23                  16                      77\n",
       "4             5  Female   31                  17                      40\n",
       "..          ...     ...  ...                 ...                     ...\n",
       "195         196  Female   35                 120                      79\n",
       "196         197  Female   45                 126                      28\n",
       "197         198    Male   32                 126                      74\n",
       "198         199    Male   32                 137                      18\n",
       "199         200    Male   30                 137                      83\n",
       "\n",
       "[200 rows x 5 columns]"
      ]
     },
     "execution_count": 2,
     "metadata": {},
     "output_type": "execute_result"
    }
   ],
   "source": [
    "df.dropna()"
   ]
  },
  {
   "cell_type": "code",
   "execution_count": 3,
   "id": "4fa8ec3f",
   "metadata": {},
   "outputs": [
    {
     "data": {
      "text/html": [
       "<div>\n",
       "<style scoped>\n",
       "    .dataframe tbody tr th:only-of-type {\n",
       "        vertical-align: middle;\n",
       "    }\n",
       "\n",
       "    .dataframe tbody tr th {\n",
       "        vertical-align: top;\n",
       "    }\n",
       "\n",
       "    .dataframe thead th {\n",
       "        text-align: right;\n",
       "    }\n",
       "</style>\n",
       "<table border=\"1\" class=\"dataframe\">\n",
       "  <thead>\n",
       "    <tr style=\"text-align: right;\">\n",
       "      <th></th>\n",
       "      <th>Genre</th>\n",
       "      <th>Age</th>\n",
       "      <th>Annual Income (k$)</th>\n",
       "      <th>Spending Score (1-100)</th>\n",
       "    </tr>\n",
       "  </thead>\n",
       "  <tbody>\n",
       "    <tr>\n",
       "      <th>0</th>\n",
       "      <td>Male</td>\n",
       "      <td>19</td>\n",
       "      <td>15</td>\n",
       "      <td>39</td>\n",
       "    </tr>\n",
       "    <tr>\n",
       "      <th>1</th>\n",
       "      <td>Male</td>\n",
       "      <td>21</td>\n",
       "      <td>15</td>\n",
       "      <td>81</td>\n",
       "    </tr>\n",
       "    <tr>\n",
       "      <th>2</th>\n",
       "      <td>Female</td>\n",
       "      <td>20</td>\n",
       "      <td>16</td>\n",
       "      <td>6</td>\n",
       "    </tr>\n",
       "    <tr>\n",
       "      <th>3</th>\n",
       "      <td>Female</td>\n",
       "      <td>23</td>\n",
       "      <td>16</td>\n",
       "      <td>77</td>\n",
       "    </tr>\n",
       "    <tr>\n",
       "      <th>4</th>\n",
       "      <td>Female</td>\n",
       "      <td>31</td>\n",
       "      <td>17</td>\n",
       "      <td>40</td>\n",
       "    </tr>\n",
       "    <tr>\n",
       "      <th>...</th>\n",
       "      <td>...</td>\n",
       "      <td>...</td>\n",
       "      <td>...</td>\n",
       "      <td>...</td>\n",
       "    </tr>\n",
       "    <tr>\n",
       "      <th>195</th>\n",
       "      <td>Female</td>\n",
       "      <td>35</td>\n",
       "      <td>120</td>\n",
       "      <td>79</td>\n",
       "    </tr>\n",
       "    <tr>\n",
       "      <th>196</th>\n",
       "      <td>Female</td>\n",
       "      <td>45</td>\n",
       "      <td>126</td>\n",
       "      <td>28</td>\n",
       "    </tr>\n",
       "    <tr>\n",
       "      <th>197</th>\n",
       "      <td>Male</td>\n",
       "      <td>32</td>\n",
       "      <td>126</td>\n",
       "      <td>74</td>\n",
       "    </tr>\n",
       "    <tr>\n",
       "      <th>198</th>\n",
       "      <td>Male</td>\n",
       "      <td>32</td>\n",
       "      <td>137</td>\n",
       "      <td>18</td>\n",
       "    </tr>\n",
       "    <tr>\n",
       "      <th>199</th>\n",
       "      <td>Male</td>\n",
       "      <td>30</td>\n",
       "      <td>137</td>\n",
       "      <td>83</td>\n",
       "    </tr>\n",
       "  </tbody>\n",
       "</table>\n",
       "<p>200 rows × 4 columns</p>\n",
       "</div>"
      ],
      "text/plain": [
       "      Genre  Age  Annual Income (k$)  Spending Score (1-100)\n",
       "0      Male   19                  15                      39\n",
       "1      Male   21                  15                      81\n",
       "2    Female   20                  16                       6\n",
       "3    Female   23                  16                      77\n",
       "4    Female   31                  17                      40\n",
       "..      ...  ...                 ...                     ...\n",
       "195  Female   35                 120                      79\n",
       "196  Female   45                 126                      28\n",
       "197    Male   32                 126                      74\n",
       "198    Male   32                 137                      18\n",
       "199    Male   30                 137                      83\n",
       "\n",
       "[200 rows x 4 columns]"
      ]
     },
     "execution_count": 3,
     "metadata": {},
     "output_type": "execute_result"
    }
   ],
   "source": [
    "df=df.drop('CustomerID', axis=1)\n",
    "df"
   ]
  },
  {
   "cell_type": "code",
   "execution_count": 4,
   "id": "bb787000",
   "metadata": {
    "scrolled": true
   },
   "outputs": [
    {
     "data": {
      "text/html": [
       "<div>\n",
       "<style scoped>\n",
       "    .dataframe tbody tr th:only-of-type {\n",
       "        vertical-align: middle;\n",
       "    }\n",
       "\n",
       "    .dataframe tbody tr th {\n",
       "        vertical-align: top;\n",
       "    }\n",
       "\n",
       "    .dataframe thead th {\n",
       "        text-align: right;\n",
       "    }\n",
       "</style>\n",
       "<table border=\"1\" class=\"dataframe\">\n",
       "  <thead>\n",
       "    <tr style=\"text-align: right;\">\n",
       "      <th></th>\n",
       "      <th>Genre</th>\n",
       "      <th>Age</th>\n",
       "      <th>Annual Income (k$)</th>\n",
       "      <th>Spending Score (1-100)</th>\n",
       "    </tr>\n",
       "  </thead>\n",
       "  <tbody>\n",
       "    <tr>\n",
       "      <th>0</th>\n",
       "      <td>Male</td>\n",
       "      <td>19</td>\n",
       "      <td>15</td>\n",
       "      <td>39</td>\n",
       "    </tr>\n",
       "    <tr>\n",
       "      <th>1</th>\n",
       "      <td>Male</td>\n",
       "      <td>21</td>\n",
       "      <td>15</td>\n",
       "      <td>81</td>\n",
       "    </tr>\n",
       "    <tr>\n",
       "      <th>2</th>\n",
       "      <td>Female</td>\n",
       "      <td>20</td>\n",
       "      <td>16</td>\n",
       "      <td>6</td>\n",
       "    </tr>\n",
       "    <tr>\n",
       "      <th>3</th>\n",
       "      <td>Female</td>\n",
       "      <td>23</td>\n",
       "      <td>16</td>\n",
       "      <td>77</td>\n",
       "    </tr>\n",
       "    <tr>\n",
       "      <th>4</th>\n",
       "      <td>Female</td>\n",
       "      <td>31</td>\n",
       "      <td>17</td>\n",
       "      <td>40</td>\n",
       "    </tr>\n",
       "    <tr>\n",
       "      <th>...</th>\n",
       "      <td>...</td>\n",
       "      <td>...</td>\n",
       "      <td>...</td>\n",
       "      <td>...</td>\n",
       "    </tr>\n",
       "    <tr>\n",
       "      <th>195</th>\n",
       "      <td>Female</td>\n",
       "      <td>35</td>\n",
       "      <td>120</td>\n",
       "      <td>79</td>\n",
       "    </tr>\n",
       "    <tr>\n",
       "      <th>196</th>\n",
       "      <td>Female</td>\n",
       "      <td>45</td>\n",
       "      <td>126</td>\n",
       "      <td>28</td>\n",
       "    </tr>\n",
       "    <tr>\n",
       "      <th>197</th>\n",
       "      <td>Male</td>\n",
       "      <td>32</td>\n",
       "      <td>126</td>\n",
       "      <td>74</td>\n",
       "    </tr>\n",
       "    <tr>\n",
       "      <th>198</th>\n",
       "      <td>Male</td>\n",
       "      <td>32</td>\n",
       "      <td>137</td>\n",
       "      <td>18</td>\n",
       "    </tr>\n",
       "    <tr>\n",
       "      <th>199</th>\n",
       "      <td>Male</td>\n",
       "      <td>30</td>\n",
       "      <td>137</td>\n",
       "      <td>83</td>\n",
       "    </tr>\n",
       "  </tbody>\n",
       "</table>\n",
       "<p>200 rows × 4 columns</p>\n",
       "</div>"
      ],
      "text/plain": [
       "      Genre  Age  Annual Income (k$)  Spending Score (1-100)\n",
       "0      Male   19                  15                      39\n",
       "1      Male   21                  15                      81\n",
       "2    Female   20                  16                       6\n",
       "3    Female   23                  16                      77\n",
       "4    Female   31                  17                      40\n",
       "..      ...  ...                 ...                     ...\n",
       "195  Female   35                 120                      79\n",
       "196  Female   45                 126                      28\n",
       "197    Male   32                 126                      74\n",
       "198    Male   32                 137                      18\n",
       "199    Male   30                 137                      83\n",
       "\n",
       "[200 rows x 4 columns]"
      ]
     },
     "execution_count": 4,
     "metadata": {},
     "output_type": "execute_result"
    }
   ],
   "source": [
    "df"
   ]
  },
  {
   "cell_type": "code",
   "execution_count": 5,
   "id": "8a6efb4f",
   "metadata": {},
   "outputs": [
    {
     "data": {
      "text/html": [
       "<div>\n",
       "<style scoped>\n",
       "    .dataframe tbody tr th:only-of-type {\n",
       "        vertical-align: middle;\n",
       "    }\n",
       "\n",
       "    .dataframe tbody tr th {\n",
       "        vertical-align: top;\n",
       "    }\n",
       "\n",
       "    .dataframe thead th {\n",
       "        text-align: right;\n",
       "    }\n",
       "</style>\n",
       "<table border=\"1\" class=\"dataframe\">\n",
       "  <thead>\n",
       "    <tr style=\"text-align: right;\">\n",
       "      <th></th>\n",
       "      <th>Genre</th>\n",
       "      <th>Age</th>\n",
       "      <th>Annual Income (k$)</th>\n",
       "      <th>Spending Score (1-100)</th>\n",
       "    </tr>\n",
       "  </thead>\n",
       "  <tbody>\n",
       "    <tr>\n",
       "      <th>0</th>\n",
       "      <td>1</td>\n",
       "      <td>19</td>\n",
       "      <td>15</td>\n",
       "      <td>39</td>\n",
       "    </tr>\n",
       "    <tr>\n",
       "      <th>1</th>\n",
       "      <td>1</td>\n",
       "      <td>21</td>\n",
       "      <td>15</td>\n",
       "      <td>81</td>\n",
       "    </tr>\n",
       "    <tr>\n",
       "      <th>2</th>\n",
       "      <td>0</td>\n",
       "      <td>20</td>\n",
       "      <td>16</td>\n",
       "      <td>6</td>\n",
       "    </tr>\n",
       "    <tr>\n",
       "      <th>3</th>\n",
       "      <td>0</td>\n",
       "      <td>23</td>\n",
       "      <td>16</td>\n",
       "      <td>77</td>\n",
       "    </tr>\n",
       "    <tr>\n",
       "      <th>4</th>\n",
       "      <td>0</td>\n",
       "      <td>31</td>\n",
       "      <td>17</td>\n",
       "      <td>40</td>\n",
       "    </tr>\n",
       "    <tr>\n",
       "      <th>...</th>\n",
       "      <td>...</td>\n",
       "      <td>...</td>\n",
       "      <td>...</td>\n",
       "      <td>...</td>\n",
       "    </tr>\n",
       "    <tr>\n",
       "      <th>195</th>\n",
       "      <td>0</td>\n",
       "      <td>35</td>\n",
       "      <td>120</td>\n",
       "      <td>79</td>\n",
       "    </tr>\n",
       "    <tr>\n",
       "      <th>196</th>\n",
       "      <td>0</td>\n",
       "      <td>45</td>\n",
       "      <td>126</td>\n",
       "      <td>28</td>\n",
       "    </tr>\n",
       "    <tr>\n",
       "      <th>197</th>\n",
       "      <td>1</td>\n",
       "      <td>32</td>\n",
       "      <td>126</td>\n",
       "      <td>74</td>\n",
       "    </tr>\n",
       "    <tr>\n",
       "      <th>198</th>\n",
       "      <td>1</td>\n",
       "      <td>32</td>\n",
       "      <td>137</td>\n",
       "      <td>18</td>\n",
       "    </tr>\n",
       "    <tr>\n",
       "      <th>199</th>\n",
       "      <td>1</td>\n",
       "      <td>30</td>\n",
       "      <td>137</td>\n",
       "      <td>83</td>\n",
       "    </tr>\n",
       "  </tbody>\n",
       "</table>\n",
       "<p>200 rows × 4 columns</p>\n",
       "</div>"
      ],
      "text/plain": [
       "     Genre  Age  Annual Income (k$)  Spending Score (1-100)\n",
       "0        1   19                  15                      39\n",
       "1        1   21                  15                      81\n",
       "2        0   20                  16                       6\n",
       "3        0   23                  16                      77\n",
       "4        0   31                  17                      40\n",
       "..     ...  ...                 ...                     ...\n",
       "195      0   35                 120                      79\n",
       "196      0   45                 126                      28\n",
       "197      1   32                 126                      74\n",
       "198      1   32                 137                      18\n",
       "199      1   30                 137                      83\n",
       "\n",
       "[200 rows x 4 columns]"
      ]
     },
     "execution_count": 5,
     "metadata": {},
     "output_type": "execute_result"
    }
   ],
   "source": [
    "df['Genre'] = df['Genre'].replace({'Male': 1, 'Female': 0})\n",
    "df"
   ]
  },
  {
   "cell_type": "code",
   "execution_count": 6,
   "id": "1720fd78",
   "metadata": {},
   "outputs": [
    {
     "data": {
      "application/javascript": [
       "\n",
       "        if (window._pyforest_update_imports_cell) { window._pyforest_update_imports_cell('import pandas as pd'); }\n",
       "    "
      ],
      "text/plain": [
       "<IPython.core.display.Javascript object>"
      ]
     },
     "metadata": {},
     "output_type": "display_data"
    },
    {
     "data": {
      "text/html": [
       "<div>\n",
       "<style scoped>\n",
       "    .dataframe tbody tr th:only-of-type {\n",
       "        vertical-align: middle;\n",
       "    }\n",
       "\n",
       "    .dataframe tbody tr th {\n",
       "        vertical-align: top;\n",
       "    }\n",
       "\n",
       "    .dataframe thead th {\n",
       "        text-align: right;\n",
       "    }\n",
       "</style>\n",
       "<table border=\"1\" class=\"dataframe\">\n",
       "  <thead>\n",
       "    <tr style=\"text-align: right;\">\n",
       "      <th></th>\n",
       "      <th>Genre</th>\n",
       "      <th>Age</th>\n",
       "      <th>Annual Income (k$)</th>\n",
       "      <th>Spending Score (1-100)</th>\n",
       "    </tr>\n",
       "  </thead>\n",
       "  <tbody>\n",
       "    <tr>\n",
       "      <th>0</th>\n",
       "      <td>1.128152</td>\n",
       "      <td>-1.424569</td>\n",
       "      <td>-1.738999</td>\n",
       "      <td>-0.434801</td>\n",
       "    </tr>\n",
       "    <tr>\n",
       "      <th>1</th>\n",
       "      <td>1.128152</td>\n",
       "      <td>-1.281035</td>\n",
       "      <td>-1.738999</td>\n",
       "      <td>1.195704</td>\n",
       "    </tr>\n",
       "    <tr>\n",
       "      <th>2</th>\n",
       "      <td>-0.886405</td>\n",
       "      <td>-1.352802</td>\n",
       "      <td>-1.700830</td>\n",
       "      <td>-1.715913</td>\n",
       "    </tr>\n",
       "    <tr>\n",
       "      <th>3</th>\n",
       "      <td>-0.886405</td>\n",
       "      <td>-1.137502</td>\n",
       "      <td>-1.700830</td>\n",
       "      <td>1.040418</td>\n",
       "    </tr>\n",
       "    <tr>\n",
       "      <th>4</th>\n",
       "      <td>-0.886405</td>\n",
       "      <td>-0.563369</td>\n",
       "      <td>-1.662660</td>\n",
       "      <td>-0.395980</td>\n",
       "    </tr>\n",
       "    <tr>\n",
       "      <th>...</th>\n",
       "      <td>...</td>\n",
       "      <td>...</td>\n",
       "      <td>...</td>\n",
       "      <td>...</td>\n",
       "    </tr>\n",
       "    <tr>\n",
       "      <th>195</th>\n",
       "      <td>-0.886405</td>\n",
       "      <td>-0.276302</td>\n",
       "      <td>2.268791</td>\n",
       "      <td>1.118061</td>\n",
       "    </tr>\n",
       "    <tr>\n",
       "      <th>196</th>\n",
       "      <td>-0.886405</td>\n",
       "      <td>0.441365</td>\n",
       "      <td>2.497807</td>\n",
       "      <td>-0.861839</td>\n",
       "    </tr>\n",
       "    <tr>\n",
       "      <th>197</th>\n",
       "      <td>1.128152</td>\n",
       "      <td>-0.491602</td>\n",
       "      <td>2.497807</td>\n",
       "      <td>0.923953</td>\n",
       "    </tr>\n",
       "    <tr>\n",
       "      <th>198</th>\n",
       "      <td>1.128152</td>\n",
       "      <td>-0.491602</td>\n",
       "      <td>2.917671</td>\n",
       "      <td>-1.250054</td>\n",
       "    </tr>\n",
       "    <tr>\n",
       "      <th>199</th>\n",
       "      <td>1.128152</td>\n",
       "      <td>-0.635135</td>\n",
       "      <td>2.917671</td>\n",
       "      <td>1.273347</td>\n",
       "    </tr>\n",
       "  </tbody>\n",
       "</table>\n",
       "<p>200 rows × 4 columns</p>\n",
       "</div>"
      ],
      "text/plain": [
       "        Genre       Age  Annual Income (k$)  Spending Score (1-100)\n",
       "0    1.128152 -1.424569           -1.738999               -0.434801\n",
       "1    1.128152 -1.281035           -1.738999                1.195704\n",
       "2   -0.886405 -1.352802           -1.700830               -1.715913\n",
       "3   -0.886405 -1.137502           -1.700830                1.040418\n",
       "4   -0.886405 -0.563369           -1.662660               -0.395980\n",
       "..        ...       ...                 ...                     ...\n",
       "195 -0.886405 -0.276302            2.268791                1.118061\n",
       "196 -0.886405  0.441365            2.497807               -0.861839\n",
       "197  1.128152 -0.491602            2.497807                0.923953\n",
       "198  1.128152 -0.491602            2.917671               -1.250054\n",
       "199  1.128152 -0.635135            2.917671                1.273347\n",
       "\n",
       "[200 rows x 4 columns]"
      ]
     },
     "execution_count": 6,
     "metadata": {},
     "output_type": "execute_result"
    }
   ],
   "source": [
    "from sklearn.preprocessing import StandardScaler\n",
    "\n",
    "# Normalize the features using StandardScaler\n",
    "scaler = StandardScaler()\n",
    "normalized_features = scaler.fit_transform(df)\n",
    "\n",
    "# Create a new dataframe with the normalized features\n",
    "df = pd.DataFrame(normalized_features, columns=df.columns)\n",
    "df"
   ]
  },
  {
   "cell_type": "code",
   "execution_count": 7,
   "id": "e2e0af57",
   "metadata": {},
   "outputs": [
    {
     "name": "stdout",
     "output_type": "stream",
     "text": [
      "Best parameters: eps = 0.5 , min_samples = 2\n"
     ]
    }
   ],
   "source": [
    "from sklearn.cluster import DBSCAN\n",
    "from sklearn.metrics import silhouette_score, calinski_harabasz_score, davies_bouldin_score\n",
    "from sklearn.model_selection import ParameterGrid\n",
    "\n",
    "# Assuming 'df' is your preprocessed dataframe\n",
    "\n",
    "# Define the range of hyperparameter values to search\n",
    "param_grid = {\n",
    "    'eps': [0.1, 0.2, 0.3, 0.4, 0.5],\n",
    "    'min_samples': [2, 3, 4, 5, 6]\n",
    "}\n",
    "\n",
    "best_score = -1\n",
    "best_eps = None\n",
    "best_min_samples = None\n",
    "\n",
    "# Iterate over the parameter combinations\n",
    "for params in ParameterGrid(param_grid):\n",
    "    dbscan = DBSCAN(eps=params['eps'], min_samples=params['min_samples'])\n",
    "    dbscan.fit(df)\n",
    "    labels = dbscan.labels_\n",
    "    \n",
    "    try:\n",
    "    # Evaluate the clustering performance using silhouette score\n",
    "        silhouette = silhouette_score(df, labels)\n",
    "\n",
    "        # Update the best parameters if a better score is found\n",
    "        if silhouette > best_score:\n",
    "            best_score = silhouette\n",
    "            best_eps = params['eps']\n",
    "            best_min_samples = params['min_samples']\n",
    "    except:\n",
    "        continue\n",
    "\n",
    "print(\"Best parameters: eps =\", best_eps, \", min_samples =\", best_min_samples)\n"
   ]
  },
  {
   "cell_type": "code",
   "execution_count": 8,
   "id": "7b891e74",
   "metadata": {},
   "outputs": [
    {
     "name": "stdout",
     "output_type": "stream",
     "text": [
      "[-1  0 -1  1 -1  1 -1  1 -1  1 -1 -1  1  1 -1  0  1  0 -1 -1 -1  0  1  0\n",
      "  1  0  1  0  1  1 -1  1 -1 -1  1  1  1  1  1  1  1  0  2  1  1  1  1  1\n",
      "  1  1  1 -1  1  2  1  2  1  2  1  2  2  3  1  1  2  3  1  1  3  1  2  1\n",
      "  1  1  2  3  1  2  1  1  2  2  2  1  1  2  1  1  1  1  1  3  2  1  1  3\n",
      "  1  1  2  3  1  1  2  3  2  1  1  2  2  2  2  1  1  3  1  1  1  1  1  1\n",
      "  3  1  1  4  1  1  2  4 -1  4  2  4  1  1  5  1  6  4  5  1  6  4  1  1\n",
      "  5  4  2  1  7  4  2  4  6  1  6  1  2  1  2  1  1  1  5  1  2  1  2  1\n",
      "  7  4  2  4  2  4  6  1 -1  4 -1  4  7  1  2  1  7  4  6  4  7  1  7  1\n",
      " -1  1 -1  1 -1 -1 -1 -1]\n",
      "Silhouette Coefficient: 0.13577223739354735\n"
     ]
    }
   ],
   "source": [
    "dbscan = DBSCAN(eps=.7, min_samples=4)\n",
    "dbscan.fit(df)\n",
    "from sklearn.metrics import silhouette_score, calinski_harabasz_score, davies_bouldin_score\n",
    "\n",
    "# Assuming 'df' is your preprocessed dataframe and 'dbscan' is the fitted DBSCAN model\n",
    "\n",
    "labels = dbscan.fit_predict(df)\n",
    "print(labels)\n",
    "# labels = dbscan.labels_\n",
    "silhouette = silhouette_score(df, labels)\n",
    "print(\"Silhouette Coefficient:\", silhouette)"
   ]
  },
  {
   "cell_type": "code",
   "execution_count": 9,
   "id": "96a265f3",
   "metadata": {},
   "outputs": [
    {
     "name": "stdout",
     "output_type": "stream",
     "text": [
      "Silhouette Coefficient: 0.13577223739354735\n",
      "Calinski-Harabasz Index: 20.99046208740555\n",
      "Davies-Bouldin Index: 1.9779065816967534\n"
     ]
    }
   ],
   "source": [
    "# Evaluate the performance using different metrics\n",
    "silhouette = silhouette_score(df, labels)\n",
    "calinski_harabasz = calinski_harabasz_score(df, labels)\n",
    "davies_bouldin = davies_bouldin_score(df, labels)\n",
    "\n",
    "print(\"Silhouette Coefficient:\", silhouette)\n",
    "print(\"Calinski-Harabasz Index:\", calinski_harabasz)\n",
    "print(\"Davies-Bouldin Index:\", davies_bouldin)"
   ]
  },
  {
   "cell_type": "code",
   "execution_count": 10,
   "id": "76335097",
   "metadata": {},
   "outputs": [
    {
     "data": {
      "application/javascript": [
       "\n",
       "        if (window._pyforest_update_imports_cell) { window._pyforest_update_imports_cell('import pandas as pd\\nimport seaborn as sns'); }\n",
       "    "
      ],
      "text/plain": [
       "<IPython.core.display.Javascript object>"
      ]
     },
     "metadata": {},
     "output_type": "display_data"
    },
    {
     "data": {
      "application/javascript": [
       "\n",
       "        if (window._pyforest_update_imports_cell) { window._pyforest_update_imports_cell('import pandas as pd\\nimport seaborn as sns'); }\n",
       "    "
      ],
      "text/plain": [
       "<IPython.core.display.Javascript object>"
      ]
     },
     "metadata": {},
     "output_type": "display_data"
    },
    {
     "name": "stderr",
     "output_type": "stream",
     "text": [
      "/var/folders/_0/6mxrdhbx3ynb4d0_h8gp41tw0000gn/T/ipykernel_2547/339150389.py:9: UserWarning: The palette list has more values (12) than needed (9), which may not be intended.\n",
      "  sns.scatterplot(data=df, x='Annual Income (k$)', y='Spending Score (1-100)', hue=labels, palette=custom_palette)\n"
     ]
    },
    {
     "data": {
      "application/javascript": [
       "\n",
       "        if (window._pyforest_update_imports_cell) { window._pyforest_update_imports_cell('import seaborn as sns\\nimport pandas as pd\\nimport matplotlib.pyplot as plt'); }\n",
       "    "
      ],
      "text/plain": [
       "<IPython.core.display.Javascript object>"
      ]
     },
     "metadata": {},
     "output_type": "display_data"
    },
    {
     "data": {
      "application/javascript": [
       "\n",
       "        if (window._pyforest_update_imports_cell) { window._pyforest_update_imports_cell('import seaborn as sns\\nimport pandas as pd\\nimport matplotlib.pyplot as plt'); }\n",
       "    "
      ],
      "text/plain": [
       "<IPython.core.display.Javascript object>"
      ]
     },
     "metadata": {},
     "output_type": "display_data"
    },
    {
     "data": {
      "application/javascript": [
       "\n",
       "        if (window._pyforest_update_imports_cell) { window._pyforest_update_imports_cell('import seaborn as sns\\nimport pandas as pd\\nimport matplotlib.pyplot as plt'); }\n",
       "    "
      ],
      "text/plain": [
       "<IPython.core.display.Javascript object>"
      ]
     },
     "metadata": {},
     "output_type": "display_data"
    },
    {
     "data": {
      "application/javascript": [
       "\n",
       "        if (window._pyforest_update_imports_cell) { window._pyforest_update_imports_cell('import seaborn as sns\\nimport pandas as pd\\nimport matplotlib.pyplot as plt'); }\n",
       "    "
      ],
      "text/plain": [
       "<IPython.core.display.Javascript object>"
      ]
     },
     "metadata": {},
     "output_type": "display_data"
    },
    {
     "data": {
      "image/png": "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\n",
      "text/plain": [
       "<Figure size 640x480 with 1 Axes>"
      ]
     },
     "metadata": {},
     "output_type": "display_data"
    }
   ],
   "source": [
    "# Set the plot style (optional)\n",
    "sns.set_style(\"whitegrid\")\n",
    "\n",
    "# Define a custom color palette\n",
    "custom_palette = ['#FF0000', '#00FF00', '#0000FF', '#FFFF00', '#00FFFF', '#FF00FF', '#800080', '#FFA500', '#008000', '#800000', '#008080', '#FFC0CB']\n",
    " # Example colors\n",
    "\n",
    "# Create a scatter plot with custom color palette\n",
    "sns.scatterplot(data=df, x='Annual Income (k$)', y='Spending Score (1-100)', hue=labels, palette=custom_palette)\n",
    "\n",
    "# Customize the plot (optional)\n",
    "plt.title('Scatter Plot')\n",
    "plt.xlabel('Annual Income (k$)')\n",
    "plt.ylabel('Spending Score (1-100)')\n",
    "\n",
    "# Show the plot\n",
    "plt.show()"
   ]
  },
  {
   "cell_type": "code",
   "execution_count": null,
   "id": "16ead3d8",
   "metadata": {},
   "outputs": [],
   "source": []
  },
  {
   "cell_type": "code",
   "execution_count": null,
   "id": "7368baa1",
   "metadata": {},
   "outputs": [],
   "source": []
  }
 ],
 "metadata": {
  "kernelspec": {
   "display_name": "Python 3 (ipykernel)",
   "language": "python",
   "name": "python3"
  },
  "language_info": {
   "codemirror_mode": {
    "name": "ipython",
    "version": 3
   },
   "file_extension": ".py",
   "mimetype": "text/x-python",
   "name": "python",
   "nbconvert_exporter": "python",
   "pygments_lexer": "ipython3",
   "version": "3.9.9"
  }
 },
 "nbformat": 4,
 "nbformat_minor": 5
}

CustomerID,Genre,Age,Annual Income (k$),Spending Score (1-100)
0001,Male,19,15,39
0002,Male,21,15,81
0003,Female,20,16,6
0004,Female,23,16,77
0005,Female,31,17,40
0006,Female,22,17,76
0007,Female,35,18,6
0008,Female,23,18,94
0009,Male,64,19,3
0010,Female,30,19,72
0011,Male,67,19,14
0012,Female,35,19,99
0013,Female,58,20,15
0014,Female,24,20,77
0015,Male,37,20,13
0016,Male,22,20,79
0017,Female,35,21,35
0018,Male,20,21,66
0019,Male,52,23,29
0020,Female,35,23,98
0021,Male,35,24,35
0022,Male,25,24,73
0023,Female,46,25,5
0024,Male,31,25,73
0025,Female,54,28,14
0026,Male,29,28,82
0027,Female,45,28,32
0028,Male,35,28,61
0029,Female,40,29,31
0030,Female,23,29,87
0031,Male,60,30,4
0032,Female,21,30,73
0033,Male,53,33,4
0034,Male,18,33,92
0035,Female,49,33,14
0036,Female,21,33,81
0037,Female,42,34,17
0038,Female,30,34,73
0039,Female,36,37,26
0040,Female,20,37,75
0041,Female,65,38,35
0042,Male,24,38,92
0043,Male,48,39,36
0044,Female,31,39,61
0045,Female,49,39,28
0046,Female,24,39,65
0047,Female,50,40,55
0048,Female,27,40,47
0049,Female,29,40,42
0050,Female,31,40,42
0051,Female,49,42,52
0052,Male,33,42,60
0053,Female,31,43,54
0054,Male,59,43,60
0055,Female,50,43,45
0056,Male,47,43,41
0057,Female,51,44,50
0058,Male,69,44,46
0059,Female,27,46,51
0060,Male,53,46,46
0061,Male,70,46,56
0062,Male,19,46,55
0063,Female,67,47,52
0064,Female,54,47,59
0065,Male,63,48,51
0066,Male,18,48,59
0067,Female,43,48,50
0068,Female,68,48,48
0069,Male,19,48,59
0070,Female,32,48,47
0071,Male,70,49,55
0072,Female,47,49,42
0073,Female,60,50,49
0074,Female,60,50,56
0075,Male,59,54,47
0076,Male,26,54,54
0077,Female,45,54,53
0078,Male,40,54,48
0079,Female,23,54,52
0080,Female,49,54,42
0081,Male,57,54,51
0082,Male,38,54,55
0083,Male,67,54,41
0084,Female,46,54,44
0085,Female,21,54,57
0086,Male,48,54,46
0087,Female,55,57,58
0088,Female,22,57,55
0089,Female,34,58,60
0090,Female,50,58,46
0091,Female,68,59,55
0092,Male,18,59,41
0093,Male,48,60,49
0094,Female,40,60,40
0095,Female,32,60,42
0096,Male,24,60,52
0097,Female,47,60,47
0098,Female,27,60,50
0099,Male,48,61,42
0100,Male,20,61,49
0101,Female,23,62,41
0102,Female,49,62,48
0103,Male,67,62,59
0104,Male,26,62,55
0105,Male,49,62,56
0106,Female,21,62,42
0107,Female,66,63,50
0108,Male,54,63,46
0109,Male,68,63,43
0110,Male,66,63,48
0111,Male,65,63,52
0112,Female,19,63,54
0113,Female,38,64,42
0114,Male,19,64,46
0115,Female,18,65,48
0116,Female,19,65,50
0117,Female,63,65,43
0118,Female,49,65,59
0119,Female,51,67,43
0120,Female,50,67,57
0121,Male,27,67,56
0122,Female,38,67,40
0123,Female,40,69,58
0124,Male,39,69,91
0125,Female,23,70,29
0126,Female,31,70,77
0127,Male,43,71,35
0128,Male,40,71,95
0129,Male,59,71,11
0130,Male,38,71,75
0131,Male,47,71,9
0132,Male,39,71,75
0133,Female,25,72,34
0134,Female,31,72,71
0135,Male,20,73,5
0136,Female,29,73,88
0137,Female,44,73,7
0138,Male,32,73,73
0139,Male,19,74,10
0140,Female,35,74,72
0141,Female,57,75,5
0142,Male,32,75,93
0143,Female,28,76,40
0144,Female,32,76,87
0145,Male,25,77,12
0146,Male,28,77,97
0147,Male,48,77,36
0148,Female,32,77,74
0149,Female,34,78,22
0150,Male,34,78,90
0151,Male,43,78,17
0152,Male,39,78,88
0153,Female,44,78,20
0154,Female,38,78,76
0155,Female,47,78,16
0156,Female,27,78,89
0157,Male,37,78,1
0158,Female,30,78,78
0159,Male,34,78,1
0160,Female,30,78,73
0161,Female,56,79,35
0162,Female,29,79,83
0163,Male,19,81,5
0164,Female,31,81,93
0165,Male,50,85,26
0166,Female,36,85,75
0167,Male,42,86,20
0168,Female,33,86,95
0169,Female,36,87,27
0170,Male,32,87,63
0171,Male,40,87,13
0172,Male,28,87,75
0173,Male,36,87,10
0174,Male,36,87,92
0175,Female,52,88,13
0176,Female,30,88,86
0177,Male,58,88,15
0178,Male,27,88,69
0179,Male,59,93,14
0180,Male,35,93,90
0181,Female,37,97,32
0182,Female,32,97,86
0183,Male,46,98,15
0184,Female,29,98,88
0185,Female,41,99,39
0186,Male,30,99,97
0187,Female,54,101,24
0188,Male,28,101,68
0189,Female,41,103,17
0190,Female,36,103,85
0191,Female,34,103,23
0192,Female,32,103,69
0193,Male,33,113,8
0194,Female,38,113,91
0195,Female,47,120,16
0196,Female,35,120,79
0197,Female,45,126,28
0198,Male,32,126,74
0199,Male,32,137,18
0200,Male,30,137,83
