{
 "cells": [
  {
   "cell_type": "markdown",
   "id": "3cb9371f",
   "metadata": {},
   "source": [
    "1: What are the Probability Mass Function (PMF) and Probability Density Function (PDF)? Explain with \n",
    "an example.\n",
    "\n",
    "Ans:- PMF is for discreat random variable where variable are countable and finite.\n",
    "\n",
    "For example, if X is the number of heads in 10 coin tosses, the PMF of X is given by:\n",
    "\n",
    "P(X = k) = C(10,k) * (1/2)^10\n",
    "\n",
    "where C(10,k) is the binomial coefficient, which represents the number of ways to choose k heads from 10 coin tosses. This formula gives the probability of getting exactly k heads in 10 coin tosses.\n",
    "\n",
    "The PDF, on the other hand, gives the probability density of a continuous random variable. For example, if X is the height of a person, the PDF of X gives the probability density of X at a particular height, say 6 feet."
   ]
  },
  {
   "cell_type": "markdown",
   "id": "04ac42d9",
   "metadata": {},
   "source": [
    "Q2: What is Cumulative Density Function (CDF)? Explain with an example. Why CDF is used?\n",
    "\n",
    "Ans:- Cdf is the sumation of the probability density function, it represent the probability of an happening of a event less or equall to that perticular value, i.e probability of getting less then 5 Head when tossing a coin 10 times.\n",
    "CDF gives the sum of all the probability of the event and the event less them that value."
   ]
  },
  {
   "cell_type": "markdown",
   "id": "0397384c",
   "metadata": {},
   "source": [
    "Q3: What are some examples of situations where the normal distribution might be used as a model? \n",
    "Explain how the parameters of the normal distribution relate to the shape of the distribution.\n",
    "\n",
    "Ans:- When the data is spread in such a way that most of its values are lying near the mean and lesser no. of obesrvation we get as we go away from the mean, such distribution is known as normal distribution, example: Height or female in a state of india of age above 20. lets take the example of uttra pradesh, where average height is found to be 5 feet 1 inch,and 50% of the population have the height in the small range of 4 feet 10 inch to 5 feet 3 inch, and rest are spread outside the above range. As a result we get a normal distribution of bell shaped curve and many answers can we found regarding this data by knowing th properties of the normal distribution.\n",
    "\n",
    "Properties of Normal distribution:-\n",
    "it is symmetric, bell shaped curve at its mean value, 68% 95% 99.7% population lies in σ ,2σ ,3σ  standard deviation of a  normal distribution.\n",
    "\n"
   ]
  },
  {
   "cell_type": "markdown",
   "id": "25de3166",
   "metadata": {},
   "source": [
    "Q4: Explain the importance of Normal Distribution. Give a few real-life examples of Normal \n",
    "Distribution.\n",
    "\n",
    "Ans:- most of the things found in nature where most of the values are lying around the mean shows normal distribution like Height of human, animal, skin tone in perticular region, size of grain, hair thichness, height of a perticular tree, age of human in perticular area etc.\n",
    "Importance:- On finding that the perticular distribution is normal distribution we can apply the various facts of normal distribution to know about the data like 68% 95% 99.7% population lies in σ ,2σ ,3σ  standard deviation of a  normal distribution, we can do hypotheses testing by taking the sample from the population to check its correctness etc."
   ]
  },
  {
   "cell_type": "markdown",
   "id": "8670884a",
   "metadata": {},
   "source": [
    "Q5: What is Bernaulli Distribution? Give an Example. What is the difference between Bernoulli \n",
    "Distribution and Binomial Distribution?\n",
    "\n",
    "ANS:- The Bernoulli distribution is a discrete probability distribution that represents a random variable that can take only two possible values, The distribution is characterized by a single parameter p, which represents the probability of success in a single trial.\n",
    "\n",
    "The Bernoulli distribution is a special case of the binomial distribution, which models the number of successes in a fixed number of independent Bernoulli trials."
   ]
  },
  {
   "cell_type": "markdown",
   "id": "17f7d023",
   "metadata": {},
   "source": [
    "Q6. Consider a dataset with a mean of 50 and a standard deviation of 10. If we assume that the dataset \n",
    "is normally distributed, what is the probability that a randomly selected observation will be greater \n",
    "than 60? Use the appropriate formula and show your calculations.\n",
    "\n",
    "Ans:- given :- mu = 50, sd = 10\n",
    "to find area of z score when mu1 = 60\n",
    "z score at mu1 = 60 = (mu1-mu)/sd= 1\n",
    "considering sample size is greater then 30, we calculate area of right side of 1 std div.\n",
    "ans is 0.158 %"
   ]
  },
  {
   "cell_type": "markdown",
   "id": "781b6972",
   "metadata": {},
   "source": [
    "Q7: Explain uniform Distribution with an example.\n",
    "Ans:- when the probability of outcome is same for every sample then the distribution so formed is uniform distribution, example throwing a dies have 6 outcome 1 to 6. and every one have same probability to come that is 1.6"
   ]
  },
  {
   "cell_type": "markdown",
   "id": "4d190b39",
   "metadata": {},
   "source": [
    "Q8: What is the z score? State the importance of the z score.\n",
    "    \n",
    "Ans:- when we know that the distribution is a normal distribution then we can know many properties of the data by just knowing the property of standard uniform distribution N(0,1) , the probability distribution of standard normal distribution and its value under every point is calculated in z table, to use this information for our normal distribution we convert our data to standard distribution by z = (x-mu)/σ and then this z value can be compared to standard table.   "
   ]
  },
  {
   "cell_type": "markdown",
   "id": "8d5229ec",
   "metadata": {},
   "source": [
    "Q9: What is Central Limit Theorem? State the significance of the Central Limit Theorem.\n",
    "\n",
    "Ans:- Central Limit Theorem states that if we collect many samples from the population then the mean of the samples shows the normal distribution regardless of the distribution of the original population, and the mean of means approches to population mean. Its significance is that when we are unaware of the type of distribution we can still able to find its mean and variance."
   ]
  },
  {
   "cell_type": "markdown",
   "id": "742b3e37",
   "metadata": {},
   "source": [
    "Q10: State the assumptions of the Central Limit Theorem.\n",
    "    \n",
    "Ans:- The assumptions of the Central Limit Theorem are:\n",
    "\n",
    "The sample size is sufficiently large. As a general rule of thumb, a sample size of at least 30 is often considered large enough for the CLT to apply.\n",
    "\n",
    "The observations in the sample are independent. In other words, the values of one observation do not depend on the values of any other observations.\n",
    "\n",
    "The population from which the sample is drawn has a finite variance. This means that the values in the population are not too spread out.\n",
    "\n",
    "The population is normally distributed, or the sample size is large enough that the distribution of the sample means is approximately normal, even if the population distribution is not normal."
   ]
  }
 ],
 "metadata": {
  "kernelspec": {
   "display_name": "Python 3 (ipykernel)",
   "language": "python",
   "name": "python3"
  },
  "language_info": {
   "codemirror_mode": {
    "name": "ipython",
    "version": 3
   },
   "file_extension": ".py",
   "mimetype": "text/x-python",
   "name": "python",
   "nbconvert_exporter": "python",
   "pygments_lexer": "ipython3",
   "version": "3.9.9"
  }
 },
 "nbformat": 4,
 "nbformat_minor": 5
}
