{
 "cells": [
  {
   "cell_type": "code",
   "execution_count": 1,
   "id": "aac3151e",
   "metadata": {},
   "outputs": [],
   "source": [
    "import numpy as np\n",
    "import pandas as pd\n",
    "from scipy.stats import mode\n",
    "import warnings\n",
    "warnings.filterwarnings(\"ignore\")"
   ]
  },
  {
   "cell_type": "markdown",
   "id": "669a827f",
   "metadata": {},
   "source": [
    "Q1. What are the three measures of central tendency?\n",
    "\n",
    "Ans:- Mean, Median, Mode is three central tendency\n",
    "\n",
    "Q2. What is the difference between the mean, median, and mode? How are they used to measure the\n",
    "central tendency of a dataset?\n",
    "\n",
    "Ans:- Mean is average of data, median is the middle value of sorted data and mode is most frequent value.\n",
    "\n",
    "Q3. Measure the three measures of central tendency for the given height data:\n",
    "\n",
    " [178,177,176,177,178.2,178,175,179,180,175,178.9,176.2,177,172.5,178,176.5]"
   ]
  },
  {
   "cell_type": "code",
   "execution_count": 2,
   "id": "964e3437",
   "metadata": {},
   "outputs": [],
   "source": [
    "height =  [178,177,176,177,178.2,178,175,179,180,175,178.9,176.2,177,172.5,178,176.5]\n",
    "height = np.array(height)"
   ]
  },
  {
   "cell_type": "code",
   "execution_count": 3,
   "id": "ea91bd37",
   "metadata": {},
   "outputs": [
    {
     "name": "stdout",
     "output_type": "stream",
     "text": [
      "mean is 177.01875, median is is 177.0and mode is [177.]\n"
     ]
    }
   ],
   "source": [
    "print(f'mean is {np.mean(height)}, median is is {np.median(height)}and mode is {mode(height).mode}')\n"
   ]
  },
  {
   "cell_type": "code",
   "execution_count": 4,
   "id": "2b69b4b5",
   "metadata": {},
   "outputs": [
    {
     "data": {
      "text/plain": [
       "1.7885814036548633"
      ]
     },
     "execution_count": 4,
     "metadata": {},
     "output_type": "execute_result"
    }
   ],
   "source": [
    "# Q4. Find the standard deviation for the given data:\n",
    "\n",
    "data = np.array([178,177,176,177,178.2,178,175,179,180,175,178.9,176.2,177,172.5,178,176.5])\n",
    "np.std(data)"
   ]
  },
  {
   "cell_type": "markdown",
   "id": "8f27f6ea",
   "metadata": {},
   "source": [
    "Q5. How are measures of dispersion such as range, variance, and standard deviation used to describe\n",
    "the spread of a dataset? Provide an example."
   ]
  },
  {
   "cell_type": "code",
   "execution_count": 5,
   "id": "4873fa25",
   "metadata": {},
   "outputs": [
    {
     "data": {
      "text/plain": [
       "6.666666666666667"
      ]
     },
     "execution_count": 5,
     "metadata": {},
     "output_type": "execute_result"
    }
   ],
   "source": [
    "data = np.array([1,2,3,4,5,6,7,8,9])\n",
    "\n",
    "# RNAGE:- here range tells that the difference between the max value and min value, if the difference is less then the spread is less and values are concentrated. So range is 9-1 = 8\n",
    "\n",
    "# VARIANCE:- it is average of sum of square of deviation of each value from the mean, lesser the values are separated from the mean, concentrated the values are.\n",
    "np.var(data)"
   ]
  },
  {
   "cell_type": "markdown",
   "id": "4834f60c",
   "metadata": {},
   "source": [
    "STANDARD DEVIATION:- It is sqrt of variance, as it is not the square term of the errors like variance, it provide and understandable value which is comparable to mean.\n"
   ]
  },
  {
   "cell_type": "code",
   "execution_count": 6,
   "id": "5c737fbb",
   "metadata": {},
   "outputs": [
    {
     "data": {
      "text/plain": [
       "2.581988897471611"
      ]
     },
     "execution_count": 6,
     "metadata": {},
     "output_type": "execute_result"
    }
   ],
   "source": [
    "np.std(data)"
   ]
  },
  {
   "cell_type": "markdown",
   "id": "a46a3092",
   "metadata": {},
   "source": [
    "Q6. What is a Venn diagram?\n",
    "\n",
    "Ans:- A Venn diagram is a graphical representation of the relationships between sets. It is a diagram that uses circles or other shapes to represent sets and their relationships to one another. The size and position of the circles in the diagram indicate the degree of overlap or inclusion of the sets."
   ]
  },
  {
   "cell_type": "code",
   "execution_count": 7,
   "id": "448a5650",
   "metadata": {},
   "outputs": [
    {
     "name": "stdout",
     "output_type": "stream",
     "text": [
      "intersection of A and B is {2, 6}\n",
      "union of A and B is {0, 2, 3, 4, 5, 6, 7, 8, 10}\n"
     ]
    }
   ],
   "source": [
    "# Q7. For the two given sets A = (2,3,4,5,6,7) & B = (0,2,6,8,10). Find:\n",
    "\n",
    "# (i) \tA B\n",
    "\n",
    "# (ii)\tA ⋃ B\n",
    "A = {2,3,4,5,6,7}\n",
    "B = {0,2,6,8,10}\n",
    "print(f'intersection of A and B is {A & B}')\n",
    "print(f'union of A and B is {A | B}')"
   ]
  },
  {
   "cell_type": "markdown",
   "id": "c9bcd90a",
   "metadata": {},
   "source": [
    "Q8. What do you understand about skewness in data?\n",
    "\n",
    "Ans:- When we plot the data and find that the distribution is not normally distributed but one side is extended called skewed data.\n",
    "example:- suppose we plot the graph of salary of employee, then we found that mode is 30,000/- but few managers are earning in 5-6 lakh per month, hence distribution will tilt towards right known as right skewed distribution, in a similar way data can be left skewed."
   ]
  },
  {
   "cell_type": "markdown",
   "id": "4e2938c1",
   "metadata": {},
   "source": [
    "Q9. If a data is right skewed then what will be the position of median with respect to mean?\n",
    "\n",
    "Ans:- If data is right skewed then Mean >Median >Mode"
   ]
  },
  {
   "cell_type": "markdown",
   "id": "c590a26e",
   "metadata": {},
   "source": [
    "Q10. Explain the difference between covariance and correlation. How are these measures used in\n",
    "statistical analysis?\n",
    "Ans:- Covariance tells the relation between two variables , higher the value of covariance more they are increasing or decreasing with each other but the value can lies in any range, hence we cannot tell out of two covariance which set of data is more corelated. This problem is solved by cofficient of covarianc called corelation, its value lies between [-1,1] -1 shows that variables are inversely corelated, i.e. if value of first increase other will decrease, 0 value of correlation shows that there is no relation between both variables, value near to 1 shows high positive relation."
   ]
  },
  {
   "cell_type": "markdown",
   "id": "0593a540",
   "metadata": {},
   "source": [
    "Q11. What is the formula for calculating the sample mean? Provide an example calculation for a\n",
    "dataset.\n",
    "\n"
   ]
  },
  {
   "cell_type": "code",
   "execution_count": 8,
   "id": "44ae3575",
   "metadata": {},
   "outputs": [
    {
     "data": {
      "text/plain": [
       "2.5"
      ]
     },
     "execution_count": 8,
     "metadata": {},
     "output_type": "execute_result"
    }
   ],
   "source": [
    "# Ans:- mean = sum of values / no. of values\n",
    "data = [1,2,3,4]\n",
    "mean = (1+2+3+4)/4\n",
    "mean"
   ]
  },
  {
   "cell_type": "code",
   "execution_count": 9,
   "id": "c8089b34",
   "metadata": {},
   "outputs": [
    {
     "ename": "SyntaxError",
     "evalue": "invalid syntax (79700234.py, line 3)",
     "output_type": "error",
     "traceback": [
      "\u001b[0;36m  Cell \u001b[0;32mIn[9], line 3\u001b[0;36m\u001b[0m\n\u001b[0;31m    Ans:- Mean = median= Mode\u001b[0m\n\u001b[0m                       ^\u001b[0m\n\u001b[0;31mSyntaxError\u001b[0m\u001b[0;31m:\u001b[0m invalid syntax\n"
     ]
    }
   ],
   "source": [
    "Q12. For a normal distribution data what is the relationship between its measure of central tendency?\n",
    "\n",
    "Ans:- Mean = median= Mode"
   ]
  },
  {
   "cell_type": "markdown",
   "id": "79e5daa1",
   "metadata": {},
   "source": [
    "Q13. How is covariance different from correlation?\n",
    "Ans:- Covariance tells the relation between two variables , higher the value of covariance more they are increasing or decreasing with each other but the value can lies in any range, hence we cannot tell out of two covariance which set of data is more corelated. This problem is solved by cofficient of covarianc called corelation, its value lies between [-1,1] -1 shows that variables are inversely corelated, i.e. if value of first increase other will decrease, 0 value of correlation shows that there is no relation between both variables, value near to 1 shows high positive relation."
   ]
  },
  {
   "cell_type": "code",
   "execution_count": null,
   "id": "1a6c07e7",
   "metadata": {},
   "outputs": [],
   "source": [
    "# Q14. How do outliers affect measures of central tendency and dispersion? Provide an example.\n",
    "height = [1,2,3,3,4] \n",
    "print(f'mean is {np.mean(height)}, median is{np.median(height)}, mode is {mode(height).mode} and standard deviation is {np.std(np.array(height))}')\n",
    "print('-'*100)\n",
    "height = [1,2,3,3,4, 1000] \n",
    "print(f'mean is {np.mean(height)}, median is{np.median(height)} and mode is {mode(height).mode}and standard deviation is {np.std(np.array(height))}')\n",
    "height = [1,2,3,3,4, 1000] "
   ]
  },
  {
   "cell_type": "markdown",
   "id": "f3c51f42",
   "metadata": {},
   "source": [
    "Ans:- when outliers enters in a data set then measures of central tendency and dispersion get effected.\n",
    "before outliear values are mean is 2.6, median is3.0and mode is 3 and range is 3, but after outlier values are mean is 168.83333333333334, median is3.0and mode is 3 and range become 999, shows that mean and range effect very high while mean and mode least, standard deviation also changes from 1 to 371."
   ]
  }
 ],
 "metadata": {
  "kernelspec": {
   "display_name": "Python 3 (ipykernel)",
   "language": "python",
   "name": "python3"
  },
  "language_info": {
   "codemirror_mode": {
    "name": "ipython",
    "version": 3
   },
   "file_extension": ".py",
   "mimetype": "text/x-python",
   "name": "python",
   "nbconvert_exporter": "python",
   "pygments_lexer": "ipython3",
   "version": "3.9.9"
  }
 },
 "nbformat": 4,
 "nbformat_minor": 5
}
