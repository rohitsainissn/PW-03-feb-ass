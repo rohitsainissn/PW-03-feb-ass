{
 "cells": [
  {
   "cell_type": "markdown",
   "id": "103fe6be",
   "metadata": {},
   "source": [
    "Q1. What is data encoding? How is it useful in data science?\n",
    "\n",
    "Ans:- as we know machine learning model works only on numerical data hence when we have nominal data or categorical data then we use one hot encoding to convert categorical to numeric formate. When we have ordinal data then we use ordinal encoding.\n",
    "it is very useful in data science as the model can work on numerical data hence it can be trained.\n",
    "\n",
    "Q2. What is nominal encoding? Provide an example of how you would use it in a real-world scenario.\n",
    "\n",
    "Ans:- nominal encoding is to replace the categories with numerical array where the categories have no herercial structure like color, fruits, subjects.\n",
    "red, green, yellow is encoded as 1,2,3\n",
    "\n",
    "When dealing with categorical variables that have a large number of distinct categories, as one-hot encoding can lead to a large number of new features that can be computationally expensive and lead to overfitting.\n",
    "\n",
    "For example, let's consider a dataset containing information about cities in the world. One categorical variable in the dataset is the country in which each city is located. Suppose there are 200 countries in the dataset, and we want to use this variable as a feature in a machine learning model. Using one-hot encoding, we would create 200 new binary features, one for each country, resulting in a high-dimensional feature space. This can lead to computational and memory issues when training the model, especially if the dataset is large.\n",
    "\n",
    "In contrast, nominal encoding would assign a unique integer value to each country, which can be used as a feature in the machine learning model. This results in a lower-dimensional feature space compared to one-hot encoding and can be computationally efficient."
   ]
  },
  {
   "cell_type": "markdown",
   "id": "f7c8d1f8",
   "metadata": {},
   "source": [
    "Q3. In what situations is nominal encoding preferred over one-hot encoding? Provide a practical example.\n",
    "\n",
    "Abns:- Nominal encoding is preferred over one-hot encoding when dealing with categorical variables that have a large number of distinct categories, as one-hot encoding can lead to a large number of new features that can be computationally expensive and lead to overfitting.\n",
    "\n",
    "For example, let's consider a dataset containing information about cities in the world. One categorical variable in the dataset is the country in which each city is located. Suppose there are 200 countries in the dataset, and we want to use this variable as a feature in a machine learning model. Using one-hot encoding, we would create 200 new binary features, one for each country, resulting in a high-dimensional feature space. This can lead to computational and memory issues when training the model, especially if the dataset is large.\n",
    "\n",
    "In contrast, nominal encoding would assign a unique integer value to each country, which can be used as a feature in the machine learning model. This results in a lower-dimensional feature space compared to one-hot encoding and can be computationally efficient.\n",
    "\n",
    "\n",
    "Q4. Suppose you have a dataset containing categorical data with 5 unique values. Which encoding technique would you use to transform this data into a format suitable for machine learning algorithms? Explain why you made this choice.\n",
    "\n",
    "Ans:- We will use ordinal encoding for the feature having ranked values. \n",
    "\n",
    "We will one hot encoding if features do not have ranking system and number of different values are small.\n",
    "\n",
    "If the no of different values is very large Using one-hot encoding, we would create lots of  new binary features, one for each feature, resulting in a high-dimensional feature space. This can lead to computational and memory issues when training the model, especially if the dataset is large. so we use nominal encoding as it would assign a unique integer value to each country, which can be used as a feature in the machine learning model. This results in a lower-dimensional feature space compared to one-hot encoding and can be computationally efficient.\n",
    "\n",
    "\n",
    "\n",
    "Q5. In a machine learning project, you have a dataset with 1000 rows and 5 columns. Two of the columns\n",
    "are categorical, and the remaining three columns are numerical. If you were to use nominal encoding to\n",
    "transform the categorical data, how many new columns would be created? Show your calculations.\n",
    "\n",
    "Ans:- two new columns will be created one for nominal category of first categorical column and other for another categorical column\n",
    "\n",
    "\n",
    "Q6. You are working with a dataset containing information about different types of animals, including their\n",
    "species, habitat, and diet. Which encoding technique would you use to transform the categorical data into\n",
    "a format suitable for machine learning algorithms? Justify your answer.\n",
    "\n",
    "Ans:- as the type of animal, species, habitat, and diet features have no ranking in there value hence we use one hot encoding. if ranking is present in features we wil use ordinal encoding.\n",
    "\n",
    "Q7.You are working on a project that involves predicting customer churn for a telecommunications\n",
    "company. You have a dataset with 5 features, including the customer's gender, age, contract type,\n",
    "monthly charges, and tenure. Which encoding technique(s) would you use to transform the categorical\n",
    "data into numerical data? Provide a step-by-step explanation of how you would implement the encoding.\n",
    "\n",
    "Ans:- we will use one hot encoding on gender, contract type as these features have no rank values. so we use these code"
   ]
  },
  {
   "cell_type": "code",
   "execution_count": 1,
   "id": "40979a5e",
   "metadata": {},
   "outputs": [],
   "source": [
    "# import numpy as np\n",
    "# import pandas as pd\n",
    "# from sklearn.preprocessing import OneHotEncoder\n",
    "# encoder = OneHotEncoder()\n",
    "# encoder.fit_transform(df[['gender','contract_type']])"
   ]
  }
 ],
 "metadata": {
  "kernelspec": {
   "display_name": "Python 3 (ipykernel)",
   "language": "python",
   "name": "python3"
  },
  "language_info": {
   "codemirror_mode": {
    "name": "ipython",
    "version": 3
   },
   "file_extension": ".py",
   "mimetype": "text/x-python",
   "name": "python",
   "nbconvert_exporter": "python",
   "pygments_lexer": "ipython3",
   "version": "3.9.9"
  }
 },
 "nbformat": 4,
 "nbformat_minor": 5
}
