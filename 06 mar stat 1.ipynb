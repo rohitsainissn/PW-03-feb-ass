{
 "cells": [
  {
   "cell_type": "markdown",
   "id": "598e13c3",
   "metadata": {},
   "source": [
    "\n",
    "\n"
   ]
  },
  {
   "cell_type": "markdown",
   "id": "6e210cb7",
   "metadata": {},
   "source": [
    "Q1. What is Statistics?\n",
    "\n",
    "Ans:- Statistics is a branch of mathematics that deals with the collection, analysis, interpretation, presentation, and organization of data. It involves the use of mathematical tools and techniques to analyze and draw conclusions from data. Statistics plays a crucial role in various fields such as business, economics, medicine, social sciences, and many others."
   ]
  },
  {
   "cell_type": "markdown",
   "id": "2db7e678",
   "metadata": {},
   "source": [
    "Q2. Define the different types of statistics and give an example of when each type might be used.\n",
    "\n",
    "Ans:- There are 2 typrs of statistics :- descriptive statistics and inferential statistics.\n",
    "Descriptive Statistics:\n",
    "Descriptive statistics involves the use of summary measures such as mean, median, mode, range, standard deviation, and variance to describe and summarize the data. Descriptive statistics is useful when we want to summarize and describe a large amount of data in a simple and understandable manner.\n",
    "Inferential Statistics:\n",
    "\n",
    "Inferential statistics involves making inferences and drawing conclusions about a population based on a sample of data. Inferential statistics is useful when we want to generalize the results from a sample to the larger population from which it was drawn."
   ]
  },
  {
   "cell_type": "markdown",
   "id": "e29251b9",
   "metadata": {},
   "source": [
    "Q3. What are the different types of data and how do they differ from each other? Provide an example of\n",
    "each type of data.\n",
    "\n",
    "Ans:- There are two types of data :- qualitative and quantative.\n",
    "\n",
    "Quantative data:- it is the data present in numerical values, they are of two type, continuous and discreat.\n",
    "\n",
    "Qualitative data:- it is the data in non numeric formate like (male, female, child ) such that it divides the data in categories, it is of two type:- nominal and ordinal, in nominal the categories are not comparable like (male, female) on th other hand in nominal categories are compared like salary range (low, medium, high)"
   ]
  },
  {
   "cell_type": "markdown",
   "id": "28993ee9",
   "metadata": {},
   "source": [
    "Q4. Categorise the following datasets with respect to quantitative and qualitative data types:\n",
    "(i) Grading in exam: A+, A, B+, B, C+, C, D, E\n",
    "(ii) Colour of mangoes: yellow, green, orange, red\n",
    "(iii) Height data of a class: [178.9, 179, 179.5, 176, 177.2, 178.3, 175.8,...]\n",
    "(iv) Number of mangoes exported by a farm: [500, 600, 478, 672, ...]\n",
    "\n",
    "Ans :- (i) qualitative (ordinal), (ii) qualitative (nominal), (iii) quantative (continuous), (iv) quantative (discreat)"
   ]
  },
  {
   "cell_type": "markdown",
   "id": "58339890",
   "metadata": {},
   "source": [
    "Q5. Explain the concept of levels of measurement and give an example of a variable for each level.\n",
    "\n",
    "Ans:- There are four commonly recognized levels of measurement: nominal, ordinal, interval, and ratio.\n",
    "\n",
    "Nominal level of measurement: This level of measurement involves variables that are classified into categories or groups without any specific order or ranking. Examples of nominal variables include gender (male, female), eye color (blue, brown, green), and race (White, Black, Asian, etc.).\n",
    "\n",
    "Ordinal level of measurement: This level of measurement involves variables that can be ranked or ordered but do not have a consistent or known distance between them. Examples of ordinal variables include levels of education (elementary, high school, college, graduate), levels of satisfaction (poor, fair, good, excellent), and socioeconomic status (low, middle, high).\n",
    "\n",
    "Interval level of measurement: This level of measurement involves variables that can be ranked or ordered and have a consistent distance between each value, but do not have a true zero point. Examples of interval variables include temperature (measured in Celsius or Fahrenheit), time (measured in hours, minutes, or seconds), and IQ scores.\n",
    "\n",
    "Ratio level of measurement: This level of measurement involves variables that have a true zero point, which indicates the absence of the variable being measured. Examples of ratio variables include height, weight, age, and income."
   ]
  },
  {
   "cell_type": "markdown",
   "id": "ea5abb46",
   "metadata": {},
   "source": [
    "\n",
    "Q6. Why is it important to understand the level of measurement when analyzing data? Provide an\n",
    "example to illustrate your answer.\n",
    "Nominal level:\n",
    "Nominal level is the lowest level of measurement. It involves categorizing data into discrete categories without any numerical value or order. In nominal level, the data can only be classified into mutually exclusive and exhaustive categories.\n",
    "Example: Colors of cars, gender, types of fruits, etc.\n",
    "\n",
    "Ordinal level:\n",
    "Ordinal level involves the arrangement of data in a particular order or sequence. It involves categorizing data into discrete categories with a numerical order, but without any fixed numerical distance between categories.\n",
    "Example: Rank orders, letter grades (A, B, C, D, F), levels of education (elementary, high school, college, postgraduate), etc.\n",
    "\n",
    "Interval level:\n",
    "Interval level involves the measurement of data with a fixed numerical distance between categories. It involves the use of numbers with equal intervals to represent the data.\n",
    "Example: Temperature (measured in Celsius or Fahrenheit), IQ scores, year, time of day, etc.\n",
    "\n",
    "Ratio level:\n",
    "Ratio level is the highest level of measurement. It involves the measurement of data with a fixed numerical distance between categories and a true zero point. In ratio level, the ratio of two measurements has a meaningful interpretation.\n",
    "Example: Height, weight, income, distance, etc."
   ]
  },
  {
   "cell_type": "markdown",
   "id": "84151e37",
   "metadata": {},
   "source": [
    "Q7. How nominal data type is different from ordinal data type.\n",
    "Ans:- In nominal data distribution is based on discrete categories which does not have any numerical value and order, like gender, color, games.\n",
    "\n",
    "While on the other hand ordinal data have categories that are comparable to each other and ranked, like levels of education (elementary, high school, college, postgraduate)"
   ]
  },
  {
   "cell_type": "markdown",
   "id": "3e369073",
   "metadata": {},
   "source": [
    "Q8. Which type of plot can be used to display data in terms of range?\n",
    "\n",
    "Ans:- We can use a box plot to display data in range so that we can see its median value and how much the value is spread in what range and to know its 25%, 50% and 75% values lies in which interval."
   ]
  },
  {
   "cell_type": "markdown",
   "id": "e0a620d7",
   "metadata": {},
   "source": [
    "Q9. Describe the difference between descriptive and inferential statistics. Give an example of each\n",
    "type of statistics and explain how they are used.\n",
    "Ans:- Ans:- There are 2 typrs of statistics :- descriptive statistics and inferential statistics.\n",
    "Descriptive Statistics:\n",
    "Descriptive statistics involves the use of summary measures such as mean, median, mode, range, standard deviation, and variance to describe and summarize the data. Descriptive statistics is useful when we want to summarize and describe a large amount of data in a simple and understandable manner.\n",
    "example:- suppose we have provided the result of the school, then we can find mean , median, mode of marks, in which subject student score least etc.\n",
    "Inferential Statistics:\n",
    "\n",
    "Inferential statistics involves making inferences and drawing conclusions about a population based on a sample of data. Inferential statistics is useful when we want to generalize the results from a sample to the larger population from which it was drawn.\n",
    "Example:- we doubt that the salary of mechanical engineer is lower than 5LPA in india, so we conduct a servay, collect the result , apply hypothesis testing and give the result."
   ]
  },
  {
   "cell_type": "markdown",
   "id": "6bf6872c",
   "metadata": {},
   "source": [
    "Q10. What are some common measures of central tendency and variability used in statistics? Explain\n",
    "how each measure can be used to describe a dataset.\n",
    "\n",
    "Ans:- Mean, Median, Mode, Standard Deviation are some of the central tendency and variability used in stats.\n",
    "\n",
    "Mean:- average of data\n",
    "\n",
    "Median:- middle value of sorted data\n",
    "\n",
    "Mode:- Most frequent value\n",
    "\n",
    "Standard Deviation:-  It provides a measure of how tightly the data is clustered around the mean. A low standard deviation indicates that the data is clustered tightly around the mean."
   ]
  }
 ],
 "metadata": {
  "kernelspec": {
   "display_name": "Python 3 (ipykernel)",
   "language": "python",
   "name": "python3"
  },
  "language_info": {
   "codemirror_mode": {
    "name": "ipython",
    "version": 3
   },
   "file_extension": ".py",
   "mimetype": "text/x-python",
   "name": "python",
   "nbconvert_exporter": "python",
   "pygments_lexer": "ipython3",
   "version": "3.9.9"
  }
 },
 "nbformat": 4,
 "nbformat_minor": 5
}
