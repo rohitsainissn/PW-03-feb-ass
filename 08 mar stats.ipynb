{
 "cells": [
  {
   "cell_type": "code",
   "execution_count": 1,
   "id": "817face6",
   "metadata": {},
   "outputs": [],
   "source": [
    "import numpy as np\n",
    "import pandas as pd\n",
    "import matplotlib.pyplot as plt"
   ]
  },
  {
   "cell_type": "markdown",
   "id": "31977a30",
   "metadata": {},
   "source": [
    "Q1. What is the Probability density function?\n",
    "\n",
    "Ans:- It is the graphical representation of probablity of continuous variable such the sum of area under the curve is one, to find the P(x<.5) we can calculate the area of graph of left side from the position where x=.5."
   ]
  },
  {
   "cell_type": "markdown",
   "id": "20298e47",
   "metadata": {},
   "source": [
    "Q2. What are the types of Probability distribution?\n",
    "\n",
    "Ans:- Discrete Uniform Distribution: This distribution occurs when all outcomes of a discrete random variable are equally likely. For example, rolling a fair die, where each outcome (1 to 6) has the same probability of 1/6.\n",
    "\n",
    "Bernoulli Distribution: This distribution models a binary random variable that can take on only two possible outcomes, typically denoted as \"success\" or \"failure.\" It is used to model events with only two possible outcomes, such as a coin flip or a yes/no question.\n",
    "\n",
    "Binomial Distribution: This distribution models the number of successes in a fixed number of independent Bernoulli trials. It is used to model events with two possible outcomes (e.g., success or failure), where the trials are independent and the probability of success remains constant in each trial.\n",
    "\n",
    "Poisson Distribution: This distribution models the number of events occurring in a fixed interval of time or space, given a known average rate of occurrence. It is commonly used to model rare events, such as the number of customer arrivals at a store in a given hour or the number of emails received in a day.\n",
    "\n",
    "Normal Distribution: Also known as the Gaussian distribution, this is a continuous probability distribution that is symmetric and bell-shaped. It is widely used in statistics due to its properties and is often used to model continuous data, such as heights, weights, or IQ scores, where the data tends to cluster around a central mean value.\n",
    "\n",
    "Exponential Distribution: This distribution models the time between events in a Poisson process, where events occur independently at a constant rate. It is commonly used to model waiting times, such as the time between phone calls at a call center or the time between arrivals at a bus stop.\n",
    "\n",
    "Uniform Distribution: This distribution models a continuous random variable where all values within a specified range are equally likely. It is often used when all outcomes within a range are equally likely, such as in a random selection from a group of items."
   ]
  },
  {
   "cell_type": "markdown",
   "id": "1ee2ff36",
   "metadata": {},
   "source": [
    "Q3. Write a Python function to calculate the probability density function of a normal distribution with\n",
    "given mean and standard deviation at a given point."
   ]
  },
  {
   "cell_type": "code",
   "execution_count": 2,
   "id": "894f73db",
   "metadata": {},
   "outputs": [
    {
     "name": "stdout",
     "output_type": "stream",
     "text": [
      "PDF at x = 0.5: 0.3520653267642995\n"
     ]
    }
   ],
   "source": [
    "import math\n",
    "\n",
    "def normal_pdf(x, mean, std_dev):\n",
    "\n",
    "    coefficient = 1 / (std_dev * math.sqrt(2 * math.pi))\n",
    "    exponent = -((x - mean) ** 2) / (2 * std_dev ** 2)\n",
    "    pdf = coefficient * math.exp(exponent)\n",
    "    return pdf\n",
    "mean = 0\n",
    "std_dev = 1\n",
    "x = 0.5\n",
    "\n",
    "pdf = normal_pdf(x, mean, std_dev)\n",
    "print(\"PDF at x = {}: {}\".format(x, pdf))"
   ]
  },
  {
   "cell_type": "markdown",
   "id": "51d7c6fb",
   "metadata": {},
   "source": [
    "Q4. What are the properties of Binomial distribution? Give two examples of events where binomial\n",
    "distribution can be applied.\n",
    "\n",
    "Ans:- The binomial distribution is a discrete probability distribution that models the number of successes in a fixed number of independent, identical trials of a binary (yes/no, success/failure) event. The properties of the binomial distribution include:\n",
    "\n",
    "Fixed number of trials: The binomial distribution assumes a fixed number of trials, denoted by \"n\", where n is a positive integer.\n",
    "\n",
    "Independent trials: Each trial is assumed to be independent of each other, meaning the outcome of one trial does not affect the outcome of any other trial.\n",
    "\n",
    "Binary outcome: Each trial has two possible outcomes, usually referred to as \"success\" and \"failure\", or \"1\" and \"0\", respectively.\n",
    "\n",
    "Constant probability of success: The probability of success, denoted by \"p\", remains constant for each trial. Similarly, the probability of failure, denoted by \"q\", is equal to 1 - p.\n",
    "\n",
    "Discrete distribution: The binomial distribution is a discrete probability distribution, meaning it is defined only for whole number values of the random variable representing the number of successes.\n",
    "\n",
    "Examples of events where the binomial distribution can be applied are:\n",
    "\n",
    "Tossing a fair coin multiple times and counting the number of heads obtained in a fixed number of tosses. Here, the outcome of each toss (heads or tails) is binary, and the probability of obtaining a head or a tail remains constant (0.5 for a fair coin)."
   ]
  },
  {
   "cell_type": "markdown",
   "id": "1493ffe0",
   "metadata": {},
   "source": [
    "Q5. Generate a random sample of size 1000 from a binomial distribution with probability of success 0.4\n",
    "and plot a histogram of the results using matplotlib."
   ]
  },
  {
   "cell_type": "code",
   "execution_count": 3,
   "id": "c813d401",
   "metadata": {},
   "outputs": [
    {
     "data": {
      "image/png": "[encoded data removed]",
      "text/plain": [
       "<Figure size 640x480 with 1 Axes>"
      ]
     },
     "metadata": {},
     "output_type": "display_data"
    }
   ],
   "source": [
    "n = 1000\n",
    "p = .4\n",
    "random_sample = np.random.binomial(n, p, size=1000)\n",
    "plt.hist(random_sample)\n",
    "plt.show()"
   ]
  },
  {
   "cell_type": "markdown",
   "id": "9a70edac",
   "metadata": {},
   "source": [
    "Q6. Write a Python function to calculate the cumulative distribution function of a Poisson distribution\n",
    "with given mean at a given point."
   ]
  },
  {
   "cell_type": "code",
   "execution_count": 4,
   "id": "5b00a64e",
   "metadata": {},
   "outputs": [],
   "source": [
    "import math\n",
    "\n",
    "def poisson_cdf(mean, k):\n",
    "\n",
    "    cdf = 0.0  # Initialize CDF to 0\n",
    "    for i in range(k + 1):\n",
    "        cdf += math.exp(-mean) * (mean ** i) / math.factorial(i)\n",
    "    return cdf"
   ]
  },
  {
   "cell_type": "code",
   "execution_count": 5,
   "id": "322a1ba3",
   "metadata": {},
   "outputs": [
    {
     "data": {
      "text/plain": [
       "0.1626387023481714"
      ]
     },
     "execution_count": 5,
     "metadata": {},
     "output_type": "execute_result"
    }
   ],
   "source": [
    "poisson_cdf(4.6,2)"
   ]
  },
  {
   "cell_type": "markdown",
   "id": "17068195",
   "metadata": {},
   "source": [
    "Q7. How Binomial distribution different from Poisson distribution?\n",
    "\n",
    "Ans:- In binomial distribution we have two outcomes with their probability to occur, while in Poisson distribution we have a fixed interval of time or fixed place where we count the number of a perticular event to occur.  In the binomial distribution, the events are discrete and have a fixed number of trials, whereas in the Poisson distribution, the events can occur continuously over time or space."
   ]
  },
  {
   "cell_type": "markdown",
   "id": "376771de",
   "metadata": {},
   "source": [
    "Q8. Generate a random sample of size 1000 from a Poisson distribution with mean 5 and calculate the\n",
    "sample mean and variance."
   ]
  },
  {
   "cell_type": "code",
   "execution_count": 6,
   "id": "76f28d01",
   "metadata": {},
   "outputs": [
    {
     "data": {
      "text/plain": [
       "5.113"
      ]
     },
     "execution_count": 6,
     "metadata": {},
     "output_type": "execute_result"
    }
   ],
   "source": [
    "random_sample = np.random.poisson(lam=5, size=1000)\n",
    "random_sample.mean()"
   ]
  },
  {
   "cell_type": "code",
   "execution_count": 7,
   "id": "d9a1c453",
   "metadata": {},
   "outputs": [
    {
     "data": {
      "text/plain": [
       "4.900231000000001"
      ]
     },
     "execution_count": 7,
     "metadata": {},
     "output_type": "execute_result"
    }
   ],
   "source": [
    "random_sample.var()"
   ]
  },
  {
   "cell_type": "markdown",
   "id": "86fc6a59",
   "metadata": {},
   "source": [
    "Q9. How mean and variance are related in Binomial distribution and Poisson distribution?\n",
    "\n",
    "Ans:- In binomial distribution, if the number of trials is n and the probability of success in each trial is p, then the mean of the distribution is given by np, and the variance is given by np(1-p).\n",
    "\n",
    "In Poisson distribution, if the average number of events in a given interval is λ, then both the mean and variance of the distribution are equal to λ."
   ]
  },
  {
   "cell_type": "markdown",
   "id": "cb3f15fe",
   "metadata": {},
   "source": [
    "Q10. In normal distribution with respect to mean position, where does the least frequent data appear?\n",
    "\n",
    "Ans :- least frequent data appear on the left and right extreme tale of the normal distribution."
   ]
  }
 ],
 "metadata": {
  "kernelspec": {
   "display_name": "Python 3 (ipykernel)",
   "language": "python",
   "name": "python3"
  },
  "language_info": {
   "codemirror_mode": {
    "name": "ipython",
    "version": 3
   },
   "file_extension": ".py",
   "mimetype": "text/x-python",
   "name": "python",
   "nbconvert_exporter": "python",
   "pygments_lexer": "ipython3",
   "version": "3.10.9"
  }
 },
 "nbformat": 4,
 "nbformat_minor": 5
}
