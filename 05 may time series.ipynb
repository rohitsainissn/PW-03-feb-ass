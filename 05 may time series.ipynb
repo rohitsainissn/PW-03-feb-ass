{
 "cells": [
  {
   "cell_type": "markdown",
   "id": "732f694e",
   "metadata": {},
   "source": [
    "Q1. What is meant by time-dependent seasonal components?\n",
    "\n",
    "Ans:- time dependent seasonal component is the uniforn cyclic variation factor in time series which repeates over timein similar pattern.\n",
    "\n",
    "Q2. How can time-dependent seasonal components be identified in time series data?\n",
    "\n",
    "Ans:- We can find it by reducing the time series in trend, season, and irrigular residual.\n",
    "\n",
    "on dividing the data into subsets based on the seasonal cycle (e.g., months, quarters), and each subset's data points are plotted separately. If there is a recurring pattern or variation within the subsets, it indicates the presence of seasonal components.\n",
    "\n",
    "Autocorrelation Function (ACF) and Partial Autocorrelation Function (PACF): The ACF and PACF plots can provide insights into the presence of seasonal components. In the ACF plot, if there are significant spikes or peaks at lag intervals that correspond to the seasonal cycle, it indicates the presence of seasonality. Similarly, in the PACF plot, if there are significant spikes at those lag intervals, it suggests the need for seasonal terms in the model.\n",
    "\n",
    "Q3. What are the factors that can influence time-dependent seasonal components?\n",
    "\n",
    "Ans:- Calendar Effects: Time-dependent seasonal components can be influenced by calendar-related factors such as holidays, weekends, or specific days of the week. For example, retail sales may exhibit higher seasonal patterns during holiday seasons like Christmas or Easter.\n",
    "\n",
    "Climate and Weather: Seasonal variations can be influenced by climate and weather conditions. For instance, sales of winter apparel may show a strong seasonal component in regions with distinct winter seasons, while sales of summer items may exhibit seasonal patterns in areas with pronounced summer seasons.\n",
    "\n",
    "Agricultural Cycles: In agricultural and farming sectors, seasonal components can be driven by planting and harvesting cycles. The growth and availability of crops or agricultural products may exhibit recurring patterns throughout the year, leading to seasonal variations.\n",
    "\n",
    "Economic Factors: Economic factors can impact seasonal patterns in various industries. For example, the tourism sector may experience high seasons during specific months due to vacation periods or peak travel times. Similarly, the construction industry may have seasonal variations influenced by weather conditions or government infrastructure projects.\n",
    "\n",
    "Cultural and Social Factors: Cultural events, social customs, or traditions can contribute to time-dependent seasonal components. For example, consumer spending patterns may be influenced by cultural celebrations or religious holidays that occur at specific times of the year.\n",
    "\n",
    "Industry-Specific Factors: Different industries and sectors may have their own unique factors influencing seasonal patterns. For instance, the retail industry may experience higher sales during back-to-school seasons or year-end holiday shopping periods.\n",
    "\n",
    "Technological Advances: Advances in technology or changes in consumer behavior can also impact seasonal components. For instance, the rise of e-commerce and online shopping has altered traditional seasonal shopping patterns and introduced new dynamics.\n",
    "Q4. How are autoregression models used in time series analysis and forecasting?\n",
    "\n",
    "Ans:- Autoregression gives the inter relation of the series with its previous values, so we make a model with using the real time series relationship with the series with 1,2,3,...n lag series just like regression problem and predict the next value based on regression model.\n",
    "\n",
    "\n",
    "Q5. How do you use autoregression models to make predictions for future time points?\n",
    "\n",
    "Autoregression gives the inter relation of the series with its previous values, so we make a model with using the real time series relationship with the series with 1,2,3,...n lag series just like regression problem and predict the next value based on regression model.\n",
    "\n",
    "\n",
    "Q6. What is a moving average (MA) model and how does it differ from other time series models?\n",
    "\n",
    "Ans:- in moving average model we calculate the the forcasted value by taking the average of few previous values because it is found that the new value is near to the previous values.\n",
    "\n",
    "Q7. What is a mixed ARMA model and how does it differ from an AR or MA model?\n",
    "\n",
    "Ans:- an ARMA model incorporates both autoregressive and moving average components, allowing it to capture the patterns and dependencies in a time series that are associated with both the past values and past forecast errors. This combination provides more flexibility in modeling complex time series compared to using only AR or MA models individually."
   ]
  }
 ],
 "metadata": {
  "kernelspec": {
   "display_name": "Python 3 (ipykernel)",
   "language": "python",
   "name": "python3"
  },
  "language_info": {
   "codemirror_mode": {
    "name": "ipython",
    "version": 3
   },
   "file_extension": ".py",
   "mimetype": "text/x-python",
   "name": "python",
   "nbconvert_exporter": "python",
   "pygments_lexer": "ipython3",
   "version": "3.9.9"
  }
 },
 "nbformat": 4,
 "nbformat_minor": 5
}
