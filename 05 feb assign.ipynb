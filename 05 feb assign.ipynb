{
 "cells": [
  {
   "cell_type": "markdown",
   "id": "dae56aee",
   "metadata": {},
   "source": [
    "Q1. Explain Class and Object with respect to Object-Oriented Programming. Give a suitable example.\n",
    "\n",
    "Ans:- Class is the catagory which contains various real units like a CAR is a class which have various real units of cars like maruti alto, swift desire, Honda city,\n",
    "these various real units have different specifications and all these units are objects.\n",
    "\n",
    "\n"
   ]
  },
  {
   "cell_type": "code",
   "execution_count": 1,
   "id": "94180171",
   "metadata": {},
   "outputs": [
    {
     "name": "stdout",
     "output_type": "stream",
     "text": [
      "55 89\n"
     ]
    }
   ],
   "source": [
    "class car:\n",
    "    def __init__(self,power,milage):\n",
    "        self.power = power\n",
    "        self.milage = milage\n",
    "alto = car(55,31)\n",
    "swift_desire = car(89,22)\n",
    "print(alto.power, swift_desire.power)"
   ]
  },
  {
   "cell_type": "markdown",
   "id": "23cdfb7d",
   "metadata": {},
   "source": [
    "Q2. Name the four pillars of OOPs.\n",
    "\n",
    "Ans:- four pillars are Inheritance, Polymorphism, Encapsulation and Abstraction.\n",
    "\n",
    "Q3. Explain why the __init__() function is used. Give a suitable example.\n",
    "\n",
    "Ans:- __init__() function is used when we know which features are required in every objects and by writing __init__ function we no need to rewrite it for every objects.\n",
    "\n",
    "for example, we know in a class of books we have various books which have name, author, date of publication, rating, no of books sold and page no. to avoid repitition of code we use __init__ in class to define these parameter so that we do not need to define these variable for each books.\n"
   ]
  },
  {
   "cell_type": "code",
   "execution_count": 2,
   "id": "4f2f003b",
   "metadata": {},
   "outputs": [
    {
     "data": {
      "text/plain": [
       "('rich dad poor dad',\n",
       " 'Robert Kiyosaki and Sharon Lechter',\n",
       " '1-1-1999',\n",
       " 9.3,\n",
       " 9999,\n",
       " 99)"
      ]
     },
     "execution_count": 2,
     "metadata": {},
     "output_type": "execute_result"
    }
   ],
   "source": [
    "class book:\n",
    "    def __init__(s,name,author,date,rating,book_sold,no_of_page):\n",
    "        s.name = name\n",
    "        s.author = author\n",
    "        s.date = date\n",
    "        s.rating = rating\n",
    "        s.book_sold = book_sold\n",
    "        s.no_of_page = no_of_page\n",
    "    def print_details(s):\n",
    "        return s.name,s.author,s.date,s.rating,s.book_sold,s.no_of_page\n",
    "rich_dad =book('rich dad poor dad','Robert Kiyosaki and Sharon Lechter', '1-1-1999',9.3,9999,99)\n",
    "rich_dad.print_details()"
   ]
  },
  {
   "cell_type": "markdown",
   "id": "5f86a9ab",
   "metadata": {},
   "source": [
    "\n",
    "Q4. Why self is used in OOPs?\n",
    "\n",
    "Ans:- self represents the instance of the class. By using the “self”  we can access the attributes and methods of the class in python. It binds the attributes with the given arguments.\n",
    "\n",
    "Q5. What is inheritance? Give an example for each type of inheritance.\n",
    "\n",
    "Ans:- Inheritance is a mechanism such that property of a class is also taken by another class, suppose we have a class of car which have many paramiters like milage, top speed,fuel type, torque, build quality, weight, length etc, now we have a subclass of car named as maruti, so this maruti will inherit all the properties of its parent class car and will also have its specific parameters belongs to maruti only.\n",
    "\n",
    "Types of inheritance: There are five types of inheritance in python programming:\n",
    "\n",
    "1). Single inheritance\n",
    "2). Multiple inheritances\n",
    "3). Multilevel inheritance\n",
    "4). Hierarchical inheritance\n",
    "5). Hybrid inheritance"
   ]
  },
  {
   "cell_type": "code",
   "execution_count": 3,
   "id": "15b7f0ef",
   "metadata": {},
   "outputs": [],
   "source": [
    "# Single inheritance\n",
    "class vehicles:               #parent_class\n",
    "    def __init__(s,mode,fuel):\n",
    "        s.mode = mode\n",
    "        s.fuel = fuel\n",
    "    \n",
    "class car(vehicles):       #child_class\n",
    "    def __init__(s,mode,fuel,brand):\n",
    "        super().__init__(mode,fuel)\n",
    "        s.brand = brand\n",
    "waganr = car('road','cng','maruti')\n",
    "\n",
    "\n"
   ]
  },
  {
   "cell_type": "code",
   "execution_count": 4,
   "id": "7fd77b2c",
   "metadata": {},
   "outputs": [
    {
     "name": "stdout",
     "output_type": "stream",
     "text": [
      "B : Mohit\n",
      "A : Ashutosh\n"
     ]
    }
   ],
   "source": [
    "# Multiple inheritances\n",
    "# Base class1\n",
    "class A:\n",
    "\n",
    "    aname = ''\n",
    "\n",
    "    def aclass(self):\n",
    "        print (self.aname)\n",
    "\n",
    "# Base class2\n",
    "\n",
    "class B:\n",
    "\n",
    "    bname = ''\n",
    "\n",
    "    def bclass(self):\n",
    "        print (self.bname)\n",
    "\n",
    "# Child class\n",
    "\n",
    "class C(A, B):\n",
    "\n",
    "    def cname(self):\n",
    "        print ('B :', self.bname)\n",
    "        print ('A :', self.aname)\n",
    "\n",
    "s1 = C()\n",
    "s1.bname = 'Mohit'\n",
    "s1.aname = 'Ashutosh'\n",
    "s1.cname()"
   ]
  },
  {
   "cell_type": "code",
   "execution_count": 5,
   "id": "800bda03",
   "metadata": {},
   "outputs": [
    {
     "name": "stdout",
     "output_type": "stream",
     "text": [
      "Lalit\n",
      "A name : Lalit\n",
      "B name : Mohit\n",
      "C name : Rohit\n"
     ]
    }
   ],
   "source": [
    "class A:\n",
    "\n",
    "    def __init__(self, aname):\n",
    "        self.aname = aname\n",
    "\n",
    "# Intermediate class\n",
    "\n",
    "class B(A):\n",
    "\n",
    "    def __init__(self, bname, aname):\n",
    "        self.bname = bname\n",
    "\n",
    "        # invoking constructor of Grandfather class\n",
    "\n",
    "        A.__init__(self, aname)\n",
    "\n",
    "# Derived class\n",
    "\n",
    "class C(B):\n",
    "\n",
    "    def __init__(\n",
    "        self,\n",
    "        cname,\n",
    "        bname,\n",
    "        aname,\n",
    "        ):\n",
    "        self.cname = cname\n",
    "\n",
    "        # Invoking constructor of Father class\n",
    "\n",
    "        B.__init__(self, bname, aname)\n",
    "\n",
    "    def display(self):\n",
    "        print ('A name :', self.aname)\n",
    "        print ('B name :', self.bname)\n",
    "        print ('C name :', self.cname)\n",
    "\n",
    "# Driver code\n",
    "\n",
    "s1 = C('Rohit', 'Mohit', 'Lalit')\n",
    "print (s1.aname)\n",
    "s1.display()"
   ]
  },
  {
   "cell_type": "code",
   "execution_count": 6,
   "id": "959fed04",
   "metadata": {},
   "outputs": [
    {
     "name": "stdout",
     "output_type": "stream",
     "text": [
      "Parent of B and C\n",
      "Child class of A\n",
      "Parent of B and C\n",
      "Child class of A\n"
     ]
    }
   ],
   "source": [
    "# Base class\n",
    "\n",
    "class A:\n",
    "\n",
    "    def function_1(self):\n",
    "        print ('Parent of B and C')\n",
    "\n",
    "# Derived class1\n",
    "\n",
    "class B(A):\n",
    "\n",
    "    def function_2(self):\n",
    "        print ('Child class of A')\n",
    "\n",
    "# Derivied class2\n",
    "\n",
    "class C(A):\n",
    "\n",
    "    def function_3(self):\n",
    "        print ('Child class of A')\n",
    "\n",
    "object1 = C()\n",
    "object2 = B()\n",
    "object1.function_1()\n",
    "object1.function_3()\n",
    "object2.function_1()\n",
    "object2.function_2()"
   ]
  },
  {
   "cell_type": "code",
   "execution_count": 7,
   "id": "1e703959",
   "metadata": {},
   "outputs": [
    {
     "name": "stdout",
     "output_type": "stream",
     "text": [
      "This function is in Office.\n",
      "This function is in Employee 1.\n"
     ]
    }
   ],
   "source": [
    "# Python program to demonstrate hybrid inheritance\n",
    "\n",
    "class Office:\n",
    "\n",
    "    def func1(self):\n",
    "        print ('This function is in Office.')\n",
    "\n",
    "class Emp1(Office):\n",
    "\n",
    "    def func2(self):\n",
    "        print ('This function is in Employee 1.')\n",
    "\n",
    "class Emp2:\n",
    "\n",
    "    def func3(self):\n",
    "        print ('This function is in Employee 2.')\n",
    "\n",
    "class Emp3(Emp1, Emp2):\n",
    "\n",
    "    def func4(self):\n",
    "        print ('This function is in Employee 3.')\n",
    "\n",
    "# Driver's code\n",
    "\n",
    "object = Emp3()\n",
    "object.func1()\n",
    "object.func2()"
   ]
  },
  {
   "cell_type": "code",
   "execution_count": null,
   "id": "62beaa74",
   "metadata": {},
   "outputs": [],
   "source": []
  }
 ],
 "metadata": {
  "kernelspec": {
   "display_name": "Python 3 (ipykernel)",
   "language": "python",
   "name": "python3"
  },
  "language_info": {
   "codemirror_mode": {
    "name": "ipython",
    "version": 3
   },
   "file_extension": ".py",
   "mimetype": "text/x-python",
   "name": "python",
   "nbconvert_exporter": "python",
   "pygments_lexer": "ipython3",
   "version": "3.9.9"
  }
 },
 "nbformat": 4,
 "nbformat_minor": 5
}
