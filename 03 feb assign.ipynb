{
 "cells": [
  {
   "cell_type": "markdown",
   "id": "8e0cdfe5",
   "metadata": {},
   "source": [
    "Q1. Which keyword is used to create a function? Create a function to return a list of odd numbers in the range of 1 to 25.\n",
    "Ans :- def is the keyword used to create a function"
   ]
  },
  {
   "cell_type": "code",
   "execution_count": 1,
   "id": "9b0b9ff9",
   "metadata": {},
   "outputs": [
    {
     "name": "stdout",
     "output_type": "stream",
     "text": [
      "[1, 3, 5, 7, 9, 11, 13, 15, 17, 19, 21, 23, 25]\n"
     ]
    }
   ],
   "source": [
    "def odd():\n",
    "    l = [i for i in range (26) if i%2!=0]\n",
    "    return l\n",
    "print(odd())"
   ]
  },
  {
   "cell_type": "markdown",
   "id": "0e1e0a67",
   "metadata": {},
   "source": [
    "Q2. Why *args and **kwargs is used in some functions? Create a function each for *args and **kwargs to demonstrate their use.\n",
    "\n",
    "Ans:- When the number of argument in function is not known we use * args, when number of key, value pairs are not known we use ** kwargs, otherwise the function will give error if the number of arguments are not equal to predefined arguments.\n"
   ]
  },
  {
   "cell_type": "code",
   "execution_count": 2,
   "id": "8146c9af",
   "metadata": {},
   "outputs": [
    {
     "name": "stdout",
     "output_type": "stream",
     "text": [
      "rohit roll number is 0\n",
      "hero roll number is 1\n",
      "panda roll number is 2\n",
      "deep roll number is 3\n"
     ]
    }
   ],
   "source": [
    "# Programme for args:-\n",
    "def student_name(*name):\n",
    "    for i in range (len(name)):\n",
    "        print(f'{name[i]} roll number is {i}')\n",
    "student_name('rohit','hero','panda', 'deep')\n",
    "\n"
   ]
  },
  {
   "cell_type": "code",
   "execution_count": 3,
   "id": "bb6dd63c",
   "metadata": {},
   "outputs": [
    {
     "name": "stdout",
     "output_type": "stream",
     "text": [
      "rohit scores 10 marks\n",
      "dev scores 11 marks\n"
     ]
    }
   ],
   "source": [
    "# Programme for kwargs:-\n",
    "def std_marks(**marks):\n",
    "    for i,j in marks.items():\n",
    "        print(f'{i} scores {j} marks')\n",
    "std_marks(rohit=10,dev=11)"
   ]
  },
  {
   "cell_type": "markdown",
   "id": "4ae19c79",
   "metadata": {},
   "source": [
    "Q3. What is an iterator in python? Name the method used to initialise the iterator object and the method used for iteration. Use these methods to print the first five elements of the given list [2, 4, 6, 8, 10, 12, 14, 16, 18, 20].\n",
    "\n",
    "Ans:- Iterator is an object that gives the output one by one in the order the values are arrange in an iterable like list, string, tuple.\n",
    "Iter() function is used to initialise the iterator object\n",
    "next() function is used for iteration\n"
   ]
  },
  {
   "cell_type": "code",
   "execution_count": 4,
   "id": "f7a7f02d",
   "metadata": {},
   "outputs": [
    {
     "name": "stdout",
     "output_type": "stream",
     "text": [
      "2\n",
      "4\n",
      "6\n",
      "8\n",
      "10\n"
     ]
    }
   ],
   "source": [
    "lis = [2, 4, 6, 8, 10, 12, 14, 16, 18, 2]\n",
    "my_iter = iter(lis)\n",
    "print(next(my_iter))\n",
    "print(next(my_iter))\n",
    "print(next(my_iter))\n",
    "print(next(my_iter))\n",
    "print(next(my_iter))\n"
   ]
  },
  {
   "cell_type": "markdown",
   "id": "19f8313a",
   "metadata": {},
   "source": [
    "Q4. What is a generator function in python? Why yield keyword is used? Give an example of a generator function.\n",
    "Ans:- Generator function returns a generator object that is iterable\n",
    "Yield keyword stores the value in it and each time stores the next value when iterated.\n",
    "Example of generator function:-\n"
   ]
  },
  {
   "cell_type": "code",
   "execution_count": 5,
   "id": "f4d8e7d5",
   "metadata": {},
   "outputs": [
    {
     "name": "stdout",
     "output_type": "stream",
     "text": [
      "1\n",
      "2\n"
     ]
    }
   ],
   "source": [
    "def gen ():\n",
    "    a,b=1,2\n",
    "    while 1:\n",
    "        yield a\n",
    "        a,b = b, b+(b-a)\n",
    "x = gen()\n",
    "print(next(x))\n",
    "print(next(x))"
   ]
  },
  {
   "cell_type": "markdown",
   "id": "9a7c7794",
   "metadata": {},
   "source": [
    "Q5. Create a generator function for prime numbers less than 1000. Use the next() method to print the first 20 prime numbers. \n"
   ]
  },
  {
   "cell_type": "code",
   "execution_count": 6,
   "id": "94fc6b2e",
   "metadata": {},
   "outputs": [
    {
     "name": "stdout",
     "output_type": "stream",
     "text": [
      "2\n",
      "3\n",
      "5\n",
      "7\n",
      "11\n",
      "13\n",
      "17\n",
      "19\n",
      "23\n",
      "29\n",
      "31\n",
      "37\n",
      "41\n",
      "43\n",
      "47\n",
      "53\n",
      "59\n",
      "61\n",
      "67\n",
      "71\n"
     ]
    }
   ],
   "source": [
    "def prime():\n",
    "    for i in range (2,1000):\n",
    "        token = 1\n",
    "        for j in range (2,int(i/2)+1):\n",
    "            if i%j==0:\n",
    "                token =0\n",
    "                break\n",
    "        if token ==1:\n",
    "            yield i\n",
    "pr =prime()\n",
    "for i in range (20):\n",
    "    print(next(pr))"
   ]
  }
 ],
 "metadata": {
  "kernelspec": {
   "display_name": "Python 3 (ipykernel)",
   "language": "python",
   "name": "python3"
  },
  "language_info": {
   "codemirror_mode": {
    "name": "ipython",
    "version": 3
   },
   "file_extension": ".py",
   "mimetype": "text/x-python",
   "name": "python",
   "nbconvert_exporter": "python",
   "pygments_lexer": "ipython3",
   "version": "3.9.9"
  }
 },
 "nbformat": 4,
 "nbformat_minor": 5
}
