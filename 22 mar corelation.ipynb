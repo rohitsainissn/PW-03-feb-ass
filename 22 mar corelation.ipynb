{
 "cells": [
  {
   "cell_type": "markdown",
   "id": "05a1c35e",
   "metadata": {},
   "source": [
    "Hence from the data we can study that the average age for coke MD and pepsi is 24,37 and 36.5 respectively"
   ]
  },
  {
   "cell_type": "markdown",
   "id": "33e5f9b0",
   "metadata": {},
   "source": [
    "Q1. Pearson correlation coefficient is a measure of the linear relationship between two variables. Suppose you have collected data on the amount of time students spend studying for an exam and their final exam scores. Calculate the Pearson correlation coefficient between these two variables and interpret the result."
   ]
  },
  {
   "cell_type": "code",
   "execution_count": 1,
   "id": "c0b47a5e",
   "metadata": {},
   "outputs": [],
   "source": [
    "import numpy as np\n",
    "import pandas as pd\n",
    "df = pd.DataFrame({'time':[2,4,6,8,10], 'marks':[10,9,14,18,22]})"
   ]
  },
  {
   "cell_type": "code",
   "execution_count": 2,
   "id": "e15d6456",
   "metadata": {},
   "outputs": [
    {
     "data": {
      "text/html": [
       "<div>\n",
       "<style scoped>\n",
       "    .dataframe tbody tr th:only-of-type {\n",
       "        vertical-align: middle;\n",
       "    }\n",
       "\n",
       "    .dataframe tbody tr th {\n",
       "        vertical-align: top;\n",
       "    }\n",
       "\n",
       "    .dataframe thead th {\n",
       "        text-align: right;\n",
       "    }\n",
       "</style>\n",
       "<table border=\"1\" class=\"dataframe\">\n",
       "  <thead>\n",
       "    <tr style=\"text-align: right;\">\n",
       "      <th></th>\n",
       "      <th>time</th>\n",
       "      <th>marks</th>\n",
       "    </tr>\n",
       "  </thead>\n",
       "  <tbody>\n",
       "    <tr>\n",
       "      <th>0</th>\n",
       "      <td>2</td>\n",
       "      <td>10</td>\n",
       "    </tr>\n",
       "    <tr>\n",
       "      <th>1</th>\n",
       "      <td>4</td>\n",
       "      <td>9</td>\n",
       "    </tr>\n",
       "    <tr>\n",
       "      <th>2</th>\n",
       "      <td>6</td>\n",
       "      <td>14</td>\n",
       "    </tr>\n",
       "    <tr>\n",
       "      <th>3</th>\n",
       "      <td>8</td>\n",
       "      <td>18</td>\n",
       "    </tr>\n",
       "    <tr>\n",
       "      <th>4</th>\n",
       "      <td>10</td>\n",
       "      <td>22</td>\n",
       "    </tr>\n",
       "  </tbody>\n",
       "</table>\n",
       "</div>"
      ],
      "text/plain": [
       "   time  marks\n",
       "0     2     10\n",
       "1     4      9\n",
       "2     6     14\n",
       "3     8     18\n",
       "4    10     22"
      ]
     },
     "execution_count": 2,
     "metadata": {},
     "output_type": "execute_result"
    }
   ],
   "source": [
    "df"
   ]
  },
  {
   "cell_type": "code",
   "execution_count": 3,
   "id": "8b722766",
   "metadata": {
    "scrolled": true
   },
   "outputs": [
    {
     "name": "stdout",
     "output_type": "stream",
     "text": [
      "           time     marks\n",
      "time   1.000000  0.955819\n",
      "marks  0.955819  1.000000\n"
     ]
    }
   ],
   "source": [
    "corr_matrix = df.corr(method='pearson')\n",
    "\n",
    "print(corr_matrix)"
   ]
  },
  {
   "cell_type": "markdown",
   "id": "6fce0a7b",
   "metadata": {},
   "source": [
    "we found that pearson correlation value is .986 hence it is very close to 1 hence both are very correlated"
   ]
  },
  {
   "cell_type": "markdown",
   "id": "ba4ce7e9",
   "metadata": {},
   "source": [
    "Q2. Spearman's rank correlation is a measure of the monotonic relationship between two variables. Suppose you have collected data on the amount of sleep individuals get each night and their overall job satisfaction level on a scale of 1 to 10. Calculate the Spearman's rank correlation between these two variables and interpret the result."
   ]
  },
  {
   "cell_type": "code",
   "execution_count": 4,
   "id": "7db57ea0",
   "metadata": {},
   "outputs": [
    {
     "name": "stdout",
     "output_type": "stream",
     "text": [
      "          sleep     marks\n",
      "sleep  1.000000  0.485714\n",
      "marks  0.485714  1.000000\n"
     ]
    }
   ],
   "source": [
    "df = pd.DataFrame({'sleep':[5,6,7,8,9,10], 'marks':[1,9,5,7,2,19]})\n",
    "corr_matrix = df.corr(method='spearman')\n",
    "\n",
    "print(corr_matrix)"
   ]
  },
  {
   "cell_type": "markdown",
   "id": "cba1d21c",
   "metadata": {},
   "source": [
    "0.485 value represents that there is slightly positive correlation between the factors"
   ]
  },
  {
   "cell_type": "markdown",
   "id": "80eec142",
   "metadata": {},
   "source": [
    "Q3. Suppose you are conducting a study to examine the relationship between the number of hours of exercise per week and body mass index (BMI) in a sample of adults. You collected data on both variables for 50 participants. Calculate the Pearson correlation coefficient and the Spearman's rank correlation between these two variables and compare the results.\n"
   ]
  },
  {
   "cell_type": "code",
   "execution_count": 5,
   "id": "30ab1b70",
   "metadata": {
    "scrolled": true
   },
   "outputs": [
    {
     "name": "stdout",
     "output_type": "stream",
     "text": [
      "             exercise_hr       bmi\n",
      "exercise_hr     1.000000  0.041345\n",
      "bmi             0.041345  1.000000\n",
      "             exercise_hr      bmi\n",
      "exercise_hr      1.00000  0.02653\n",
      "bmi              0.02653  1.00000\n"
     ]
    }
   ],
   "source": [
    "df = pd.DataFrame({'exercise_hr':np.linspace(3, 30, 50), 'bmi':np.random.uniform(29, 20, 50)})\n",
    "corr_matrix = df.corr(method='spearman')\n",
    "\n",
    "print(corr_matrix)\n",
    "\n",
    "corr_matrix = df.corr(method='pearson')\n",
    "\n",
    "print(corr_matrix)"
   ]
  },
  {
   "cell_type": "markdown",
   "id": "aee53550",
   "metadata": {},
   "source": [
    "It shows that  there is no such correlation exist between exercise and bmi as the value of both correlations are near to zero"
   ]
  },
  {
   "cell_type": "markdown",
   "id": "80860210",
   "metadata": {},
   "source": [
    "Q4. A researcher is interested in examining the relationship between the number of hours individuals spend watching television per day and their level of physical activity. The researcher collected data on both variables from a sample of 50 participants. Calculate the Pearson correlation coefficient between these two variables."
   ]
  },
  {
   "cell_type": "code",
   "execution_count": 6,
   "id": "d7bd6269",
   "metadata": {},
   "outputs": [
    {
     "name": "stdout",
     "output_type": "stream",
     "text": [
      "             tv_hr  physical\n",
      "tv_hr     1.000000 -0.009556\n",
      "physical -0.009556  1.000000\n",
      "             tv_hr  physical\n",
      "tv_hr     1.000000 -0.008595\n",
      "physical -0.008595  1.000000\n"
     ]
    }
   ],
   "source": [
    "df = pd.DataFrame({'tv_hr':np.linspace(3, 30, 50), 'physical':np.random.uniform(1, 10, 50)})\n",
    "corr_matrix = df.corr(method='spearman')\n",
    "\n",
    "print(corr_matrix)\n",
    "\n",
    "corr_matrix = df.corr(method='pearson')\n",
    "\n",
    "print(corr_matrix)"
   ]
  },
  {
   "cell_type": "markdown",
   "id": "1d0e9d5b",
   "metadata": {},
   "source": [
    "It shows that  there is no such correlation exist between exercise and bmi as the value of both correlations are near to zero"
   ]
  },
  {
   "cell_type": "code",
   "execution_count": 7,
   "id": "cc20770e",
   "metadata": {},
   "outputs": [
    {
     "data": {
      "text/html": [
       "<div>\n",
       "<style scoped>\n",
       "    .dataframe tbody tr th:only-of-type {\n",
       "        vertical-align: middle;\n",
       "    }\n",
       "\n",
       "    .dataframe tbody tr th {\n",
       "        vertical-align: top;\n",
       "    }\n",
       "\n",
       "    .dataframe thead th {\n",
       "        text-align: right;\n",
       "    }\n",
       "</style>\n",
       "<table border=\"1\" class=\"dataframe\">\n",
       "  <thead>\n",
       "    <tr style=\"text-align: right;\">\n",
       "      <th></th>\n",
       "      <th>age</th>\n",
       "      <th>drink</th>\n",
       "    </tr>\n",
       "  </thead>\n",
       "  <tbody>\n",
       "    <tr>\n",
       "      <th>0</th>\n",
       "      <td>25</td>\n",
       "      <td>Coke</td>\n",
       "    </tr>\n",
       "    <tr>\n",
       "      <th>1</th>\n",
       "      <td>42</td>\n",
       "      <td>Pepsi</td>\n",
       "    </tr>\n",
       "    <tr>\n",
       "      <th>2</th>\n",
       "      <td>37</td>\n",
       "      <td>Mountain_dew</td>\n",
       "    </tr>\n",
       "    <tr>\n",
       "      <th>3</th>\n",
       "      <td>19</td>\n",
       "      <td>Coke</td>\n",
       "    </tr>\n",
       "    <tr>\n",
       "      <th>4</th>\n",
       "      <td>31</td>\n",
       "      <td>Pepsi</td>\n",
       "    </tr>\n",
       "    <tr>\n",
       "      <th>5</th>\n",
       "      <td>28</td>\n",
       "      <td>Coke</td>\n",
       "    </tr>\n",
       "  </tbody>\n",
       "</table>\n",
       "</div>"
      ],
      "text/plain": [
       "   age         drink\n",
       "0   25          Coke\n",
       "1   42         Pepsi\n",
       "2   37  Mountain_dew\n",
       "3   19          Coke\n",
       "4   31         Pepsi\n",
       "5   28          Coke"
      ]
     },
     "execution_count": 7,
     "metadata": {},
     "output_type": "execute_result"
    }
   ],
   "source": [
    "# Q5. A survey was conducted to examine the relationship between age and preference for a particular brand of soft drink. The survey results are shown below:\n",
    "df=pd.DataFrame({'age':[25,42,37,19,31,28], 'drink':'Coke Pepsi Mountain_dew Coke Pepsi Coke'.split()})\n",
    "df"
   ]
  },
  {
   "cell_type": "code",
   "execution_count": 8,
   "id": "435b0fd6",
   "metadata": {},
   "outputs": [
    {
     "data": {
      "text/html": [
       "<div>\n",
       "<style scoped>\n",
       "    .dataframe tbody tr th:only-of-type {\n",
       "        vertical-align: middle;\n",
       "    }\n",
       "\n",
       "    .dataframe tbody tr th {\n",
       "        vertical-align: top;\n",
       "    }\n",
       "\n",
       "    .dataframe thead th {\n",
       "        text-align: right;\n",
       "    }\n",
       "</style>\n",
       "<table border=\"1\" class=\"dataframe\">\n",
       "  <thead>\n",
       "    <tr style=\"text-align: right;\">\n",
       "      <th></th>\n",
       "      <th>age</th>\n",
       "    </tr>\n",
       "    <tr>\n",
       "      <th>drink</th>\n",
       "      <th></th>\n",
       "    </tr>\n",
       "  </thead>\n",
       "  <tbody>\n",
       "    <tr>\n",
       "      <th>Coke</th>\n",
       "      <td>24.0</td>\n",
       "    </tr>\n",
       "    <tr>\n",
       "      <th>Mountain_dew</th>\n",
       "      <td>37.0</td>\n",
       "    </tr>\n",
       "    <tr>\n",
       "      <th>Pepsi</th>\n",
       "      <td>36.5</td>\n",
       "    </tr>\n",
       "  </tbody>\n",
       "</table>\n",
       "</div>"
      ],
      "text/plain": [
       "               age\n",
       "drink             \n",
       "Coke          24.0\n",
       "Mountain_dew  37.0\n",
       "Pepsi         36.5"
      ]
     },
     "execution_count": 8,
     "metadata": {},
     "output_type": "execute_result"
    }
   ],
   "source": [
    "df.groupby(by='drink').mean()"
   ]
  },
  {
   "cell_type": "markdown",
   "id": "38703695",
   "metadata": {},
   "source": [
    "Q6. A company is interested in examining the relationship between the number of sales calls made per day and the number of sales made per week. The company collected data on both variables from a sample of 30 sales representatives. Calculate the Pearson correlation coefficient between these two variables."
   ]
  },
  {
   "cell_type": "code",
   "execution_count": 9,
   "id": "410ef8d7",
   "metadata": {},
   "outputs": [
    {
     "name": "stdout",
     "output_type": "stream",
     "text": [
      "       calls  sales\n",
      "calls    1.0    1.0\n",
      "sales    1.0    1.0\n",
      "       calls  sales\n",
      "calls    1.0    1.0\n",
      "sales    1.0    1.0\n"
     ]
    }
   ],
   "source": [
    "df = pd.DataFrame({'calls':np.linspace(300, 3000, 50), 'sales':np.linspace(50, 250, 50)})\n",
    "corr_matrix = df.corr(method='spearman')\n",
    "\n",
    "print(corr_matrix)\n",
    "\n",
    "corr_matrix = df.corr(method='pearson')\n",
    "\n",
    "print(corr_matrix)"
   ]
  },
  {
   "cell_type": "markdown",
   "id": "8760e09a",
   "metadata": {},
   "source": [
    "it is clear that the correlation cofficient is 1 hence calls and sales are highly corelated"
   ]
  }
 ],
 "metadata": {
  "kernelspec": {
   "display_name": "Python 3 (ipykernel)",
   "language": "python",
   "name": "python3"
  },
  "language_info": {
   "codemirror_mode": {
    "name": "ipython",
    "version": 3
   },
   "file_extension": ".py",
   "mimetype": "text/x-python",
   "name": "python",
   "nbconvert_exporter": "python",
   "pygments_lexer": "ipython3",
   "version": "3.9.9"
  }
 },
 "nbformat": 4,
 "nbformat_minor": 5
}
