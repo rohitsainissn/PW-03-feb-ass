{
 "cells": [
  {
   "cell_type": "markdown",
   "id": "95aed362",
   "metadata": {},
   "source": [
    "Q1. Explain why we have to use the Exception class while creating a Custom Exception.\n",
    "\n",
    "Ans:- As in custom exception error handeling we are creating a condition or exception by ourself i.e. not resulted by wrong code , as an error hence we need to define a new custom exception class that can handle our error and gives statement.\n"
   ]
  },
  {
   "cell_type": "code",
   "execution_count": 1,
   "id": "f0a4cb6b",
   "metadata": {},
   "outputs": [
    {
     "name": "stdout",
     "output_type": "stream",
     "text": [
      "[Errno 2] No such file or directory: 'te.txt'\n"
     ]
    }
   ],
   "source": [
    "# Q2. Write a python program to print Python Exception Hierarchy.\n",
    "a,b = 1,4\n",
    "try:\n",
    "    a/b\n",
    "    with open('te.txt','r'):\n",
    "        pass\n",
    "except TypeError as e :\n",
    "    print(e)\n",
    "except ZeroDivisionError as e :\n",
    "    print(e)\n",
    "except NameError as e :\n",
    "    print(e)\n",
    "except FileNotFoundError as e:\n",
    "    print(e)\n",
    "except Exception as e:\n",
    "    print(e)"
   ]
  },
  {
   "cell_type": "markdown",
   "id": "725b404c",
   "metadata": {},
   "source": [
    "Q3. What errors are defined in the ArithmeticError class? Explain any two with an example.\n",
    "\n",
    "Ans:- when denominiter is zero then result is not defined, hence programe raise ZeroDivisionError which is an example of ArithmeticError.\n",
    "OverflowError, when the result is very large and cannot be stored in storage"
   ]
  },
  {
   "cell_type": "code",
   "execution_count": 2,
   "id": "013d2e05",
   "metadata": {},
   "outputs": [
    {
     "name": "stdout",
     "output_type": "stream",
     "text": [
      "2.6881171418161356e+43\n"
     ]
    }
   ],
   "source": [
    "import math\n",
    "print(math.exp(100))"
   ]
  },
  {
   "cell_type": "markdown",
   "id": "d688fa23",
   "metadata": {},
   "source": [
    "Q4. Why LookupError class is used? Explain with an example KeyError and IndexError.\n",
    "\n",
    "Ans:-LookupError raised when an index or a key is not found for a sequence or dictionary respectively."
   ]
  },
  {
   "cell_type": "code",
   "execution_count": 3,
   "id": "354b6472",
   "metadata": {},
   "outputs": [
    {
     "name": "stdout",
     "output_type": "stream",
     "text": [
      "list index out of range\n"
     ]
    }
   ],
   "source": [
    "# example of IndexError\n",
    "x = [1, 2, 3, 4]\n",
    "try:\n",
    "    print(x[10])\n",
    "except LookupError as e:\n",
    "    print(e)"
   ]
  },
  {
   "cell_type": "code",
   "execution_count": 4,
   "id": "c5906e5b",
   "metadata": {},
   "outputs": [
    {
     "name": "stdout",
     "output_type": "stream",
     "text": [
      "the key :6 is not found\n"
     ]
    }
   ],
   "source": [
    "# Example of KeyError\n",
    "dic = {1:1,2:4,3:9,4:16,5:25}\n",
    "try:\n",
    "    dic[6]\n",
    "except LookupError as e:\n",
    "    print(f'the key :{e} is not found')"
   ]
  },
  {
   "cell_type": "markdown",
   "id": "b44c85f4",
   "metadata": {},
   "source": [
    "Q5. Explain ImportError. What is ModuleNotFoundError?\n",
    "\n",
    "Ans:- ImportError occurs when the desired module call to install is not found, hence it gives an error called ImportError."
   ]
  },
  {
   "cell_type": "code",
   "execution_count": 5,
   "id": "3ffdd3a9",
   "metadata": {},
   "outputs": [
    {
     "name": "stdout",
     "output_type": "stream",
     "text": [
      "No module named 'sudh'\n"
     ]
    }
   ],
   "source": [
    "try :\n",
    "    import sudh\n",
    "except ImportError as e : \n",
    "    print(e)"
   ]
  },
  {
   "cell_type": "markdown",
   "id": "bb7a3a51",
   "metadata": {},
   "source": [
    "Q6. List down some best practices for exception handling in python.\n",
    "\n",
    "Ans:- 1) We have to use specific exception.\n",
    "\n",
    "2) avoid using exception class before other otherwise Exception class will execicute only.\n",
    "\n",
    "3) Only use desired exception.\n",
    "\n",
    "4) Always use final statement to free resources.\n",
    "\n",
    "5) Always use self explained output statement.\n",
    "\n"
   ]
  },
  {
   "cell_type": "code",
   "execution_count": null,
   "id": "25ce7221",
   "metadata": {},
   "outputs": [],
   "source": []
  }
 ],
 "metadata": {
  "kernelspec": {
   "display_name": "Python 3 (ipykernel)",
   "language": "python",
   "name": "python3"
  },
  "language_info": {
   "codemirror_mode": {
    "name": "ipython",
    "version": 3
   },
   "file_extension": ".py",
   "mimetype": "text/x-python",
   "name": "python",
   "nbconvert_exporter": "python",
   "pygments_lexer": "ipython3",
   "version": "3.9.9"
  }
 },
 "nbformat": 4,
 "nbformat_minor": 5
}
