{
 "cells": [
  {
   "cell_type": "markdown",
   "id": "d743ef4c",
   "metadata": {},
   "source": [
    "Q1: What is the difference between a t-test and a z-test? Provide an example scenario where you would use each type of test."
   ]
  },
  {
   "cell_type": "markdown",
   "id": "09e1460e",
   "metadata": {},
   "source": [
    "Ans:- When the sample size is significantly large i.e. more than 30 then it shows the property of normal distribution, as a result we can inferer the conclusion about the population by studing this distribution and we use z- test in this situation, but if the sample size is lesser than 30 then the distribution does not shows normal distribution, instead it shows a bell shape curve with edges are not comming closer to zeros hence we do slight modification in the formula and make a t-test to predict about the population.\n",
    "\n",
    "When sample size is greater then or equall to 30 we use z-test, when sample size is less than 30 we use t test"
   ]
  },
  {
   "cell_type": "markdown",
   "id": "f22114da",
   "metadata": {},
   "source": [
    "Q2: Differentiate between one-tailed and two-tailed tests.\n",
    "\n",
    "Ans:- When we have a hypothesis which says that the value is greater than equall to some value , then we use one-tailed test because we have to check that the sample mean is lying right side of that p value or left side.\n",
    "on the other type of case when we have to check whether the value belong in a perticular range, then we have to consider both the left and right side of intervals and hence use two-tailed test."
   ]
  },
  {
   "cell_type": "markdown",
   "id": "ff7e71ef",
   "metadata": {},
   "source": [
    "Q3: Explain the concept of Type 1 and Type 2 errors in hypothesis testing. Provide an example scenario for each type of error."
   ]
  },
  {
   "cell_type": "markdown",
   "id": "cce08ab3",
   "metadata": {},
   "source": [
    "Ans:- When we reject the null hypotheses but we are wrong because in reality null hypothesis is correct then this type of error is Type 1 error. Example, Ho = avg height is 5'5\", on doing test we conclude that this hypothesis is incorrect, but in reality avg height of population is lying in this range. Hence we do type 1 error.\n",
    "\n",
    "In type 2 error we accept the null hypothesis but in reality alternative hypothesis is correct, example: ho= avg hight =5\" and H alt is avg height != 5 feet, on doing experiment on sample we conclude that null hypothesis is correct but in reality avg height does't belong to this category hence we do type 2 error."
   ]
  },
  {
   "cell_type": "markdown",
   "id": "1e21a613",
   "metadata": {},
   "source": [
    "Q4: Explain Bayes's theorem with an example.\n",
    "\n",
    "Ans:- P(b/d) = P(d/b)*P(b)  /P(d)\n",
    "\n",
    "it states that the probability of b when d is happened is equall to the prob of d given that b is already happened mul to prob of b whole div by prob of d\n",
    "\n",
    "suppose we have 2 machines producing bat with such that a produce 25% and b produce rest, a produce 2% defective bats and b produce 5% defective bags, we found that a bat is deffective, what is its probability that it is produced from bat a.\n",
    "\n",
    "given P(a) =.25, P(b) = .75, P(d/a) = .2, P(d/b) = .5, \n",
    "\n",
    "To find P(a/d) =?\n",
    "\n",
    "P(a/d) =P(d/b)*P(b)  /P(d)= "
   ]
  },
  {
   "cell_type": "code",
   "execution_count": 1,
   "id": "b5c72d48",
   "metadata": {},
   "outputs": [
    {
     "data": {
      "text/plain": [
       "0.11764705882352942"
      ]
     },
     "execution_count": 1,
     "metadata": {},
     "output_type": "execute_result"
    }
   ],
   "source": [
    ".2*.25/(.2*.25+.5*.75)"
   ]
  },
  {
   "cell_type": "markdown",
   "id": "0f272115",
   "metadata": {},
   "source": [
    "Q5: What is a confidence interval? How to calculate the confidence interval, explain with an example.\n",
    "\n",
    "Ans:- consider volume of pepsi is 2 L, and sd = 2 an employee says that the volume is not 2L so he conduct the test by taking 50 samples and found that the sample mean = 51L.\n",
    "as the sample is more that 50 we use z-test to find confidence intervals, lets take confidence interval as 95%\n",
    "We are doing 2 tail test so alpha/2 = +1.96 and -1.96 on both the side of distribution.\n",
    "so our confidence intervals are \n",
    "\n",
    "Confidence interval = sample mean ± (critical value) × (standard error of the mean)\n"
   ]
  },
  {
   "cell_type": "code",
   "execution_count": 2,
   "id": "48333469",
   "metadata": {},
   "outputs": [
    {
     "data": {
      "text/plain": [
       "51.554371716450255"
      ]
     },
     "execution_count": 2,
     "metadata": {},
     "output_type": "execute_result"
    }
   ],
   "source": [
    "51 + 1.96 * (2/(50)**.5)"
   ]
  },
  {
   "cell_type": "code",
   "execution_count": 3,
   "id": "57c08727",
   "metadata": {},
   "outputs": [
    {
     "data": {
      "text/plain": [
       "50.445628283549745"
      ]
     },
     "execution_count": 3,
     "metadata": {},
     "output_type": "execute_result"
    }
   ],
   "source": [
    "51 -1.96 * (2/(50)**.5)"
   ]
  },
  {
   "cell_type": "markdown",
   "id": "c99792bb",
   "metadata": {},
   "source": [
    "as the population mean lies in the interval hence our nul hypothesis is true and pepsi vol is 2L."
   ]
  },
  {
   "cell_type": "markdown",
   "id": "df13402f",
   "metadata": {},
   "source": [
    "Q6. Use Bayes' Theorem to calculate the probability of an event occurring given prior knowledge of the event's probability and new evidence. Provide a sample problem and solution.\n",
    "\n",
    "Ans:- P(b/d) = P(d/b)*P(b)  /P(d)\n",
    "\n",
    "it states that the probability of b when d is happened is equall to the prob of d given that b is already happened mul to prob of b whole div by prob of d\n",
    "\n",
    "suppose we have 2 machines producing bat with such that a produce 25% and b produce rest, a produce 2% defective bats and b produce 5% defective bags, we found that a bat is deffective, what is its probability that it is produced from bat a.\n",
    "\n",
    "given P(a) =.25, P(b) = .75, P(d/a) = .2, P(d/b) = .5, \n",
    "\n",
    "To find P(a/d) =?\n",
    "\n",
    "P(a/d) =P(d/b)*P(b)  /P(d)= "
   ]
  },
  {
   "cell_type": "code",
   "execution_count": 4,
   "id": "9f7c3808",
   "metadata": {},
   "outputs": [
    {
     "data": {
      "text/plain": [
       "0.11764705882352942"
      ]
     },
     "execution_count": 4,
     "metadata": {},
     "output_type": "execute_result"
    }
   ],
   "source": [
    ".2*.25/(.2*.25+.5*.75)"
   ]
  },
  {
   "cell_type": "markdown",
   "id": "9a291cca",
   "metadata": {},
   "source": [
    "Q7. Calculate the 95% confidence interval for a sample of data with a mean of 50 and a standard deviation of 5. Interpret the results.\n",
    "Ans:- as no. of sample is not given, so we consider that no. of sample is very large and sd represent the error in measurement.\n",
    "by applying z test for confidence level 95%:\n",
    "\n",
    "confidence interval = sample mean +- critical value * standard error\n"
   ]
  },
  {
   "cell_type": "code",
   "execution_count": 5,
   "id": "ccb88c5e",
   "metadata": {},
   "outputs": [
    {
     "name": "stdout",
     "output_type": "stream",
     "text": [
      "confidence intervals are  40.2  and  59.8\n"
     ]
    }
   ],
   "source": [
    "print('confidence intervals are ', 50 - 1.96 * 5, ' and ', 50 + 1.96 * 5)"
   ]
  },
  {
   "cell_type": "markdown",
   "id": "97a4001e",
   "metadata": {},
   "source": [
    "Q8. What is the margin of error in a confidence interval? How does sample size affect the margin of error? Provide an example of a scenario where a larger sample size would result in a smaller margin of error.\n",
    "\n",
    "Ans:- Margen of error is the amount of deviation allowed to obtain the specified confidence level. \n",
    "\n",
    "margin of error gets reduced and the confidence intervals shrinks and gets closer to the mean sample value because by increasing the sample size we are ensuring the sample mean is closely representing the population mean.\n",
    "\n",
    "suppose we have a small sample size  of 35 with sample mean 50  and sd = 5 then the confidence interval ="
   ]
  },
  {
   "cell_type": "code",
   "execution_count": 6,
   "id": "4c849958",
   "metadata": {},
   "outputs": [
    {
     "name": "stdout",
     "output_type": "stream",
     "text": [
      "confidence intervals are  48.343497660732105  and  51.656502339267895\n"
     ]
    }
   ],
   "source": [
    "print('confidence intervals are ', 50 - 1.96 * 5/(35)**.5, ' and ', 50 + 1.96 * 5/(35)**.5)"
   ]
  },
  {
   "cell_type": "code",
   "execution_count": 7,
   "id": "3b3bac36",
   "metadata": {},
   "outputs": [
    {
     "name": "stdout",
     "output_type": "stream",
     "text": [
      "confidence intervals are  49.56173067641004  and  50.43826932358996\n"
     ]
    }
   ],
   "source": [
    "# but if the sample size is increased to 500 then\n",
    "print('confidence intervals are ', 50 - 1.96 * 5/(500)**.5, ' and ', 50 + 1.96 * 5/(500)**.5)"
   ]
  },
  {
   "cell_type": "markdown",
   "id": "d2500e90",
   "metadata": {},
   "source": [
    "as it can be seen clearly that confidence interval shrinks as sample size increase"
   ]
  },
  {
   "cell_type": "markdown",
   "id": "d50ccb28",
   "metadata": {},
   "source": [
    "Q9. Calculate the z-score for a data point with a value of 75, a population mean of 70, and a population standard deviation of 5. Interpret the results."
   ]
  },
  {
   "cell_type": "code",
   "execution_count": 8,
   "id": "858316ad",
   "metadata": {},
   "outputs": [
    {
     "name": "stdout",
     "output_type": "stream",
     "text": [
      "z score is  1.0\n"
     ]
    }
   ],
   "source": [
    "print('z score is ',(75-70)/5)"
   ]
  },
  {
   "cell_type": "markdown",
   "id": "142be739",
   "metadata": {},
   "source": [
    "z score 1 indicates that it lies in 68% confidence level"
   ]
  },
  {
   "cell_type": "markdown",
   "id": "9192cbe6",
   "metadata": {},
   "source": [
    "Q10. In a study of the effectiveness of a new weight loss drug, a sample of 50 participants lost an average of 6 pounds with a standard deviation of 2.5 pounds. Conduct a hypothesis test to determine if the drug is significantly effective at a 95% confidence level using a t-test."
   ]
  },
  {
   "cell_type": "code",
   "execution_count": 9,
   "id": "88e65007",
   "metadata": {},
   "outputs": [],
   "source": [
    "# Ans:- H null = weight loss <=0\n",
    "#     H alt = weight loss > 0\n",
    "# given\n",
    "mu = 6; n = 50; sd = 2.5\n",
    "# We will do 1 tail z-test with alpha = .05\n",
    "critical_value = 1.96"
   ]
  },
  {
   "cell_type": "markdown",
   "id": "3476932f",
   "metadata": {},
   "source": [
    "so we will find the p value"
   ]
  },
  {
   "cell_type": "code",
   "execution_count": 10,
   "id": "08bce061",
   "metadata": {},
   "outputs": [
    {
     "data": {
      "text/plain": [
       "16.970562748477143"
      ]
     },
     "execution_count": 10,
     "metadata": {},
     "output_type": "execute_result"
    }
   ],
   "source": [
    "z_score = (mu-0)/(sd/n**.5)\n",
    "z_score"
   ]
  },
  {
   "cell_type": "markdown",
   "id": "c644c943",
   "metadata": {},
   "source": [
    "p value for z_score is 0 >.05 hence we reject the null hypothesis and conclude that the drug is significantly effective"
   ]
  },
  {
   "cell_type": "markdown",
   "id": "98ce5179",
   "metadata": {},
   "source": [
    "Q11. In a survey of 500 people, 65% reported being satisfied with their current job. Calculate the 95% confidence interval for the true proportion of people who are satisfied with their job."
   ]
  },
  {
   "cell_type": "markdown",
   "id": "440e4b28",
   "metadata": {},
   "source": [
    "Ans:- p(sample portion) = .65, n = 500, z = critical value for CI 95% = 1.96\n",
    "Confidence interval is given by  = p ± z*(sqrt(p*(1-p)/n))"
   ]
  },
  {
   "cell_type": "code",
   "execution_count": 11,
   "id": "4d4e3e5a",
   "metadata": {},
   "outputs": [
    {
     "name": "stdout",
     "output_type": "stream",
     "text": [
      "confidence interval is  60.8191771144905 % and  69.18082288550951 %\n"
     ]
    }
   ],
   "source": [
    "print('confidence interval is ',(.65-1.96*(.65*(1-.65)/500)**.5)*100,'% and ',(.65+1.96*(.65*(1-.65)/500)**.5)*100,'%')"
   ]
  },
  {
   "cell_type": "markdown",
   "id": "c87618e1",
   "metadata": {},
   "source": [
    "Q12. A researcher is testing the effectiveness of two different teaching methods on student performance. Sample A has a mean score of 85 with a standard deviation of 6, while sample B has a mean score of 82 with a standard deviation of 5. Conduct a hypothesis test to determine if the two teaching methods have a significant difference in student performance using a t-test with a significance level of 0.01.\n",
    "Ans:- Given-"
   ]
  },
  {
   "cell_type": "code",
   "execution_count": 12,
   "id": "15117ebb",
   "metadata": {},
   "outputs": [
    {
     "data": {
      "text/plain": [
       "0.2727272727272727"
      ]
     },
     "execution_count": 12,
     "metadata": {},
     "output_type": "execute_result"
    }
   ],
   "source": [
    "A_x = 85; A_sd = 6; B_x = 82; B_sd = 5\n",
    "# as number of sample is missing hence we take consider that sample size is large enough that sd will truly represent the error variation term\n",
    "t = (A_x-B_x)/(A_sd+B_sd)\n",
    "t"
   ]
  },
  {
   "cell_type": "markdown",
   "id": "c9b9075a",
   "metadata": {},
   "source": [
    "As critical value is 2.576 at 0.01 significant level for 2 tail test hence we accept the null hypothesis.\n",
    "\n",
    "Hence two groups have same mean"
   ]
  },
  {
   "cell_type": "markdown",
   "id": "dc77a79b",
   "metadata": {},
   "source": [
    "Q13. A population has a mean of 60 and a standard deviation of 8. A sample of 50 observations has a mean of 65. Calculate the 90% confidence interval for the true population mean.\n",
    "\n",
    "Ans:- Given:"
   ]
  },
  {
   "cell_type": "code",
   "execution_count": 13,
   "id": "a42c698e",
   "metadata": {},
   "outputs": [
    {
     "name": "stdout",
     "output_type": "stream",
     "text": [
      "confidence intervals are  63.1445518061665  and  66.8554481938335\n"
     ]
    }
   ],
   "source": [
    "mu = 60 ;sd = 8; n = 50; x = 65 \n",
    "critical_value = 1.645\n",
    "print('confidence intervals are ', x - 1.64 * 8/(50)**.5, ' and ', x + 1.64 * 8/(50)**.5)"
   ]
  },
  {
   "cell_type": "markdown",
   "id": "065790d6",
   "metadata": {},
   "source": [
    "Q14. In a study of the effects of caffeine on reaction time, a sample of 30 participants had an average reaction time of 0.25 seconds with a standard deviation of 0.05 seconds. Conduct a hypothesis test to determine if the caffeine has a significant effect on reaction time at a 90% confidence level using a t-test."
   ]
  },
  {
   "cell_type": "markdown",
   "id": "5233af20",
   "metadata": {},
   "source": [
    "Ans:- Cannot be solved as the question does not have population mean i.e. we don't know what is the average reaction of human without caffeine."
   ]
  }
 ],
 "metadata": {
  "kernelspec": {
   "display_name": "Python 3 (ipykernel)",
   "language": "python",
   "name": "python3"
  },
  "language_info": {
   "codemirror_mode": {
    "name": "ipython",
    "version": 3
   },
   "file_extension": ".py",
   "mimetype": "text/x-python",
   "name": "python",
   "nbconvert_exporter": "python",
   "pygments_lexer": "ipython3",
   "version": "3.9.9"
  }
 },
 "nbformat": 4,
 "nbformat_minor": 5
}
