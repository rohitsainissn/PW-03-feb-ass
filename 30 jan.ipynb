{
 "cells": [
  {
   "cell_type": "markdown",
   "id": "ce56b5a1",
   "metadata": {},
   "source": [
    "Q-1 grading program"
   ]
  },
  {
   "cell_type": "code",
   "execution_count": 1,
   "id": "57febb28",
   "metadata": {},
   "outputs": [
    {
     "name": "stdout",
     "output_type": "stream",
     "text": [
      "please enter your marks40\n",
      "D\n"
     ]
    }
   ],
   "source": [
    "def grad (marks):\n",
    "    \n",
    "    if marks>90:\n",
    "        print('A')\n",
    "    elif marks>80 and marks <=90:\n",
    "        print('B')\n",
    "    elif marks>=60 and marks <=80:\n",
    "        print('C')\n",
    "    elif marks<600:\n",
    "        print('D')\n",
    "grad(marks = int(input('please enter your marks')))"
   ]
  },
  {
   "cell_type": "markdown",
   "id": "3e4935ce",
   "metadata": {},
   "source": [
    "Q- enter cp and tax will we output"
   ]
  },
  {
   "cell_type": "code",
   "execution_count": 3,
   "id": "c34ce52a",
   "metadata": {},
   "outputs": [
    {
     "name": "stdout",
     "output_type": "stream",
     "text": [
      "enter cost price200000\n"
     ]
    },
    {
     "data": {
      "text/plain": [
       "'15%'"
      ]
     },
     "execution_count": 3,
     "metadata": {},
     "output_type": "execute_result"
    }
   ],
   "source": [
    "def tax(cp):\n",
    "    if cp>100000:\n",
    "        return '15%'\n",
    "    elif cp >50000 and cp<=100000:\n",
    "        return '10%'\n",
    "    elif cp <= 50000:\n",
    "        return '5%'\n",
    "tax(int(input('enter cost price')))"
   ]
  },
  {
   "cell_type": "markdown",
   "id": "ef141d63",
   "metadata": {},
   "source": [
    "Q-3 Accept the city display monument"
   ]
  },
  {
   "cell_type": "code",
   "execution_count": 4,
   "id": "dc310fe0",
   "metadata": {},
   "outputs": [
    {
     "name": "stdout",
     "output_type": "stream",
     "text": [
      "enter city nameDELhi\n",
      "Red Fort\n"
     ]
    }
   ],
   "source": [
    "dic = {'delhi': 'Red Fort', 'agra':'Taj Mahal', 'Jaipur': 'Jal Mahal'}\n",
    "print(dic[input('enter city name').lower()])\n"
   ]
  },
  {
   "cell_type": "markdown",
   "id": "b2c75540",
   "metadata": {},
   "source": [
    "\n",
    "Q-4 how many times a no div by three before it gets less than 10"
   ]
  },
  {
   "cell_type": "code",
   "execution_count": 5,
   "id": "ed78158f",
   "metadata": {},
   "outputs": [
    {
     "name": "stdout",
     "output_type": "stream",
     "text": [
      "enter the number300\n",
      "4\n"
     ]
    }
   ],
   "source": [
    "i = int(input('enter the number'))\n",
    "count = 0\n",
    "while i>10:\n",
    "    i/=3\n",
    "    count +=1\n",
    "print(count)"
   ]
  },
  {
   "cell_type": "code",
   "execution_count": 6,
   "id": "022574b8",
   "metadata": {},
   "outputs": [
    {
     "name": "stdout",
     "output_type": "stream",
     "text": [
      "current value of i after subtracting 10 is 40\n",
      "current value of i after subtracting 10 is 30\n",
      "current value of i after subtracting 10 is 20\n",
      "current value of i after subtracting 10 is 10\n",
      "current value of i after subtracting 10 is 0\n",
      "finally we make i less than 1\n"
     ]
    }
   ],
   "source": [
    "# Q-5 when and why we use while loop in python.\n",
    "\n",
    "# Ans:- When we have a condition and we need to run a loop till the condition is satisfyed we use while loop.Some time when we need to run infinite loop we can use while loop like while 1:\n",
    "\n",
    "i = 50\n",
    "while i>1:\n",
    "    i-=10\n",
    "    print(f'current value of i after subtracting 10 is {i}')\n",
    "print(f'finally we make i less than 1')"
   ]
  },
  {
   "cell_type": "code",
   "execution_count": 7,
   "id": "45628f5b",
   "metadata": {},
   "outputs": [
    {
     "name": "stdout",
     "output_type": "stream",
     "text": [
      "@@@@@@\n",
      "*****\n",
      "*****\n",
      "*****\n",
      "*****\n",
      "*****\n",
      "*****\n",
      "*****\n",
      "*****\n",
      "@@@@@\n",
      "@@@@\n",
      "@@@\n",
      "@@\n",
      "@\n"
     ]
    }
   ],
   "source": [
    "# Q- 6 Use nested while loop to print 3 different patterns.\n",
    "\n",
    "# pattern one\n",
    "i = 6\n",
    "j=8\n",
    "while i>0:\n",
    "    print('@'*i)\n",
    "    i-=1\n",
    "    while j>0: \n",
    "        print('*'*i)\n",
    "        j-=1"
   ]
  },
  {
   "cell_type": "code",
   "execution_count": 8,
   "id": "e8f31109",
   "metadata": {},
   "outputs": [
    {
     "name": "stdout",
     "output_type": "stream",
     "text": [
      "oooooooooooooooooooo\n",
      "******************************\n",
      "****************************\n",
      "**************************\n",
      "************************\n",
      "**********************\n",
      "********************\n",
      "******************\n",
      "****************\n",
      "**************\n",
      "************\n",
      "**********\n",
      "********\n",
      "******\n",
      "****\n",
      "**\n",
      "oooooooooooooooooo\n",
      "oooooooooooooooo\n",
      "oooooooooooooo\n",
      "oooooooooooo\n",
      "oooooooooo\n",
      "oooooooo\n",
      "oooooo\n",
      "oooo\n"
     ]
    }
   ],
   "source": [
    "i = 20\n",
    "j = 30\n",
    "while i>2:\n",
    "    print('o'*i)\n",
    "    i -=2\n",
    "    while j>0:\n",
    "        print('*'*j)\n",
    "        j-=2"
   ]
  },
  {
   "cell_type": "code",
   "execution_count": 9,
   "id": "02c017cb",
   "metadata": {},
   "outputs": [
    {
     "name": "stdout",
     "output_type": "stream",
     "text": [
      "\n",
      "\n",
      "******\n",
      "************\n",
      "******************\n",
      "************************\n",
      "******************************\n",
      "************************************\n",
      "******************************************\n",
      "************************************************\n",
      "******************************************************\n",
      "llllll\n",
      "llllllllllll\n",
      "llllllllllllllllll\n",
      "llllllllllllllllllllllll\n",
      "llllllllllllllllllllllllllllll\n",
      "llllllllllllllllllllllllllllllllllll\n",
      "llllllllllllllllllllllllllllllllllllllllll\n",
      "llllllllllllllllllllllllllllllllllllllllllllllll\n"
     ]
    }
   ],
   "source": [
    "i = 0\n",
    "j = 0\n",
    "while i<50:\n",
    "    print('l'*i)\n",
    "    i +=6\n",
    "    while j<60:\n",
    "        print('*'*j)\n",
    "        j+=6"
   ]
  },
  {
   "cell_type": "markdown",
   "id": "3309da0f",
   "metadata": {},
   "source": [
    "Q-7 reverse a while loop to display no from 10-1.\n"
   ]
  },
  {
   "cell_type": "code",
   "execution_count": 10,
   "id": "e65960a1",
   "metadata": {},
   "outputs": [
    {
     "name": "stdout",
     "output_type": "stream",
     "text": [
      "10\n",
      "9\n",
      "8\n",
      "7\n",
      "6\n",
      "5\n",
      "4\n",
      "3\n",
      "2\n",
      "1\n"
     ]
    }
   ],
   "source": [
    "i=10\n",
    "while i>0:\n",
    "    print(i)\n",
    "    i-=1\n"
   ]
  },
  {
   "cell_type": "code",
   "execution_count": null,
   "id": "969190d0",
   "metadata": {},
   "outputs": [],
   "source": []
  }
 ],
 "metadata": {
  "kernelspec": {
   "display_name": "Python 3 (ipykernel)",
   "language": "python",
   "name": "python3"
  },
  "language_info": {
   "codemirror_mode": {
    "name": "ipython",
    "version": 3
   },
   "file_extension": ".py",
   "mimetype": "text/x-python",
   "name": "python",
   "nbconvert_exporter": "python",
   "pygments_lexer": "ipython3",
   "version": "3.9.9"
  }
 },
 "nbformat": 4,
 "nbformat_minor": 5
}
