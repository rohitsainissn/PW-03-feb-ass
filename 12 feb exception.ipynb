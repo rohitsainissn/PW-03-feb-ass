{
 "cells": [
  {
   "cell_type": "markdown",
   "id": "f5cb3d79",
   "metadata": {},
   "source": [
    "Q- What is an exception in python? Write the difference between Exceptions and syntax errors?\n",
    "\n",
    "Ans:- Suppose you input a string with alphabets and apply int on top of it, as the string is not digit, then python gives the exception that the input is not digit.\n",
    "On the other hand when there is an error in code, you will get syntax error."
   ]
  },
  {
   "cell_type": "code",
   "execution_count": 1,
   "id": "7684af42",
   "metadata": {},
   "outputs": [
    {
     "name": "stdout",
     "output_type": "stream",
     "text": [
      "enter number6\n"
     ]
    }
   ],
   "source": [
    "a =int(input(\"enter number\")) # enter a alphabet and see the exception"
   ]
  },
  {
   "cell_type": "markdown",
   "id": "920c60d3",
   "metadata": {},
   "source": [
    "Q-2 What happen when the exception is not handled?\n",
    "\n",
    "Ans:- when the exception is not handled our program gives the error message of exception and it will not run further,\n",
    "we need exception handling so that our program will not give the error, run smoothly and if needed we will handled the exception and give error as output without stoping the program such that next steps of programe will run smoothly."
   ]
  },
  {
   "cell_type": "code",
   "execution_count": 2,
   "id": "8f6b084a",
   "metadata": {},
   "outputs": [
    {
     "name": "stdout",
     "output_type": "stream",
     "text": [
      "enter number a6\n",
      "enter number b6\n",
      "1.0\n",
      "the product of a and b is  36\n"
     ]
    }
   ],
   "source": [
    "# Here we can see the when we enter b = 0 program gives division by 0 error and stops without giving the product of a&b \n",
    "a,b = int(input('enter number a')),int(input('enter number b'))\n",
    "print(a/b)\n",
    "pro = print('the product of a and b is ',a*b)"
   ]
  },
  {
   "cell_type": "code",
   "execution_count": 3,
   "id": "bfc1d5fa",
   "metadata": {},
   "outputs": [
    {
     "name": "stdout",
     "output_type": "stream",
     "text": [
      "enter number a6\n",
      "enter number b6\n",
      "1.0\n",
      "the product of a and b is  36\n"
     ]
    }
   ],
   "source": [
    "# here we handle the div by zero exception so that the programe will perform the further code\n",
    "\n",
    "a,b = int(input('enter number a')),int(input('enter number b'))\n",
    "try:\n",
    "    print(a/b)\n",
    "except Exception as e:\n",
    "    print (f'unable to give output because of the following error :- {e}')\n",
    "pro = print('the product of a and b is ',a*b)"
   ]
  },
  {
   "cell_type": "markdown",
   "id": "ad1d2809",
   "metadata": {},
   "source": [
    "Q-3 Which Python statements are used to catch and handle exception?\n",
    "\n",
    "Ans:- try and except statements are used to catch and handle exceptions."
   ]
  },
  {
   "cell_type": "markdown",
   "id": "0974fbb2",
   "metadata": {},
   "source": [
    "Q- use try and except, finally raise"
   ]
  },
  {
   "cell_type": "code",
   "execution_count": 4,
   "id": "0092cc0c",
   "metadata": {},
   "outputs": [],
   "source": [
    "class new_exception(Exception) : \n",
    "    def __init__(self, msg) :\n",
    "        self.msg = msg"
   ]
  },
  {
   "cell_type": "code",
   "execution_count": 5,
   "id": "2f74ed2f",
   "metadata": {},
   "outputs": [],
   "source": [
    "def correct (b):\n",
    "    if b==0:\n",
    "        raise new_exception('you have entered zero at b')\n",
    "    else:\n",
    "        print('valid')\n",
    "        "
   ]
  },
  {
   "cell_type": "code",
   "execution_count": 6,
   "id": "ec0f9eb2",
   "metadata": {},
   "outputs": [
    {
     "name": "stdout",
     "output_type": "stream",
     "text": [
      "you have entered zero at b\n",
      "Thanks for using our programe\n"
     ]
    }
   ],
   "source": [
    "try:\n",
    "    a,b=1,0\n",
    "    correct(b)\n",
    "except new_exception as e:\n",
    "    print(e)\n",
    "else:\n",
    "    print(a/b)\n",
    "    print('programe run without error')\n",
    "finally:\n",
    "    print('Thanks for using our programe')\n",
    "    "
   ]
  },
  {
   "cell_type": "markdown",
   "id": "e70326d2",
   "metadata": {},
   "source": [
    "Q- Write costum excctatio handling and its uses?\n",
    "Ans:- Some times our sysem accept a value which is logically not exceptable , hence we have to raise an costum exception, suppose we are requested to enter age of a person, some one enter -11, as -11 is an integer value hence our programe save it as age but we know that age cannot be negative so we do custom exception handling to raise such problem to user."
   ]
  },
  {
   "cell_type": "code",
   "execution_count": 7,
   "id": "1bba531f",
   "metadata": {},
   "outputs": [
    {
     "name": "stdout",
     "output_type": "stream",
     "text": [
      "you have entered zero at b\n",
      "Thanks for using our programe\n"
     ]
    }
   ],
   "source": [
    "class new_exception(Exception) : \n",
    "    def __init__(self, msg) :\n",
    "        self.msg = msg\n",
    "def correct (b):\n",
    "    if b==0:\n",
    "        raise new_exception('you have entered zero at b')\n",
    "    else:\n",
    "        print('valid')\n",
    "try:\n",
    "    a,b=1,0\n",
    "    correct(b)\n",
    "except new_exception as e:\n",
    "    print(e)\n",
    "else:\n",
    "    print(a/b)\n",
    "    print('programe run without error')\n",
    "finally:\n",
    "    print('Thanks for using our programe')"
   ]
  },
  {
   "cell_type": "markdown",
   "id": "d1a04a2c",
   "metadata": {},
   "source": [
    "Q- create a custom exception handeling programe."
   ]
  },
  {
   "cell_type": "code",
   "execution_count": 8,
   "id": "fd80f3fb",
   "metadata": {},
   "outputs": [
    {
     "name": "stdout",
     "output_type": "stream",
     "text": [
      "you have entered zero at b\n",
      "Thanks for using our programe\n"
     ]
    }
   ],
   "source": [
    "class new_exception(Exception) : \n",
    "    def __init__(self, msg) :\n",
    "        self.msg = msg\n",
    "def correct (b):\n",
    "    if b==0:\n",
    "        raise new_exception('you have entered zero at b')\n",
    "    else:\n",
    "        print('valid')\n",
    "try:\n",
    "    a,b=1,0\n",
    "    correct(b)\n",
    "except new_exception as e:\n",
    "    print(e)\n",
    "else:\n",
    "    print(a/b)\n",
    "    print('programe run without error')\n",
    "finally:\n",
    "    print('Thanks for using our programe')"
   ]
  },
  {
   "cell_type": "code",
   "execution_count": null,
   "id": "8e545e54",
   "metadata": {},
   "outputs": [],
   "source": []
  }
 ],
 "metadata": {
  "kernelspec": {
   "display_name": "Python 3 (ipykernel)",
   "language": "python",
   "name": "python3"
  },
  "language_info": {
   "codemirror_mode": {
    "name": "ipython",
    "version": 3
   },
   "file_extension": ".py",
   "mimetype": "text/x-python",
   "name": "python",
   "nbconvert_exporter": "python",
   "pygments_lexer": "ipython3",
   "version": "3.10.9"
  }
 },
 "nbformat": 4,
 "nbformat_minor": 5
}
