{
 "cells": [
  {
   "cell_type": "markdown",
   "id": "97be724f",
   "metadata": {},
   "source": [
    "Q1. Create a function which will take a list as an argument and return the product of all the numbers\n",
    "after creating a flat list.\n",
    "Use the below-given list as an argument for your function.\n",
    "list1 = [1,2,3,4, [44,55,66, True], False, (34,56,78,89,34), {1,2,3,3,2,1}, {1:34, \"key2\": [55, 67, 78, 89], 4: (45,\n",
    "22, 61, 34)}, [56, 'data science'], 'Machine Learning']\n",
    "Note: you must extract numeric keys and values of the dictionary also.\n"
   ]
  },
  {
   "cell_type": "code",
   "execution_count": 1,
   "id": "5027241e",
   "metadata": {},
   "outputs": [],
   "source": [
    "list1 = [1,2,3,4, [44,55,66, True], False, (34,56,78,89,34), {1,2,3,3,2,1}, {1:34, \"key2\": [55, 67, 78, 89], 4: (45, 22, 61, 34)}, [56, 'data science'], 'Machine Learning']\n"
   ]
  },
  {
   "cell_type": "code",
   "execution_count": 2,
   "id": "eea13611",
   "metadata": {},
   "outputs": [],
   "source": [
    "from functools import reduce"
   ]
  },
  {
   "cell_type": "code",
   "execution_count": 3,
   "id": "1a9939c1",
   "metadata": {},
   "outputs": [
    {
     "data": {
      "text/plain": [
       "4134711838987085478833841242112000"
      ]
     },
     "execution_count": 3,
     "metadata": {},
     "output_type": "execute_result"
    }
   ],
   "source": [
    "def flat(li):\n",
    "\n",
    "    flat_li =[]\n",
    "    for i in li:\n",
    "        if isinstance(i,str):\n",
    "            continue\n",
    "        if str(i).isnumeric():\n",
    "            flat_li.append(i)\n",
    "        if isinstance(i, (list, set, tuple)):\n",
    "            flat_li.extend(flat(i))\n",
    "        elif isinstance(i,dict):\n",
    "            for k,v in i.items():\n",
    "                if str(k).isnumeric():\n",
    "                    flat_li.append(k)\n",
    "                else:\n",
    "                    flat_li.extend(flat(k))\n",
    "\n",
    "                if str(v).isnumeric():\n",
    "                    flat_li.append(v)\n",
    "                else:\n",
    "                    flat_li.extend(flat(v))\n",
    "    return flat_li\n",
    "#     product = reduce(lambda x, y: x * y, flat_li)\n",
    "#     return product     # dont know why this code is not working\n",
    "\n",
    "list1 = [1,2,3,4, [44,55,66, True], False, (34,56,78,89,34), {1,2,3,3,2,1}, {1:34, \"key2\": [55, 67, 78, 89], 4: (45, 22, 61, 34)}, [56, 'data science'], 'Machine Learning']\n",
    "\n",
    "reduce(lambda x, y: x * y, flat(list1))    "
   ]
  },
  {
   "cell_type": "code",
   "execution_count": 4,
   "id": "1dd430a0",
   "metadata": {},
   "outputs": [
    {
     "data": {
      "text/plain": [
       "4134711838987085478833841242112000"
      ]
     },
     "execution_count": 4,
     "metadata": {},
     "output_type": "execute_result"
    }
   ],
   "source": [
    "flat_li = flat(list1)\n",
    "product = reduce(lambda x, y: x * y, flat_li)\n",
    "product"
   ]
  },
  {
   "cell_type": "markdown",
   "id": "ec57484e",
   "metadata": {},
   "source": [
    "Q2. Write a python program for encrypting a message sent to you by your friend. The logic of encryption\n",
    "should be such that, for a the output should be z. For b, the output should be y. For c, the output should\n",
    "be x respectively. Also, the whitespace should be replaced with a dollar sign. Keep the punctuation\n",
    "marks unchanged.\n",
    "Input Sentence: I want to become a Data Scientist.\n",
    "Encrypt the above input sentence using the program you just created.\n",
    "Note: Convert the given input sentence into lowercase before encrypting. The final output should be\n",
    "lowercase."
   ]
  },
  {
   "cell_type": "code",
   "execution_count": 5,
   "id": "236fde14",
   "metadata": {},
   "outputs": [],
   "source": [
    "import string\n",
    "def enc (inp):\n",
    "    alp = list(string.ascii_lowercase)\n",
    "    rev = ['z','y','x','w','v','u','t','s','r','q','p','o','n','m','l','k','j','i','h','g','f','e','d','c','b','a']\n",
    "    inp = list(inp.lower())\n",
    "    for i in range (len(inp)):\n",
    "        if inp[i] in alp:\n",
    "            inp[i]= rev[alp.index(inp[i])]\n",
    "        elif inp[i]== ' ':\n",
    "            inp[i]='$' \n",
    "    final =''\n",
    "    for i in inp:\n",
    "        final+=i\n",
    "    return final"
   ]
  }
 ],
 "metadata": {
  "kernelspec": {
   "display_name": "Python 3 (ipykernel)",
   "language": "python",
   "name": "python3"
  },
  "language_info": {
   "codemirror_mode": {
    "name": "ipython",
    "version": 3
   },
   "file_extension": ".py",
   "mimetype": "text/x-python",
   "name": "python",
   "nbconvert_exporter": "python",
   "pygments_lexer": "ipython3",
   "version": "3.9.9"
  }
 },
 "nbformat": 4,
 "nbformat_minor": 5
}
