{
 "cells": [
  {
   "cell_type": "markdown",
   "id": "9e48bc45",
   "metadata": {},
   "source": [
    "Q1. Which function is used to open a file? What are the different modes of opening a file? Explain each mode\n",
    "of file opening.\n",
    "Ans:-\n",
    "'r'       open for reading (default)\n",
    "'w'       open for writing, truncating the file first\n",
    "'x'       create a new file and open it for writing\n",
    "'a'       open for writing, appending to the end of the file if it exists\n",
    "'b'       binary mode\n",
    "'t'       text mode (default)\n",
    "'+'       open a disk file for updating (reading and writing)\n",
    "'U'       universal newline mode (deprecated)"
   ]
  },
  {
   "cell_type": "code",
   "execution_count": 1,
   "id": "098459fd",
   "metadata": {},
   "outputs": [
    {
     "name": "stdout",
     "output_type": "stream",
     "text": [
      "hi, my name is rohit.\n",
      "I am an engineering, did my b.tech from DTU.\n",
      "I have done my data science course from Applied roots and PW skills.\n",
      "I have done multiple projects in ML and DS.\n"
     ]
    }
   ],
   "source": [
    "with open ('text.txt') as f:\n",
    "    r=f.read()\n",
    "    print(r)\n",
    "    "
   ]
  },
  {
   "cell_type": "markdown",
   "id": "5fc6d067",
   "metadata": {},
   "source": [
    "Q2. Why close() function is used? Why is it important to close a file?\n",
    "\n",
    "Ans:- The close() method closes an open file. We should always close your files, in some cases, due to buffering, changes made to a file may not show until you close the file.\n"
   ]
  },
  {
   "cell_type": "markdown",
   "id": "a23d0b2f",
   "metadata": {},
   "source": [
    "Q3. Write a python program to create a text file. Write ‘I want to become a Data Scientist’ in that file. Then\n",
    "close the file. Open this file and read the content of the file."
   ]
  },
  {
   "cell_type": "code",
   "execution_count": 2,
   "id": "2bc60bf0",
   "metadata": {},
   "outputs": [
    {
     "name": "stdout",
     "output_type": "stream",
     "text": [
      "I want to become a Data Scientist\n"
     ]
    }
   ],
   "source": [
    "f=open ('ds.txt','w')\n",
    "f.write('I want to become a Data Scientist')\n",
    "f.close()\n",
    "with open ('ds.txt') as f:\n",
    "    r=f.read()\n",
    "    print(r)"
   ]
  },
  {
   "cell_type": "markdown",
   "id": "2e890714",
   "metadata": {},
   "source": [
    "Q4. Explain the following with python code: read(), readline() and readlines().\n",
    "\n"
   ]
  },
  {
   "cell_type": "code",
   "execution_count": 3,
   "id": "a68b79b7",
   "metadata": {},
   "outputs": [
    {
     "name": "stdout",
     "output_type": "stream",
     "text": [
      "hi, my name is rohit.\n",
      "I am an engineering, did my b.tech from DTU.\n",
      "I have done my data science course from Applied roots and PW skills.\n",
      "I have done multiple projects in ML and DS.\n",
      "------------------------------------------\n",
      "hi, my name is rohit.\n",
      "\n",
      "I am an engineering, did my b.tech from DTU.\n",
      "\n",
      "I have done my data science course from Applied roots and PW skills.\n",
      "\n",
      "I have done multiple projects in ML and DS.\n",
      "------------------------------------------\n",
      "['hi, my name is rohit.\\n', 'I am an engineering, did my b.tech from DTU.\\n', 'I have done my data science course from Applied roots and PW skills.\\n', 'I have done multiple projects in ML and DS.']\n"
     ]
    }
   ],
   "source": [
    "# read() will read all the text at once and you can print the entire text\n",
    "with open ('text.txt') as f:\n",
    "    r=f.read()\n",
    "    print(r)\n",
    "print('------------------------------------------')\n",
    "# can read the contents of a file line by line, which can be useful for processing large files that do not fit in memory\n",
    "with open ('text.txt') as f:\n",
    "    line = f.readline()\n",
    "    while line:\n",
    "        print(line)       \n",
    "        line =f.readline()\n",
    "\n",
    "print('------------------------------------------')  \n",
    "# the readlines method reads the entire contents of a file and returns it as a list of strings, where each element of the list is a single line of the file   \n",
    "with open ('text.txt') as f:\n",
    "    r=f.readlines()\n",
    "    print(r)"
   ]
  },
  {
   "cell_type": "markdown",
   "id": "1443ad19",
   "metadata": {},
   "source": [
    "Q5. Explain why with statement is used with open(). What is the advantage of using with statement and\n",
    "open() together?\n",
    "\n",
    "Ans:- If file is open with with open, then no need to close the file."
   ]
  },
  {
   "cell_type": "markdown",
   "id": "712fb56b",
   "metadata": {},
   "source": [
    "Q6. Explain the write() and writelines() functions. Give a suitable example.\n",
    "\n",
    "Ans:- The only difference between the write() and writelines() is that write() is used to write a string to an already opened file while writelines() method is used to write a list of strings in an opened file."
   ]
  },
  {
   "cell_type": "code",
   "execution_count": 4,
   "id": "62d50f5e",
   "metadata": {},
   "outputs": [],
   "source": [
    "with open('new.txt','w') as f:\n",
    "     f.write('hi, I am here to write the write function. it is very good')"
   ]
  },
  {
   "cell_type": "code",
   "execution_count": 5,
   "id": "e4929770",
   "metadata": {},
   "outputs": [],
   "source": [
    "with open(\"new1.txt\", \"w\") as g:\n",
    "    g.writelines([\"See you soon!\", \"Over and out.\",'please leave'])\n"
   ]
  }
 ],
 "metadata": {
  "kernelspec": {
   "display_name": "Python 3 (ipykernel)",
   "language": "python",
   "name": "python3"
  },
  "language_info": {
   "codemirror_mode": {
    "name": "ipython",
    "version": 3
   },
   "file_extension": ".py",
   "mimetype": "text/x-python",
   "name": "python",
   "nbconvert_exporter": "python",
   "pygments_lexer": "ipython3",
   "version": "3.9.9"
  }
 },
 "nbformat": 4,
 "nbformat_minor": 5
}
